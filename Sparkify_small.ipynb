{
 "cells": [
  {
   "cell_type": "markdown",
   "metadata": {},
   "source": [
    "# Sparkify  \n",
    "## Churn Prediction with PySpark on Big Data"
   ]
  },
  {
   "cell_type": "markdown",
   "metadata": {},
   "source": [
    "_Sparkify_ is a fake music streaming service invented by Udacity. Here users can listen to music for free (with ads between songs) or for a flat fee. Users can upgrade, downgrade, or cancel. My task is to predict the user who is going to leave in order to offer him a great discount before canceling the subscription."
   ]
  },
  {
   "cell_type": "markdown",
   "metadata": {},
   "source": [
    "My goal in this project was to create a binary classifier based on templates obtained from their past activities and interaction with the Sparkify service, which defines users who want to сhurn the service before they сhurn."
   ]
  },
  {
   "cell_type": "code",
   "execution_count": 1,
   "metadata": {},
   "outputs": [
    {
     "data": {
      "application/vnd.jupyter.widget-view+json": {
       "model_id": "f6e423fa216049ecb295d2ace1f2de20",
       "version_major": 2,
       "version_minor": 0
      },
      "text/plain": [
       "VBox()"
      ]
     },
     "metadata": {},
     "output_type": "display_data"
    },
    {
     "name": "stdout",
     "output_type": "stream",
     "text": [
      "Starting Spark application\n"
     ]
    },
    {
     "data": {
      "text/html": [
       "<table>\n",
       "<tr><th>ID</th><th>YARN Application ID</th><th>Kind</th><th>State</th><th>Spark UI</th><th>Driver log</th><th>Current session?</th></tr><tr><td>1</td><td>application_1612039324826_0002</td><td>pyspark</td><td>idle</td><td><a target=\"_blank\" href=\"http://ip-172-31-9-2.us-west-2.compute.internal:20888/proxy/application_1612039324826_0002/\">Link</a></td><td><a target=\"_blank\" href=\"http://ip-172-31-0-87.us-west-2.compute.internal:8042/node/containerlogs/container_1612039324826_0002_01_000001/livy\">Link</a></td><td>✔</td></tr></table>"
      ],
      "text/plain": [
       "<IPython.core.display.HTML object>"
      ]
     },
     "metadata": {},
     "output_type": "display_data"
    },
    {
     "data": {
      "application/vnd.jupyter.widget-view+json": {
       "model_id": "",
       "version_major": 2,
       "version_minor": 0
      },
      "text/plain": [
       "FloatProgress(value=0.0, bar_style='info', description='Progress:', layout=Layout(height='25px', width='50%'),…"
      ]
     },
     "metadata": {},
     "output_type": "display_data"
    },
    {
     "name": "stdout",
     "output_type": "stream",
     "text": [
      "SparkSession available as 'spark'.\n"
     ]
    },
    {
     "data": {
      "application/vnd.jupyter.widget-view+json": {
       "model_id": "",
       "version_major": 2,
       "version_minor": 0
      },
      "text/plain": [
       "FloatProgress(value=0.0, bar_style='info', description='Progress:', layout=Layout(height='25px', width='50%'),…"
      ]
     },
     "metadata": {},
     "output_type": "display_data"
    },
    {
     "name": "stdout",
     "output_type": "stream",
     "text": [
      "Available memory: 11171M"
     ]
    }
   ],
   "source": [
    "#checking memory\n",
    "print('Available memory: {}'.format(spark.sparkContext.getConf().get('spark.driver.memory')))"
   ]
  },
  {
   "cell_type": "code",
   "execution_count": 2,
   "metadata": {},
   "outputs": [
    {
     "data": {
      "application/vnd.jupyter.widget-view+json": {
       "model_id": "a72984ee36c24a46bfca0f1dc237bbd2",
       "version_major": 2,
       "version_minor": 0
      },
      "text/plain": [
       "VBox()"
      ]
     },
     "metadata": {},
     "output_type": "display_data"
    },
    {
     "data": {
      "application/vnd.jupyter.widget-view+json": {
       "model_id": "",
       "version_major": 2,
       "version_minor": 0
      },
      "text/plain": [
       "FloatProgress(value=0.0, bar_style='info', description='Progress:', layout=Layout(height='25px', width='50%'),…"
      ]
     },
     "metadata": {},
     "output_type": "display_data"
    },
    {
     "name": "stdout",
     "output_type": "stream",
     "text": [
      "Collecting pandas\n",
      "  Using cached https://files.pythonhosted.org/packages/7a/c2/339e302d4122cb8b166aecc823afed4af6b2193f040f2656eea77d174146/pandas-1.2.1-cp37-cp37m-manylinux1_x86_64.whl\n",
      "Requirement already satisfied: numpy>=1.16.5 in /usr/local/lib64/python3.7/site-packages (from pandas)\n",
      "Requirement already satisfied: pytz>=2017.3 in /usr/local/lib/python3.7/site-packages (from pandas)\n",
      "Collecting python-dateutil>=2.7.3 (from pandas)\n",
      "  Using cached https://files.pythonhosted.org/packages/d4/70/d60450c3dd48ef87586924207ae8907090de0b306af2bce5d134d78615cb/python_dateutil-2.8.1-py2.py3-none-any.whl\n",
      "Requirement already satisfied: six>=1.5 in /usr/local/lib/python3.7/site-packages (from python-dateutil>=2.7.3->pandas)\n",
      "Installing collected packages: python-dateutil, pandas\n",
      "Successfully installed pandas-1.2.1 python-dateutil-2.8.1\n",
      "\n",
      "Collecting matplotlib\n",
      "  Using cached https://files.pythonhosted.org/packages/23/3d/db9a6b3c83c9511301152dbb64a029c3a4313c86eaef12c237b13ecf91d6/matplotlib-3.3.4-cp37-cp37m-manylinux1_x86_64.whl\n",
      "Requirement already satisfied: numpy>=1.15 in /usr/local/lib64/python3.7/site-packages (from matplotlib)\n",
      "Requirement already satisfied: python-dateutil>=2.1 in /mnt/tmp/1612047982469-0/lib/python3.7/site-packages (from matplotlib)\n",
      "Collecting pyparsing!=2.0.4,!=2.1.2,!=2.1.6,>=2.0.3 (from matplotlib)\n",
      "  Using cached https://files.pythonhosted.org/packages/8a/bb/488841f56197b13700afd5658fc279a2025a39e22449b7cf29864669b15d/pyparsing-2.4.7-py2.py3-none-any.whl\n",
      "Collecting pillow>=6.2.0 (from matplotlib)\n",
      "  Using cached https://files.pythonhosted.org/packages/eb/8e/d2f7a67cf8da9b83c1e3ee38dbf49448f3c8acb2cb38f76e4301f4a70223/Pillow-8.1.0-cp37-cp37m-manylinux1_x86_64.whl\n",
      "Collecting cycler>=0.10 (from matplotlib)\n",
      "  Using cached https://files.pythonhosted.org/packages/f7/d2/e07d3ebb2bd7af696440ce7e754c59dd546ffe1bbe732c8ab68b9c834e61/cycler-0.10.0-py2.py3-none-any.whl\n",
      "Collecting kiwisolver>=1.0.1 (from matplotlib)\n",
      "  Using cached https://files.pythonhosted.org/packages/d2/46/231de802ade4225b76b96cffe419cf3ce52bbe92e3b092cf12db7d11c207/kiwisolver-1.3.1-cp37-cp37m-manylinux1_x86_64.whl\n",
      "Requirement already satisfied: six>=1.5 in /usr/local/lib/python3.7/site-packages (from python-dateutil>=2.1->matplotlib)\n",
      "Installing collected packages: pyparsing, pillow, cycler, kiwisolver, matplotlib\n",
      "Successfully installed cycler-0.10.0 kiwisolver-1.3.1 matplotlib-3.3.4 pillow-8.1.0 pyparsing-2.4.7\n",
      "\n",
      "Collecting seaborn\n",
      "  Using cached https://files.pythonhosted.org/packages/68/ad/6c2406ae175f59ec616714e408979b674fe27b9587f79d59a528ddfbcd5b/seaborn-0.11.1-py3-none-any.whl\n",
      "Requirement already satisfied: numpy>=1.15 in /usr/local/lib64/python3.7/site-packages (from seaborn)\n",
      "Collecting scipy>=1.0 (from seaborn)\n",
      "  Using cached https://files.pythonhosted.org/packages/58/9d/8296d8211318d690119eba6d293b7a149c1c51c945342dd4c3816f79e1ba/scipy-1.6.0-cp37-cp37m-manylinux1_x86_64.whl\n",
      "Requirement already satisfied: matplotlib>=2.2 in /mnt/tmp/1612047982469-0/lib/python3.7/site-packages (from seaborn)\n",
      "Requirement already satisfied: pandas>=0.23 in /mnt/tmp/1612047982469-0/lib/python3.7/site-packages (from seaborn)\n",
      "Requirement already satisfied: python-dateutil>=2.1 in /mnt/tmp/1612047982469-0/lib/python3.7/site-packages (from matplotlib>=2.2->seaborn)\n",
      "Requirement already satisfied: pyparsing!=2.0.4,!=2.1.2,!=2.1.6,>=2.0.3 in /mnt/tmp/1612047982469-0/lib/python3.7/site-packages (from matplotlib>=2.2->seaborn)\n",
      "Requirement already satisfied: pillow>=6.2.0 in /mnt/tmp/1612047982469-0/lib/python3.7/site-packages (from matplotlib>=2.2->seaborn)\n",
      "Requirement already satisfied: cycler>=0.10 in /mnt/tmp/1612047982469-0/lib/python3.7/site-packages (from matplotlib>=2.2->seaborn)\n",
      "Requirement already satisfied: kiwisolver>=1.0.1 in /mnt/tmp/1612047982469-0/lib/python3.7/site-packages (from matplotlib>=2.2->seaborn)\n",
      "Requirement already satisfied: pytz>=2017.3 in /usr/local/lib/python3.7/site-packages (from pandas>=0.23->seaborn)\n",
      "Requirement already satisfied: six>=1.5 in /usr/local/lib/python3.7/site-packages (from python-dateutil>=2.1->matplotlib>=2.2->seaborn)\n",
      "Installing collected packages: scipy, seaborn\n",
      "Successfully installed scipy-1.6.0 seaborn-0.11.1"
     ]
    }
   ],
   "source": [
    "# We need to install pandas, matplotlib and seaborn\n",
    "# Amazon EMR doesn't have these packages by default\n",
    "\n",
    "sc.install_pypi_package(\"pandas\", \"https://pypi.org/simple\") #Install pandas from given PyPI repository\n",
    "sc.install_pypi_package(\"matplotlib\", \"https://pypi.org/simple\") #Install matplotlib from given PyPI repository\n",
    "sc.install_pypi_package(\"seaborn\", \"https://pypi.org/simple\") #Install seaborn from given PyPI repository"
   ]
  },
  {
   "cell_type": "code",
   "execution_count": 3,
   "metadata": {},
   "outputs": [
    {
     "data": {
      "application/vnd.jupyter.widget-view+json": {
       "model_id": "b7885d0c9a0c4e09b9a2a3545f26651e",
       "version_major": 2,
       "version_minor": 0
      },
      "text/plain": [
       "VBox()"
      ]
     },
     "metadata": {},
     "output_type": "display_data"
    },
    {
     "data": {
      "application/vnd.jupyter.widget-view+json": {
       "model_id": "",
       "version_major": 2,
       "version_minor": 0
      },
      "text/plain": [
       "FloatProgress(value=0.0, bar_style='info', description='Progress:', layout=Layout(height='25px', width='50%'),…"
      ]
     },
     "metadata": {},
     "output_type": "display_data"
    }
   ],
   "source": [
    "# Create spark session\n",
    "# import libraries\n",
    "import datetime\n",
    "import time\n",
    "import numpy as np\n",
    "import pandas as pd\n",
    "import matplotlib.pyplot as plt\n",
    "import seaborn as sns\n",
    "\n",
    "from pyspark import SparkContext, SparkConf\n",
    "from pyspark.sql import SparkSession\n",
    "from pyspark.sql import Window\n",
    "from pyspark.sql.functions import udf, col, concat, count, lit, avg, lag, first, last, when\n",
    "from pyspark.sql.functions import min as Fmin, max as Fmax, sum as Fsum, round as Fround\n",
    "\n",
    "from pyspark.sql.types import IntegerType, DateType, TimestampType, StringType\n",
    "\n",
    "from pyspark.ml.feature import StandardScaler, VectorAssembler\n",
    "from pyspark.ml.evaluation import MulticlassClassificationEvaluator, RegressionEvaluator\n",
    "from pyspark.ml.classification import GBTClassifier, RandomForestClassifier, LinearSVC, LogisticRegression\n",
    "from pyspark.ml.tuning import CrossValidator, ParamGridBuilder\n",
    "from pyspark.ml import Pipeline"
   ]
  },
  {
   "cell_type": "code",
   "execution_count": 4,
   "metadata": {},
   "outputs": [
    {
     "data": {
      "application/vnd.jupyter.widget-view+json": {
       "model_id": "50bfb71a8aae416b9690fdd441c58326",
       "version_major": 2,
       "version_minor": 0
      },
      "text/plain": [
       "VBox()"
      ]
     },
     "metadata": {},
     "output_type": "display_data"
    },
    {
     "data": {
      "application/vnd.jupyter.widget-view+json": {
       "model_id": "",
       "version_major": 2,
       "version_minor": 0
      },
      "text/plain": [
       "FloatProgress(value=0.0, bar_style='info', description='Progress:', layout=Layout(height='25px', width='50%'),…"
      ]
     },
     "metadata": {},
     "output_type": "display_data"
    }
   ],
   "source": [
    "# Spark Session\n",
    "spark = SparkSession \\\n",
    "    .builder \\\n",
    "    .appName(\"Sparkify\") \\\n",
    "    .getOrCreate()"
   ]
  },
  {
   "cell_type": "code",
   "execution_count": 5,
   "metadata": {},
   "outputs": [
    {
     "data": {
      "application/vnd.jupyter.widget-view+json": {
       "model_id": "ffcef9af14bb4888997c31f9acf98ea6",
       "version_major": 2,
       "version_minor": 0
      },
      "text/plain": [
       "VBox()"
      ]
     },
     "metadata": {},
     "output_type": "display_data"
    },
    {
     "data": {
      "application/vnd.jupyter.widget-view+json": {
       "model_id": "",
       "version_major": 2,
       "version_minor": 0
      },
      "text/plain": [
       "FloatProgress(value=0.0, bar_style='info', description='Progress:', layout=Layout(height='25px', width='50%'),…"
      ]
     },
     "metadata": {},
     "output_type": "display_data"
    }
   ],
   "source": [
    "# Read in full sparkify dataset\n",
    "# small dataset\n",
    "path = \"s3n://udacity-dsnd/sparkify/mini_sparkify_event_data.json\"\n",
    "# big dataset\n",
    "#path = \"s3n://udacity-dsnd/sparkify/sparkify_event_data.json\"\n",
    "df = spark.read.json(path)"
   ]
  },
  {
   "cell_type": "code",
   "execution_count": 6,
   "metadata": {},
   "outputs": [
    {
     "data": {
      "application/vnd.jupyter.widget-view+json": {
       "model_id": "21a37b63a1f2459585126e48bf435246",
       "version_major": 2,
       "version_minor": 0
      },
      "text/plain": [
       "VBox()"
      ]
     },
     "metadata": {},
     "output_type": "display_data"
    },
    {
     "data": {
      "application/vnd.jupyter.widget-view+json": {
       "model_id": "",
       "version_major": 2,
       "version_minor": 0
      },
      "text/plain": [
       "FloatProgress(value=0.0, bar_style='info', description='Progress:', layout=Layout(height='25px', width='50%'),…"
      ]
     },
     "metadata": {},
     "output_type": "display_data"
    },
    {
     "name": "stdout",
     "output_type": "stream",
     "text": [
      "root\n",
      " |-- artist: string (nullable = true)\n",
      " |-- auth: string (nullable = true)\n",
      " |-- firstName: string (nullable = true)\n",
      " |-- gender: string (nullable = true)\n",
      " |-- itemInSession: long (nullable = true)\n",
      " |-- lastName: string (nullable = true)\n",
      " |-- length: double (nullable = true)\n",
      " |-- level: string (nullable = true)\n",
      " |-- location: string (nullable = true)\n",
      " |-- method: string (nullable = true)\n",
      " |-- page: string (nullable = true)\n",
      " |-- registration: long (nullable = true)\n",
      " |-- sessionId: long (nullable = true)\n",
      " |-- song: string (nullable = true)\n",
      " |-- status: long (nullable = true)\n",
      " |-- ts: long (nullable = true)\n",
      " |-- userAgent: string (nullable = true)\n",
      " |-- userId: string (nullable = true)"
     ]
    }
   ],
   "source": [
    "# dataset schema\n",
    "df.printSchema()"
   ]
  },
  {
   "cell_type": "code",
   "execution_count": 7,
   "metadata": {},
   "outputs": [
    {
     "data": {
      "application/vnd.jupyter.widget-view+json": {
       "model_id": "50c72fa1410548dab3757bacc39053e8",
       "version_major": 2,
       "version_minor": 0
      },
      "text/plain": [
       "VBox()"
      ]
     },
     "metadata": {},
     "output_type": "display_data"
    },
    {
     "data": {
      "application/vnd.jupyter.widget-view+json": {
       "model_id": "",
       "version_major": 2,
       "version_minor": 0
      },
      "text/plain": [
       "FloatProgress(value=0.0, bar_style='info', description='Progress:', layout=Layout(height='25px', width='50%'),…"
      ]
     },
     "metadata": {},
     "output_type": "display_data"
    },
    {
     "name": "stdout",
     "output_type": "stream",
     "text": [
      "The number of rows is 286500\n",
      "The number of columns is 18"
     ]
    }
   ],
   "source": [
    "print(\"The number of rows is {}\".format(df.count()))\n",
    "print(\"The number of columns is {}\".format(len(df.columns)))"
   ]
  },
  {
   "cell_type": "code",
   "execution_count": 8,
   "metadata": {},
   "outputs": [
    {
     "data": {
      "application/vnd.jupyter.widget-view+json": {
       "model_id": "11c0c628bc724b72bb15a984e2e3bbcc",
       "version_major": 2,
       "version_minor": 0
      },
      "text/plain": [
       "VBox()"
      ]
     },
     "metadata": {},
     "output_type": "display_data"
    },
    {
     "data": {
      "application/vnd.jupyter.widget-view+json": {
       "model_id": "",
       "version_major": 2,
       "version_minor": 0
      },
      "text/plain": [
       "FloatProgress(value=0.0, bar_style='info', description='Progress:', layout=Layout(height='25px', width='50%'),…"
      ]
     },
     "metadata": {},
     "output_type": "display_data"
    },
    {
     "name": "stdout",
     "output_type": "stream",
     "text": [
      "0"
     ]
    }
   ],
   "source": [
    "# Number of duplicates\n",
    "df.count() - df.dropDuplicates().count()"
   ]
  },
  {
   "cell_type": "markdown",
   "metadata": {},
   "source": [
    "First of all, les't convert the timestamps into datetime format and add them to the dataframe, for a clearer understanding."
   ]
  },
  {
   "cell_type": "code",
   "execution_count": 9,
   "metadata": {},
   "outputs": [
    {
     "data": {
      "application/vnd.jupyter.widget-view+json": {
       "model_id": "8aa1912709474709a98443ad764bc29c",
       "version_major": 2,
       "version_minor": 0
      },
      "text/plain": [
       "VBox()"
      ]
     },
     "metadata": {},
     "output_type": "display_data"
    },
    {
     "data": {
      "application/vnd.jupyter.widget-view+json": {
       "model_id": "",
       "version_major": 2,
       "version_minor": 0
      },
      "text/plain": [
       "FloatProgress(value=0.0, bar_style='info', description='Progress:', layout=Layout(height='25px', width='50%'),…"
      ]
     },
     "metadata": {},
     "output_type": "display_data"
    }
   ],
   "source": [
    "# convert the timestamps into datetime format and add them to the dataframe, for a clearer understanding\n",
    "\n",
    "df = df.withColumn('registrationDate', (df['registration'] / 1000).cast(TimestampType()))\n",
    "df = df.withColumn('tsDate', (df['ts'] / 1000).cast(TimestampType()))"
   ]
  },
  {
   "cell_type": "code",
   "execution_count": 10,
   "metadata": {},
   "outputs": [
    {
     "data": {
      "application/vnd.jupyter.widget-view+json": {
       "model_id": "1e25d568130940369a15dbf9d0db342b",
       "version_major": 2,
       "version_minor": 0
      },
      "text/plain": [
       "VBox()"
      ]
     },
     "metadata": {},
     "output_type": "display_data"
    },
    {
     "data": {
      "application/vnd.jupyter.widget-view+json": {
       "model_id": "",
       "version_major": 2,
       "version_minor": 0
      },
      "text/plain": [
       "FloatProgress(value=0.0, bar_style='info', description='Progress:', layout=Layout(height='25px', width='50%'),…"
      ]
     },
     "metadata": {},
     "output_type": "display_data"
    },
    {
     "name": "stdout",
     "output_type": "stream",
     "text": [
      "+------+---------------+--------------------+-------------+-------------------+\n",
      "|userId|           page|                song|           ts|             tsDate|\n",
      "+------+---------------+--------------------+-------------+-------------------+\n",
      "|    30|       NextSong|           Rockpools|1538352117000|2018-10-01 00:01:57|\n",
      "|     9|       NextSong|              Canada|1538352180000|2018-10-01 00:03:00|\n",
      "|    30|       NextSong|   Time For Miracles|1538352394000|2018-10-01 00:06:34|\n",
      "|     9|       NextSong|Knocking On Forbi...|1538352416000|2018-10-01 00:06:56|\n",
      "|    30|       NextSong|Harder Better Fas...|1538352676000|2018-10-01 00:11:16|\n",
      "|     9|       NextSong|      Don't Leave Me|1538352678000|2018-10-01 00:11:18|\n",
      "|     9|       NextSong|         Run Run Run|1538352886000|2018-10-01 00:14:46|\n",
      "|    30|       NextSong|Passengers (Old A...|1538352899000|2018-10-01 00:14:59|\n",
      "|    30|Add to Playlist|                null|1538352905000|2018-10-01 00:15:05|\n",
      "|    30|       NextSong|          Fuck Kitty|1538353084000|2018-10-01 00:18:04|\n",
      "+------+---------------+--------------------+-------------+-------------------+\n",
      "only showing top 10 rows"
     ]
    }
   ],
   "source": [
    "df.select('userId', 'page', 'song', 'ts', 'tsDate').sort('ts').show(10)"
   ]
  },
  {
   "cell_type": "code",
   "execution_count": 11,
   "metadata": {},
   "outputs": [
    {
     "data": {
      "application/vnd.jupyter.widget-view+json": {
       "model_id": "14455f6b9f8d4e4283672b7dbfc6da88",
       "version_major": 2,
       "version_minor": 0
      },
      "text/plain": [
       "VBox()"
      ]
     },
     "metadata": {},
     "output_type": "display_data"
    },
    {
     "data": {
      "application/vnd.jupyter.widget-view+json": {
       "model_id": "",
       "version_major": 2,
       "version_minor": 0
      },
      "text/plain": [
       "FloatProgress(value=0.0, bar_style='info', description='Progress:', layout=Layout(height='25px', width='50%'),…"
      ]
     },
     "metadata": {},
     "output_type": "display_data"
    },
    {
     "name": "stdout",
     "output_type": "stream",
     "text": [
      "+------+---------------+-------------------+-------------+-------------------+\n",
      "|userId|           page|               song|           ts|             tsDate|\n",
      "+------+---------------+-------------------+-------------+-------------------+\n",
      "|100002|       NextSong|            Lullaby|1543799476000|2018-12-03 01:11:16|\n",
      "|200008|       NextSong|      Come Together|1543622579000|2018-12-01 00:02:59|\n",
      "|   152|       NextSong| Stockholm Syndrome|1543622432000|2018-12-01 00:00:32|\n",
      "|300011|       NextSong|The Sun On His Back|1543622411000|2018-12-01 00:00:11|\n",
      "|300011|          About|               null|1543622398000|2018-11-30 23:59:58|\n",
      "|200008|       NextSong|  Sed De Gol (vivo)|1543622395000|2018-11-30 23:59:55|\n",
      "|   138|       NextSong|        Peace Train|1543622365000|2018-11-30 23:59:25|\n",
      "|    39|       NextSong|    Caravan Of Love|1543622355000|2018-11-30 23:59:15|\n",
      "|    30|Add to Playlist|               null|1543622320000|2018-11-30 23:58:40|\n",
      "|    30|       NextSong|          Red Coats|1543622287000|2018-11-30 23:58:07|\n",
      "+------+---------------+-------------------+-------------+-------------------+\n",
      "only showing top 10 rows"
     ]
    }
   ],
   "source": [
    "df.select('userId', 'page', 'song', 'ts', 'tsDate').sort('ts', ascending = False).show(10)"
   ]
  },
  {
   "cell_type": "markdown",
   "metadata": {},
   "source": [
    "As mentioned above, observation period in full dataset from 00:00:01, October 01 to 23:59:59 November 30, 2018. The data set contains several records, which are out of the general set. Let's delete it:"
   ]
  },
  {
   "cell_type": "code",
   "execution_count": 12,
   "metadata": {},
   "outputs": [
    {
     "data": {
      "application/vnd.jupyter.widget-view+json": {
       "model_id": "75a9d83a558b42b6870e49b662b9a846",
       "version_major": 2,
       "version_minor": 0
      },
      "text/plain": [
       "VBox()"
      ]
     },
     "metadata": {},
     "output_type": "display_data"
    },
    {
     "data": {
      "application/vnd.jupyter.widget-view+json": {
       "model_id": "",
       "version_major": 2,
       "version_minor": 0
      },
      "text/plain": [
       "FloatProgress(value=0.0, bar_style='info', description='Progress:', layout=Layout(height='25px', width='50%'),…"
      ]
     },
     "metadata": {},
     "output_type": "display_data"
    },
    {
     "name": "stdout",
     "output_type": "stream",
     "text": [
      "286496"
     ]
    }
   ],
   "source": [
    "# Remove rows with corrupted timestamps\n",
    "df = df.where(df.ts <= 1543622399000)\n",
    "df.count()"
   ]
  },
  {
   "cell_type": "markdown",
   "metadata": {},
   "source": [
    "Then analyse a partial dataset to get an idea of the dataframe.\n",
    "\n",
    "#### 1. User-level information\n",
    "\n",
    "User information such as first name, last name, location. And also the level that can be changed."
   ]
  },
  {
   "cell_type": "code",
   "execution_count": 13,
   "metadata": {},
   "outputs": [
    {
     "data": {
      "application/vnd.jupyter.widget-view+json": {
       "model_id": "9a54982124a0479f873c85ece69112cd",
       "version_major": 2,
       "version_minor": 0
      },
      "text/plain": [
       "VBox()"
      ]
     },
     "metadata": {},
     "output_type": "display_data"
    },
    {
     "data": {
      "application/vnd.jupyter.widget-view+json": {
       "model_id": "",
       "version_major": 2,
       "version_minor": 0
      },
      "text/plain": [
       "FloatProgress(value=0.0, bar_style='info', description='Progress:', layout=Layout(height='25px', width='50%'),…"
      ]
     },
     "metadata": {},
     "output_type": "display_data"
    },
    {
     "name": "stdout",
     "output_type": "stream",
     "text": [
      "+------+---------+--------+------+--------------------+-------------+-------------------+--------------------+-----+\n",
      "|userId|firstName|lastName|gender|            location| registration|   registrationDate|           userAgent|level|\n",
      "+------+---------+--------+------+--------------------+-------------+-------------------+--------------------+-----+\n",
      "|    30|    Colin| Freeman|     M|     Bakersfield, CA|1538173362000|2018-09-28 22:22:42|Mozilla/5.0 (Wind...| paid|\n",
      "|     9|    Micah|    Long|     M|Boston-Cambridge-...|1538331630000|2018-09-30 18:20:30|\"Mozilla/5.0 (Win...| free|\n",
      "|    30|    Colin| Freeman|     M|     Bakersfield, CA|1538173362000|2018-09-28 22:22:42|Mozilla/5.0 (Wind...| paid|\n",
      "|     9|    Micah|    Long|     M|Boston-Cambridge-...|1538331630000|2018-09-30 18:20:30|\"Mozilla/5.0 (Win...| free|\n",
      "|    30|    Colin| Freeman|     M|     Bakersfield, CA|1538173362000|2018-09-28 22:22:42|Mozilla/5.0 (Wind...| paid|\n",
      "+------+---------+--------+------+--------------------+-------------+-------------------+--------------------+-----+\n",
      "only showing top 5 rows"
     ]
    }
   ],
   "source": [
    "df.select(['userId', 'firstName', 'lastName', 'gender', 'location', 'registration', 'registrationDate', 'userAgent', 'level']).show(5)"
   ]
  },
  {
   "cell_type": "code",
   "execution_count": 14,
   "metadata": {},
   "outputs": [
    {
     "data": {
      "application/vnd.jupyter.widget-view+json": {
       "model_id": "d11f265721a049a69fc74f6d8c4a09ae",
       "version_major": 2,
       "version_minor": 0
      },
      "text/plain": [
       "VBox()"
      ]
     },
     "metadata": {},
     "output_type": "display_data"
    },
    {
     "data": {
      "application/vnd.jupyter.widget-view+json": {
       "model_id": "",
       "version_major": 2,
       "version_minor": 0
      },
      "text/plain": [
       "FloatProgress(value=0.0, bar_style='info', description='Progress:', layout=Layout(height='25px', width='50%'),…"
      ]
     },
     "metadata": {},
     "output_type": "display_data"
    },
    {
     "name": "stdout",
     "output_type": "stream",
     "text": [
      "Number of unique users is 226\n",
      "Number of missing values in the 'userId' column is 0"
     ]
    }
   ],
   "source": [
    "# Number of unique users in the dataset\n",
    "print(\"Number of unique users is {}\".format(df.select(['userId']).dropDuplicates().count()))\n",
    "# Number of missing values in the 'userId' column\n",
    "print(\"Number of missing values in the 'userId' column is {}\".format(df.where(df.userId.isNull()).count()))"
   ]
  },
  {
   "cell_type": "code",
   "execution_count": 15,
   "metadata": {},
   "outputs": [
    {
     "data": {
      "application/vnd.jupyter.widget-view+json": {
       "model_id": "60c6ccc085134d3680a9bcfc96b5e8bb",
       "version_major": 2,
       "version_minor": 0
      },
      "text/plain": [
       "VBox()"
      ]
     },
     "metadata": {},
     "output_type": "display_data"
    },
    {
     "data": {
      "application/vnd.jupyter.widget-view+json": {
       "model_id": "",
       "version_major": 2,
       "version_minor": 0
      },
      "text/plain": [
       "FloatProgress(value=0.0, bar_style='info', description='Progress:', layout=Layout(height='25px', width='50%'),…"
      ]
     },
     "metadata": {},
     "output_type": "display_data"
    },
    {
     "name": "stdout",
     "output_type": "stream",
     "text": [
      "8346"
     ]
    }
   ],
   "source": [
    "# Rows with empty strings in the 'userId' column.\n",
    "df.where(df.userId == \"\").count()"
   ]
  },
  {
   "cell_type": "code",
   "execution_count": 16,
   "metadata": {},
   "outputs": [
    {
     "data": {
      "application/vnd.jupyter.widget-view+json": {
       "model_id": "e7e5d441041d4d1184950ad75009063a",
       "version_major": 2,
       "version_minor": 0
      },
      "text/plain": [
       "VBox()"
      ]
     },
     "metadata": {},
     "output_type": "display_data"
    },
    {
     "data": {
      "application/vnd.jupyter.widget-view+json": {
       "model_id": "",
       "version_major": 2,
       "version_minor": 0
      },
      "text/plain": [
       "FloatProgress(value=0.0, bar_style='info', description='Progress:', layout=Layout(height='25px', width='50%'),…"
      ]
     },
     "metadata": {},
     "output_type": "display_data"
    },
    {
     "name": "stdout",
     "output_type": "stream",
     "text": [
      "+------+---------+--------+------+--------+------------+---------+-----+-------------------+-----+----------+\n",
      "|userId|firstName|lastName|gender|location|registration|userAgent|level|             tsDate| page|      auth|\n",
      "+------+---------+--------+------+--------+------------+---------+-----+-------------------+-----+----------+\n",
      "|      |     null|    null|  null|    null|        null|     null| free|2018-10-01 01:02:25| Home|Logged Out|\n",
      "|      |     null|    null|  null|    null|        null|     null| free|2018-10-01 01:03:27| Help|Logged Out|\n",
      "|      |     null|    null|  null|    null|        null|     null| free|2018-10-01 01:04:01| Home|Logged Out|\n",
      "|      |     null|    null|  null|    null|        null|     null| free|2018-10-01 01:04:02|Login|Logged Out|\n",
      "|      |     null|    null|  null|    null|        null|     null| free|2018-10-01 01:17:58| Home|Logged Out|\n",
      "|      |     null|    null|  null|    null|        null|     null| free|2018-10-01 01:17:59|Login|Logged Out|\n",
      "|      |     null|    null|  null|    null|        null|     null| free|2018-10-01 01:41:42|Login|Logged Out|\n",
      "|      |     null|    null|  null|    null|        null|     null| free|2018-10-01 02:15:17|Login|Logged Out|\n",
      "|      |     null|    null|  null|    null|        null|     null| free|2018-10-01 02:38:47| Home|Logged Out|\n",
      "|      |     null|    null|  null|    null|        null|     null| free|2018-10-01 02:38:48|Login|Logged Out|\n",
      "+------+---------+--------+------+--------+------------+---------+-----+-------------------+-----+----------+\n",
      "only showing top 10 rows\n",
      "\n",
      "+----------+-----+\n",
      "|      auth|count|\n",
      "+----------+-----+\n",
      "|Logged Out| 8249|\n",
      "|     Guest|   97|\n",
      "+----------+-----+"
     ]
    }
   ],
   "source": [
    "df.where(df.userId == \"\").select(['userId', 'firstName', 'lastName', 'gender', 'location', 'registration', 'userAgent', 'level', 'tsDate', 'page', 'auth',]).show(10)\n",
    "df.where(df.userId == \"\").groupby('auth').count().show()"
   ]
  },
  {
   "cell_type": "markdown",
   "metadata": {},
   "source": [
    "Rows with an empty string in the 'userId' column correspond to logs in which the user has not been logged in ('Logged Out' or 'Guest'). An interesting observation is that there are no such lines in a large set."
   ]
  },
  {
   "cell_type": "markdown",
   "metadata": {},
   "source": [
    "#### 2. Log-specific information\n",
    "\n",
    "Information about how different users interact with the music streaming service."
   ]
  },
  {
   "cell_type": "code",
   "execution_count": 17,
   "metadata": {},
   "outputs": [
    {
     "data": {
      "application/vnd.jupyter.widget-view+json": {
       "model_id": "1c35be242fd14d6082ec10f7ba2d37bd",
       "version_major": 2,
       "version_minor": 0
      },
      "text/plain": [
       "VBox()"
      ]
     },
     "metadata": {},
     "output_type": "display_data"
    },
    {
     "data": {
      "application/vnd.jupyter.widget-view+json": {
       "model_id": "",
       "version_major": 2,
       "version_minor": 0
      },
      "text/plain": [
       "FloatProgress(value=0.0, bar_style='info', description='Progress:', layout=Layout(height='25px', width='50%'),…"
      ]
     },
     "metadata": {},
     "output_type": "display_data"
    },
    {
     "name": "stdout",
     "output_type": "stream",
     "text": [
      "+-------------+-------------------+--------+---------+---------+-------------+------+------+\n",
      "|           ts|             tsDate|    page|     auth|sessionId|itemInSession|method|status|\n",
      "+-------------+-------------------+--------+---------+---------+-------------+------+------+\n",
      "|1538352117000|2018-10-01 00:01:57|NextSong|Logged In|       29|           50|   PUT|   200|\n",
      "|1538352180000|2018-10-01 00:03:00|NextSong|Logged In|        8|           79|   PUT|   200|\n",
      "|1538352394000|2018-10-01 00:06:34|NextSong|Logged In|       29|           51|   PUT|   200|\n",
      "|1538352416000|2018-10-01 00:06:56|NextSong|Logged In|        8|           80|   PUT|   200|\n",
      "|1538352676000|2018-10-01 00:11:16|NextSong|Logged In|       29|           52|   PUT|   200|\n",
      "+-------------+-------------------+--------+---------+---------+-------------+------+------+\n",
      "only showing top 5 rows"
     ]
    }
   ],
   "source": [
    "#  Log-specific information\n",
    "df.select(['ts', 'tsDate', 'page', 'auth', 'sessionId', 'itemInSession', 'method', 'status']).show(5)"
   ]
  },
  {
   "cell_type": "code",
   "execution_count": 18,
   "metadata": {},
   "outputs": [
    {
     "data": {
      "application/vnd.jupyter.widget-view+json": {
       "model_id": "8f2d86b2ba2b4b0ab4531ef2d5d000a9",
       "version_major": 2,
       "version_minor": 0
      },
      "text/plain": [
       "VBox()"
      ]
     },
     "metadata": {},
     "output_type": "display_data"
    },
    {
     "data": {
      "application/vnd.jupyter.widget-view+json": {
       "model_id": "",
       "version_major": 2,
       "version_minor": 0
      },
      "text/plain": [
       "FloatProgress(value=0.0, bar_style='info', description='Progress:', layout=Layout(height='25px', width='50%'),…"
      ]
     },
     "metadata": {},
     "output_type": "display_data"
    },
    {
     "name": "stdout",
     "output_type": "stream",
     "text": [
      "+------+------+\n",
      "|method| count|\n",
      "+------+------+\n",
      "|   GET| 25436|\n",
      "|   PUT|261060|\n",
      "+------+------+"
     ]
    }
   ],
   "source": [
    "df.groupby('method').count().show()"
   ]
  },
  {
   "cell_type": "code",
   "execution_count": 19,
   "metadata": {},
   "outputs": [
    {
     "data": {
      "application/vnd.jupyter.widget-view+json": {
       "model_id": "51e254f3012148adadb0faeac2af5704",
       "version_major": 2,
       "version_minor": 0
      },
      "text/plain": [
       "VBox()"
      ]
     },
     "metadata": {},
     "output_type": "display_data"
    },
    {
     "data": {
      "application/vnd.jupyter.widget-view+json": {
       "model_id": "",
       "version_major": 2,
       "version_minor": 0
      },
      "text/plain": [
       "FloatProgress(value=0.0, bar_style='info', description='Progress:', layout=Layout(height='25px', width='50%'),…"
      ]
     },
     "metadata": {},
     "output_type": "display_data"
    },
    {
     "name": "stdout",
     "output_type": "stream",
     "text": [
      "+------+------+\n",
      "|status| count|\n",
      "+------+------+\n",
      "|   200|259808|\n",
      "|   404|   258|\n",
      "|   307| 26430|\n",
      "+------+------+"
     ]
    }
   ],
   "source": [
    "df.groupby('status').count().show()"
   ]
  },
  {
   "cell_type": "code",
   "execution_count": 20,
   "metadata": {},
   "outputs": [
    {
     "data": {
      "application/vnd.jupyter.widget-view+json": {
       "model_id": "ba25faafab1141f6ad017a0e0be8980e",
       "version_major": 2,
       "version_minor": 0
      },
      "text/plain": [
       "VBox()"
      ]
     },
     "metadata": {},
     "output_type": "display_data"
    },
    {
     "data": {
      "application/vnd.jupyter.widget-view+json": {
       "model_id": "",
       "version_major": 2,
       "version_minor": 0
      },
      "text/plain": [
       "FloatProgress(value=0.0, bar_style='info', description='Progress:', layout=Layout(height='25px', width='50%'),…"
      ]
     },
     "metadata": {},
     "output_type": "display_data"
    },
    {
     "name": "stdout",
     "output_type": "stream",
     "text": [
      "+------+-------------------+---------+------+-----+\n",
      "|userId|             tsDate|sessionId|status| page|\n",
      "+------+-------------------+---------+------+-----+\n",
      "|   131|2018-10-01 11:37:28|      249|   404|Error|\n",
      "|   140|2018-10-01 15:32:07|      139|   404|Error|\n",
      "|    53|2018-10-01 20:23:21|       52|   404|Error|\n",
      "|     9|2018-10-02 14:15:51|      262|   404|Error|\n",
      "|    39|2018-10-02 21:19:36|      354|   404|Error|\n",
      "+------+-------------------+---------+------+-----+\n",
      "only showing top 5 rows"
     ]
    }
   ],
   "source": [
    "# '404' status corresponds to 'Error' in the page column.\n",
    "\n",
    "df.where(df.status == '404').select(['userId', 'tsDate', 'sessionId', 'status', 'page']).show(5)"
   ]
  },
  {
   "cell_type": "code",
   "execution_count": 21,
   "metadata": {},
   "outputs": [
    {
     "data": {
      "application/vnd.jupyter.widget-view+json": {
       "model_id": "97a4208b61fd4aca8e8bafd642542a92",
       "version_major": 2,
       "version_minor": 0
      },
      "text/plain": [
       "VBox()"
      ]
     },
     "metadata": {},
     "output_type": "display_data"
    },
    {
     "data": {
      "application/vnd.jupyter.widget-view+json": {
       "model_id": "",
       "version_major": 2,
       "version_minor": 0
      },
      "text/plain": [
       "FloatProgress(value=0.0, bar_style='info', description='Progress:', layout=Layout(height='25px', width='50%'),…"
      ]
     },
     "metadata": {},
     "output_type": "display_data"
    },
    {
     "name": "stdout",
     "output_type": "stream",
     "text": [
      "Number of missing values in the 'page' column is 0"
     ]
    }
   ],
   "source": [
    "print(\"Number of missing values in the 'page' column is {}\".format(df.where(df.page.isNull()).count()))"
   ]
  },
  {
   "cell_type": "code",
   "execution_count": 22,
   "metadata": {},
   "outputs": [
    {
     "data": {
      "application/vnd.jupyter.widget-view+json": {
       "model_id": "8ac8d1bcf0fd4c03ad5af76ad58fe0c2",
       "version_major": 2,
       "version_minor": 0
      },
      "text/plain": [
       "VBox()"
      ]
     },
     "metadata": {},
     "output_type": "display_data"
    },
    {
     "data": {
      "application/vnd.jupyter.widget-view+json": {
       "model_id": "",
       "version_major": 2,
       "version_minor": 0
      },
      "text/plain": [
       "FloatProgress(value=0.0, bar_style='info', description='Progress:', layout=Layout(height='25px', width='50%'),…"
      ]
     },
     "metadata": {},
     "output_type": "display_data"
    },
    {
     "name": "stdout",
     "output_type": "stream",
     "text": [
      "+--------------------+\n",
      "|                page|\n",
      "+--------------------+\n",
      "|           Downgrade|\n",
      "|       Save Settings|\n",
      "|               Error|\n",
      "|     Add to Playlist|\n",
      "|                Help|\n",
      "|      Submit Upgrade|\n",
      "|              Cancel|\n",
      "|    Submit Downgrade|\n",
      "|         Thumbs Down|\n",
      "|                Home|\n",
      "|         Roll Advert|\n",
      "|               About|\n",
      "|             Upgrade|\n",
      "|Cancellation Conf...|\n",
      "| Submit Registration|\n",
      "|               Login|\n",
      "|            Register|\n",
      "|            NextSong|\n",
      "|           Thumbs Up|\n",
      "|              Logout|\n",
      "|            Settings|\n",
      "|          Add Friend|\n",
      "+--------------------+\n",
      "\n",
      "Number of user actions is 22"
     ]
    }
   ],
   "source": [
    "# pages types\n",
    "\n",
    "pages_num = df.select('page').dropDuplicates().count()\n",
    "df.select('page').dropDuplicates().show(pages_num)\n",
    "print(\"Number of user actions is {}\".format(pages_num))"
   ]
  },
  {
   "cell_type": "code",
   "execution_count": 23,
   "metadata": {},
   "outputs": [
    {
     "data": {
      "application/vnd.jupyter.widget-view+json": {
       "model_id": "c75b55e4d1c942cca01c18b295465927",
       "version_major": 2,
       "version_minor": 0
      },
      "text/plain": [
       "VBox()"
      ]
     },
     "metadata": {},
     "output_type": "display_data"
    },
    {
     "data": {
      "application/vnd.jupyter.widget-view+json": {
       "model_id": "",
       "version_major": 2,
       "version_minor": 0
      },
      "text/plain": [
       "FloatProgress(value=0.0, bar_style='info', description='Progress:', layout=Layout(height='25px', width='50%'),…"
      ]
     },
     "metadata": {},
     "output_type": "display_data"
    },
    {
     "data": {
      "image/png": "[encoded data removed]",
      "text/plain": [
       "<IPython.core.display.Image object>"
      ]
     },
     "metadata": {},
     "output_type": "display_data"
    }
   ],
   "source": [
    "# plotting most often uses pages\n",
    "\n",
    "pages_df = df.groupby('page').count().toPandas()\n",
    "\n",
    "# Plot\n",
    "fig, ax = plt.subplots(figsize=(10, 5))\n",
    "\n",
    "ax.bar(pages_df['page'], pages_df['count'])\n",
    "ax.set_ylabel('Scores')\n",
    "ax.set_title('Page traffic')\n",
    "ax.legend()\n",
    "fig.autofmt_xdate()\n",
    "\n",
    "plt.show()\n",
    "\n",
    "%matplot plt"
   ]
  },
  {
   "cell_type": "code",
   "execution_count": 24,
   "metadata": {},
   "outputs": [
    {
     "data": {
      "application/vnd.jupyter.widget-view+json": {
       "model_id": "b37adc4b146b4ab1b6160ffbb3b8c7f4",
       "version_major": 2,
       "version_minor": 0
      },
      "text/plain": [
       "VBox()"
      ]
     },
     "metadata": {},
     "output_type": "display_data"
    },
    {
     "data": {
      "application/vnd.jupyter.widget-view+json": {
       "model_id": "",
       "version_major": 2,
       "version_minor": 0
      },
      "text/plain": [
       "FloatProgress(value=0.0, bar_style='info', description='Progress:', layout=Layout(height='25px', width='50%'),…"
      ]
     },
     "metadata": {},
     "output_type": "display_data"
    },
    {
     "name": "stdout",
     "output_type": "stream",
     "text": [
      "+----------+------+\n",
      "|      auth| count|\n",
      "+----------+------+\n",
      "|Logged Out|  8249|\n",
      "|     Guest|    97|\n",
      "| Cancelled|    52|\n",
      "| Logged In|278098|\n",
      "+----------+------+"
     ]
    }
   ],
   "source": [
    "df.groupby('auth').count().show()"
   ]
  },
  {
   "cell_type": "code",
   "execution_count": 25,
   "metadata": {},
   "outputs": [
    {
     "data": {
      "application/vnd.jupyter.widget-view+json": {
       "model_id": "51827e76f4b34f728782971ef10ac9b5",
       "version_major": 2,
       "version_minor": 0
      },
      "text/plain": [
       "VBox()"
      ]
     },
     "metadata": {},
     "output_type": "display_data"
    },
    {
     "data": {
      "application/vnd.jupyter.widget-view+json": {
       "model_id": "",
       "version_major": 2,
       "version_minor": 0
      },
      "text/plain": [
       "FloatProgress(value=0.0, bar_style='info', description='Progress:', layout=Layout(height='25px', width='50%'),…"
      ]
     },
     "metadata": {},
     "output_type": "display_data"
    },
    {
     "name": "stdout",
     "output_type": "stream",
     "text": [
      "+------+-------------------+---------+---------+--------------------+\n",
      "|userId|             tsDate|sessionId|     auth|                page|\n",
      "+------+-------------------+---------+---------+--------------------+\n",
      "|    18|2018-10-07 20:26:30|      514|Cancelled|Cancellation Conf...|\n",
      "|    32|2018-10-08 21:10:46|      540|Cancelled|Cancellation Conf...|\n",
      "|   125|2018-10-12 04:35:18|      174|Cancelled|Cancellation Conf...|\n",
      "|   105|2018-10-12 20:17:21|      508|Cancelled|Cancellation Conf...|\n",
      "|    17|2018-10-13 21:19:44|      797|Cancelled|Cancellation Conf...|\n",
      "+------+-------------------+---------+---------+--------------------+\n",
      "only showing top 5 rows"
     ]
    }
   ],
   "source": [
    "# 'Cancelled' category corresponds to 'Cancellation Confirmation' in the page column.\n",
    "\n",
    "df.where(df.auth == 'Cancelled').select(['userId', 'tsDate', 'sessionId', 'auth', 'page']).show(5)"
   ]
  },
  {
   "cell_type": "markdown",
   "metadata": {},
   "source": [
    "_'Cancelled'_ category corresponds to _'Cancellation Confirmation'_ in the page column."
   ]
  },
  {
   "cell_type": "code",
   "execution_count": 26,
   "metadata": {},
   "outputs": [
    {
     "data": {
      "application/vnd.jupyter.widget-view+json": {
       "model_id": "e4bacf16869e4292b6664b494dca7e60",
       "version_major": 2,
       "version_minor": 0
      },
      "text/plain": [
       "VBox()"
      ]
     },
     "metadata": {},
     "output_type": "display_data"
    },
    {
     "data": {
      "application/vnd.jupyter.widget-view+json": {
       "model_id": "",
       "version_major": 2,
       "version_minor": 0
      },
      "text/plain": [
       "FloatProgress(value=0.0, bar_style='info', description='Progress:', layout=Layout(height='25px', width='50%'),…"
      ]
     },
     "metadata": {},
     "output_type": "display_data"
    },
    {
     "name": "stdout",
     "output_type": "stream",
     "text": [
      "Number of sessionId is 2354\n",
      "Number of missing values in the sessionId column is 0\n",
      "Number of empty values in the sessionId column is 0"
     ]
    }
   ],
   "source": [
    "print(\"Number of sessionId is {}\".format(df.select('sessionId').dropDuplicates().count()))\n",
    "print(\"Number of missing values in the sessionId column is {}\".format(df.where(df.sessionId.isNull()).count()))\n",
    "print(\"Number of empty values in the sessionId column is {}\".format(df.where(df.sessionId == \"\").count()))"
   ]
  },
  {
   "cell_type": "code",
   "execution_count": 27,
   "metadata": {},
   "outputs": [
    {
     "data": {
      "application/vnd.jupyter.widget-view+json": {
       "model_id": "73c929b7c5534696b14aeaebc4c3b70a",
       "version_major": 2,
       "version_minor": 0
      },
      "text/plain": [
       "VBox()"
      ]
     },
     "metadata": {},
     "output_type": "display_data"
    },
    {
     "data": {
      "application/vnd.jupyter.widget-view+json": {
       "model_id": "",
       "version_major": 2,
       "version_minor": 0
      },
      "text/plain": [
       "FloatProgress(value=0.0, bar_style='info', description='Progress:', layout=Layout(height='25px', width='50%'),…"
      ]
     },
     "metadata": {},
     "output_type": "display_data"
    },
    {
     "name": "stdout",
     "output_type": "stream",
     "text": [
      "+------+---------+-------------+\n",
      "|userId|sessionId|sessionlength|\n",
      "+------+---------+-------------+\n",
      "|    91|     1840|     267305.0|\n",
      "|   115|      316|     222919.0|\n",
      "|   101|      635|     198001.0|\n",
      "|   120|      731|     162636.0|\n",
      "|    61|      529|     151481.0|\n",
      "+------+---------+-------------+\n",
      "only showing top 5 rows\n",
      "\n",
      "+------+---------+-------------+\n",
      "|userId|sessionId|sessionlength|\n",
      "+------+---------+-------------+\n",
      "|   114|      413|          1.0|\n",
      "|    30|      892|          1.0|\n",
      "|100004|       56|          1.0|\n",
      "|   122|      403|          1.0|\n",
      "|200025|      296|          1.0|\n",
      "+------+---------+-------------+\n",
      "only showing top 5 rows"
     ]
    }
   ],
   "source": [
    "# explore maximum and minimum session length \n",
    "\n",
    "sessions_df = df.where(df.userId != \"\").groupby(['userId','sessionId']) \\\n",
    "                                            .agg(((Fmax('ts') - Fmin('ts'))/1000).alias('sessionlength'))\n",
    "\n",
    "sessions_df.sort('sessionlength', ascending = False).show(5)\n",
    "sessions_df.where(sessions_df.sessionlength != 0).sort('sessionlength', ascending = True).show(5)"
   ]
  },
  {
   "cell_type": "markdown",
   "metadata": {},
   "source": [
    "The maximum session length is more then 74 hours, The minimum session length is 1 sec (excluding zero)."
   ]
  },
  {
   "cell_type": "markdown",
   "metadata": {},
   "source": [
    "#### 3. Song-level information\n",
    "\n",
    "Information related to the song that is currently playing."
   ]
  },
  {
   "cell_type": "code",
   "execution_count": 28,
   "metadata": {},
   "outputs": [
    {
     "data": {
      "application/vnd.jupyter.widget-view+json": {
       "model_id": "862c96d4228845399b96aec88207b99b",
       "version_major": 2,
       "version_minor": 0
      },
      "text/plain": [
       "VBox()"
      ]
     },
     "metadata": {},
     "output_type": "display_data"
    },
    {
     "data": {
      "application/vnd.jupyter.widget-view+json": {
       "model_id": "",
       "version_major": 2,
       "version_minor": 0
      },
      "text/plain": [
       "FloatProgress(value=0.0, bar_style='info', description='Progress:', layout=Layout(height='25px', width='50%'),…"
      ]
     },
     "metadata": {},
     "output_type": "display_data"
    },
    {
     "name": "stdout",
     "output_type": "stream",
     "text": [
      "+----------------+--------------------+---------+\n",
      "|          artist|                song|   length|\n",
      "+----------------+--------------------+---------+\n",
      "|  Martha Tilston|           Rockpools|277.89016|\n",
      "|Five Iron Frenzy|              Canada|236.09424|\n",
      "|    Adam Lambert|   Time For Miracles| 282.8273|\n",
      "|          Enigma|Knocking On Forbi...|262.71302|\n",
      "|       Daft Punk|Harder Better Fas...|223.60771|\n",
      "+----------------+--------------------+---------+\n",
      "only showing top 5 rows"
     ]
    }
   ],
   "source": [
    "# Song-level information\n",
    "df.select(['artist', 'song', 'length']).show(5)"
   ]
  },
  {
   "cell_type": "code",
   "execution_count": 29,
   "metadata": {},
   "outputs": [
    {
     "data": {
      "application/vnd.jupyter.widget-view+json": {
       "model_id": "94e73574cfa043539575c8edcbcecdac",
       "version_major": 2,
       "version_minor": 0
      },
      "text/plain": [
       "VBox()"
      ]
     },
     "metadata": {},
     "output_type": "display_data"
    },
    {
     "data": {
      "application/vnd.jupyter.widget-view+json": {
       "model_id": "",
       "version_major": 2,
       "version_minor": 0
      },
      "text/plain": [
       "FloatProgress(value=0.0, bar_style='info', description='Progress:', layout=Layout(height='25px', width='50%'),…"
      ]
     },
     "metadata": {},
     "output_type": "display_data"
    },
    {
     "name": "stdout",
     "output_type": "stream",
     "text": [
      "+--------+------+\n",
      "|    page| count|\n",
      "+--------+------+\n",
      "|NextSong|228104|\n",
      "+--------+------+"
     ]
    }
   ],
   "source": [
    "# number of listen songs\n",
    "df.where(df.page == 'NextSong').groupby('page').count().show()"
   ]
  },
  {
   "cell_type": "code",
   "execution_count": 30,
   "metadata": {},
   "outputs": [
    {
     "data": {
      "application/vnd.jupyter.widget-view+json": {
       "model_id": "82ffd0ac72b24fe39716452824bae7c7",
       "version_major": 2,
       "version_minor": 0
      },
      "text/plain": [
       "VBox()"
      ]
     },
     "metadata": {},
     "output_type": "display_data"
    },
    {
     "data": {
      "application/vnd.jupyter.widget-view+json": {
       "model_id": "",
       "version_major": 2,
       "version_minor": 0
      },
      "text/plain": [
       "FloatProgress(value=0.0, bar_style='info', description='Progress:', layout=Layout(height='25px', width='50%'),…"
      ]
     },
     "metadata": {},
     "output_type": "display_data"
    },
    {
     "name": "stdout",
     "output_type": "stream",
     "text": [
      "Number of different artists is 17655\n",
      "Number of different song names is 58480\n",
      "Number of songs in dataset (including full duplicates) is 65965\n",
      "Number of songs in dataset (including duplicates with same artist and song name) is 65416"
     ]
    }
   ],
   "source": [
    "print(\"Number of different artists is {}\".format(df.where(df.artist.isNotNull()).select('artist').dropDuplicates().count()))\n",
    "print(\"Number of different song names is {}\".format(df.where(df.song.isNotNull()).select('song').dropDuplicates().count()))\n",
    "print(\"Number of songs in dataset (including full duplicates) is {}\".format(df.select(['artist','song','length']).dropDuplicates().count()))\n",
    "print(\"Number of songs in dataset (including duplicates with same artist and song name) is {}\".format(df.select(['artist','song']).dropDuplicates().count()))"
   ]
  },
  {
   "cell_type": "markdown",
   "metadata": {},
   "source": [
    "## Exploratory data analysis"
   ]
  },
  {
   "cell_type": "markdown",
   "metadata": {},
   "source": [
    "Let's do some exploratory data analysis to observe the behavior of users who stayed and users who left. We'll start by looking at the aggregate metrics for these two groups of users, observing how many specific actions they have experienced in a given unit of time or the number of songs played."
   ]
  },
  {
   "cell_type": "code",
   "execution_count": 31,
   "metadata": {},
   "outputs": [
    {
     "data": {
      "application/vnd.jupyter.widget-view+json": {
       "model_id": "59b1410005834b19a3aefc15cdec8350",
       "version_major": 2,
       "version_minor": 0
      },
      "text/plain": [
       "VBox()"
      ]
     },
     "metadata": {},
     "output_type": "display_data"
    },
    {
     "data": {
      "application/vnd.jupyter.widget-view+json": {
       "model_id": "",
       "version_major": 2,
       "version_minor": 0
      },
      "text/plain": [
       "FloatProgress(value=0.0, bar_style='info', description='Progress:', layout=Layout(height='25px', width='50%'),…"
      ]
     },
     "metadata": {},
     "output_type": "display_data"
    }
   ],
   "source": [
    "# Drop missing userId and sessionId\n",
    "df = df.dropna(how = 'any', subset = ['userId','sessionId'])\n",
    "df = df[df.userId != \"\"]"
   ]
  },
  {
   "cell_type": "code",
   "execution_count": 32,
   "metadata": {},
   "outputs": [
    {
     "data": {
      "application/vnd.jupyter.widget-view+json": {
       "model_id": "37f6e96458ad4bf38f43946eb0bc8ab5",
       "version_major": 2,
       "version_minor": 0
      },
      "text/plain": [
       "VBox()"
      ]
     },
     "metadata": {},
     "output_type": "display_data"
    },
    {
     "data": {
      "application/vnd.jupyter.widget-view+json": {
       "model_id": "",
       "version_major": 2,
       "version_minor": 0
      },
      "text/plain": [
       "FloatProgress(value=0.0, bar_style='info', description='Progress:', layout=Layout(height='25px', width='50%'),…"
      ]
     },
     "metadata": {},
     "output_type": "display_data"
    }
   ],
   "source": [
    "# add downgrade flag\n",
    "df = df.withColumn('downgrade', when(df.page == 'Submit Downgrade', 1).otherwise(0))\n",
    "df = df.withColumn('user_downgrade', Fmax('downgrade').over(Window.partitionBy('UserId')))\n",
    "\n",
    "# add churn\n",
    "df = df.withColumn('churn', when(df.page == 'Cancellation Confirmation', 1).otherwise(0))\n",
    "df = df.withColumn('user_churn', Fmax('churn').over(Window.partitionBy('UserId')))"
   ]
  },
  {
   "cell_type": "markdown",
   "metadata": {},
   "source": [
    "Perhaps the target value is related to the gender of the users."
   ]
  },
  {
   "cell_type": "code",
   "execution_count": 33,
   "metadata": {},
   "outputs": [
    {
     "data": {
      "application/vnd.jupyter.widget-view+json": {
       "model_id": "40280995610c42079b89c5bce370f2b9",
       "version_major": 2,
       "version_minor": 0
      },
      "text/plain": [
       "VBox()"
      ]
     },
     "metadata": {},
     "output_type": "display_data"
    },
    {
     "data": {
      "application/vnd.jupyter.widget-view+json": {
       "model_id": "",
       "version_major": 2,
       "version_minor": 0
      },
      "text/plain": [
       "FloatProgress(value=0.0, bar_style='info', description='Progress:', layout=Layout(height='25px', width='50%'),…"
      ]
     },
     "metadata": {},
     "output_type": "display_data"
    },
    {
     "name": "stdout",
     "output_type": "stream",
     "text": [
      "   user_churn gender  count\n",
      "0           1      F     20\n",
      "1           1      M     32\n",
      "2           0      F     84\n",
      "3           0      M     89"
     ]
    }
   ],
   "source": [
    "churn_gender_df = df.drop_duplicates(['userId', 'gender']).groupby(['user_churn', 'gender']).count().toPandas()\n",
    "churn_gender_df"
   ]
  },
  {
   "cell_type": "code",
   "execution_count": 34,
   "metadata": {},
   "outputs": [
    {
     "data": {
      "application/vnd.jupyter.widget-view+json": {
       "model_id": "526eceffbecc4d9286904e430d9acd51",
       "version_major": 2,
       "version_minor": 0
      },
      "text/plain": [
       "VBox()"
      ]
     },
     "metadata": {},
     "output_type": "display_data"
    },
    {
     "data": {
      "application/vnd.jupyter.widget-view+json": {
       "model_id": "",
       "version_major": 2,
       "version_minor": 0
      },
      "text/plain": [
       "FloatProgress(value=0.0, bar_style='info', description='Progress:', layout=Layout(height='25px', width='50%'),…"
      ]
     },
     "metadata": {},
     "output_type": "display_data"
    },
    {
     "data": {
      "image/png": "[encoded data removed]",
      "text/plain": [
       "<IPython.core.display.Image object>"
      ]
     },
     "metadata": {},
     "output_type": "display_data"
    }
   ],
   "source": [
    "# Plotting a bar plot to show gender distribution between regular and churn users\n",
    "fig, ax = plt.subplots(figsize=(10, 5))\n",
    "plt.title('Gender distribution between regular and churn users')\n",
    "ax = sns.barplot(x = 'user_churn', y = 'count', data = churn_gender_df, hue = 'gender')\n",
    "\n",
    "ax.set(xticklabels=['Not Churned', 'Churned'])\n",
    "\n",
    "ax.set_ylabel('Count')\n",
    "ax.set_xlabel('User Churn')\n",
    "ax.legend()\n",
    "\n",
    "%matplot plt"
   ]
  },
  {
   "cell_type": "markdown",
   "metadata": {},
   "source": [
    "Who cancels the service more often, paid users or free users?"
   ]
  },
  {
   "cell_type": "code",
   "execution_count": 35,
   "metadata": {},
   "outputs": [
    {
     "data": {
      "application/vnd.jupyter.widget-view+json": {
       "model_id": "cbc1446e417b4f75adddf93c94c62452",
       "version_major": 2,
       "version_minor": 0
      },
      "text/plain": [
       "VBox()"
      ]
     },
     "metadata": {},
     "output_type": "display_data"
    },
    {
     "data": {
      "application/vnd.jupyter.widget-view+json": {
       "model_id": "",
       "version_major": 2,
       "version_minor": 0
      },
      "text/plain": [
       "FloatProgress(value=0.0, bar_style='info', description='Progress:', layout=Layout(height='25px', width='50%'),…"
      ]
     },
     "metadata": {},
     "output_type": "display_data"
    },
    {
     "data": {
      "image/png": "[encoded data removed]",
      "text/plain": [
       "<IPython.core.display.Image object>"
      ]
     },
     "metadata": {},
     "output_type": "display_data"
    }
   ],
   "source": [
    "# Plotting a bar plot to show differense between Paid/Free customers churn\n",
    "fig, ax = plt.subplots(figsize=(10, 5))\n",
    "\n",
    "df_level_pd = df.filter('page == \"Cancellation Confirmation\"').groupby('level').count().toPandas()\n",
    "plt.title('Paid/Free customers churn')\n",
    "sns.barplot(data = df_level_pd, x = 'level', y = 'count', color = sns.color_palette()[0])\n",
    "\n",
    "ax.set(xticklabels=['Free', 'Paid'])\n",
    "\n",
    "ax.set_ylabel('Count')\n",
    "ax.set_xlabel('User Level')\n",
    "ax.legend()\n",
    "\n",
    "%matplot plt"
   ]
  },
  {
   "cell_type": "markdown",
   "metadata": {},
   "source": [
    "The average number of songs played by users who unsubscribed versus those who did not."
   ]
  },
  {
   "cell_type": "code",
   "execution_count": 36,
   "metadata": {},
   "outputs": [
    {
     "data": {
      "application/vnd.jupyter.widget-view+json": {
       "model_id": "90b3b167f9cf401c8c6a14950ae1b8e4",
       "version_major": 2,
       "version_minor": 0
      },
      "text/plain": [
       "VBox()"
      ]
     },
     "metadata": {},
     "output_type": "display_data"
    },
    {
     "data": {
      "application/vnd.jupyter.widget-view+json": {
       "model_id": "",
       "version_major": 2,
       "version_minor": 0
      },
      "text/plain": [
       "FloatProgress(value=0.0, bar_style='info', description='Progress:', layout=Layout(height='25px', width='50%'),…"
      ]
     },
     "metadata": {},
     "output_type": "display_data"
    },
    {
     "data": {
      "image/png": "[encoded data removed]",
      "text/plain": [
       "<IPython.core.display.Image object>"
      ]
     },
     "metadata": {},
     "output_type": "display_data"
    }
   ],
   "source": [
    "# Plotting Number of songs played per session\n",
    "\n",
    "avg_songs_df = df.where(df.song.isNotNull()).groupby(['user_churn', 'userId', 'sessionId']).count()\\\n",
    "    .groupby(['user_churn', 'userId']).agg({'count': 'avg'}).toPandas()\n",
    "\n",
    "fig, ax = plt.subplots(figsize=(10, 5))\n",
    "\n",
    "plt.title('Number of songs played per session')\n",
    "sns.boxplot('user_churn', y = 'avg(count)', data = avg_songs_df)\n",
    "\n",
    "ax.set(xticklabels=['Not Churned', 'Churned'])\n",
    "\n",
    "ax.set_ylabel('Count')\n",
    "ax.set_xlabel('User Churn')\n",
    "ax.legend()\n",
    "\n",
    "%matplot plt"
   ]
  },
  {
   "cell_type": "markdown",
   "metadata": {},
   "source": [
    "The average session lenght who unsubscribed versus those who did not."
   ]
  },
  {
   "cell_type": "code",
   "execution_count": 37,
   "metadata": {},
   "outputs": [
    {
     "data": {
      "application/vnd.jupyter.widget-view+json": {
       "model_id": "70075f73428b497dae1023122e73a591",
       "version_major": 2,
       "version_minor": 0
      },
      "text/plain": [
       "VBox()"
      ]
     },
     "metadata": {},
     "output_type": "display_data"
    },
    {
     "data": {
      "application/vnd.jupyter.widget-view+json": {
       "model_id": "",
       "version_major": 2,
       "version_minor": 0
      },
      "text/plain": [
       "FloatProgress(value=0.0, bar_style='info', description='Progress:', layout=Layout(height='25px', width='50%'),…"
      ]
     },
     "metadata": {},
     "output_type": "display_data"
    },
    {
     "data": {
      "image/png": "[encoded data removed]",
      "text/plain": [
       "<IPython.core.display.Image object>"
      ]
     },
     "metadata": {},
     "output_type": "display_data"
    }
   ],
   "source": [
    "avg_session_df = df.groupby(['user_churn', 'userId', 'sessionId']) \\\n",
    "            .agg(((Fmax('ts') - Fmin('ts')) / 1000).alias('sessionlength')) \\\n",
    "            .groupby(['user_churn', 'userId']).agg({'sessionlength': 'avg'}).toPandas()\n",
    "\n",
    "fig, ax = plt.subplots(figsize=(10, 5))\n",
    "\n",
    "plt.title('Average session lenght')\n",
    "sns.boxplot('user_churn', y = 'avg(sessionlength)', data = avg_session_df)\n",
    "\n",
    "ax.set(xticklabels=['Not Churned', 'Churned'])\n",
    "\n",
    "ax.set_ylabel('Count')\n",
    "ax.set_xlabel('User Churn')\n",
    "ax.legend()\n",
    "\n",
    "%matplot plt"
   ]
  },
  {
   "cell_type": "markdown",
   "metadata": {},
   "source": [
    "Users who unsubscribe may not use the service for so long."
   ]
  },
  {
   "cell_type": "code",
   "execution_count": 38,
   "metadata": {},
   "outputs": [
    {
     "data": {
      "application/vnd.jupyter.widget-view+json": {
       "model_id": "4841d63573ce48f0a293dcca1492d81a",
       "version_major": 2,
       "version_minor": 0
      },
      "text/plain": [
       "VBox()"
      ]
     },
     "metadata": {},
     "output_type": "display_data"
    },
    {
     "data": {
      "application/vnd.jupyter.widget-view+json": {
       "model_id": "",
       "version_major": 2,
       "version_minor": 0
      },
      "text/plain": [
       "FloatProgress(value=0.0, bar_style='info', description='Progress:', layout=Layout(height='25px', width='50%'),…"
      ]
     },
     "metadata": {},
     "output_type": "display_data"
    },
    {
     "data": {
      "image/png": "[encoded data removed]",
      "text/plain": [
       "<IPython.core.display.Image object>"
      ]
     },
     "metadata": {},
     "output_type": "display_data"
    }
   ],
   "source": [
    "life_time_df = df.groupby(['user_churn', 'userId', 'ts', 'registration']).count() \\\n",
    "                    .withColumn('life_time', (df.ts - df.registration) / 1000) \\\n",
    "                    .groupBy('userId', 'user_churn').agg({'life_time' : 'max'}).toPandas()\n",
    "\n",
    "# Plottint this dataframe\n",
    "fig, ax = plt.subplots(figsize=(5, 8))\n",
    "\n",
    "sns.boxplot(data=life_time_df, x='user_churn', y='max(life_time)')\n",
    "plt.xlabel('User Churn')\n",
    "plt.ylabel('Time Since Registration')\n",
    "plt.title('Time since registration and churn')\n",
    "ax.set(xticklabels=['Not Churned', 'Churned'])\n",
    "\n",
    "%matplot plt"
   ]
  },
  {
   "cell_type": "markdown",
   "metadata": {},
   "source": [
    "How about the number of friends?"
   ]
  },
  {
   "cell_type": "code",
   "execution_count": 39,
   "metadata": {},
   "outputs": [
    {
     "data": {
      "application/vnd.jupyter.widget-view+json": {
       "model_id": "960abb0c69124000a4a2916c720e8d23",
       "version_major": 2,
       "version_minor": 0
      },
      "text/plain": [
       "VBox()"
      ]
     },
     "metadata": {},
     "output_type": "display_data"
    },
    {
     "data": {
      "application/vnd.jupyter.widget-view+json": {
       "model_id": "",
       "version_major": 2,
       "version_minor": 0
      },
      "text/plain": [
       "FloatProgress(value=0.0, bar_style='info', description='Progress:', layout=Layout(height='25px', width='50%'),…"
      ]
     },
     "metadata": {},
     "output_type": "display_data"
    },
    {
     "data": {
      "image/png": "[encoded data removed]",
      "text/plain": [
       "<IPython.core.display.Image object>"
      ]
     },
     "metadata": {},
     "output_type": "display_data"
    }
   ],
   "source": [
    "# dataframe whith friends\n",
    "friends_df = df.where('page == \"Add Friend\"').groupby(['user_churn', 'userId']).count()\\\n",
    "                        .groupby(['user_churn', 'userId']).agg({'count': 'avg'}).toPandas()\n",
    "\n",
    "# Plottint how Number of Friends correlations with Churn\n",
    "\n",
    "fig, ax = plt.subplots(figsize=(10, 5))\n",
    "\n",
    "plt.title('Number of Friends')\n",
    "sns.boxplot('user_churn', y = 'avg(count)', data = friends_df)\n",
    "plt.ylabel('Average Number of Friends')\n",
    "plt.xlabel('User Churn')\n",
    "ax.set(xticklabels=['Not Churned', 'Churned'])\n",
    "\n",
    "%matplot plt"
   ]
  },
  {
   "cell_type": "markdown",
   "metadata": {},
   "source": [
    "## Feature Engineering"
   ]
  },
  {
   "cell_type": "markdown",
   "metadata": {},
   "source": [
    "Let's extract the features that will help us create the model. We need the following features:"
   ]
  },
  {
   "cell_type": "markdown",
   "metadata": {},
   "source": [
    "* Total songs listened\n",
    "* Gender\n",
    "* Number of thumbs down\n",
    "* Number of thumbs up\n",
    "* Total time since registration\n",
    "* Average songs played per session\n",
    "* Number of songs added to the playlist\n",
    "* Total number of friends\n",
    "* Help page visits \n",
    "* Settings page visits\n",
    "* Errors\n",
    "* Downgrade\n",
    "* Paid/Free users (last label)\n",
    "* Churn (target)"
   ]
  },
  {
   "cell_type": "code",
   "execution_count": 40,
   "metadata": {},
   "outputs": [
    {
     "data": {
      "application/vnd.jupyter.widget-view+json": {
       "model_id": "f2cc3206f3874ee99ae1b30af2dcac4e",
       "version_major": 2,
       "version_minor": 0
      },
      "text/plain": [
       "VBox()"
      ]
     },
     "metadata": {},
     "output_type": "display_data"
    },
    {
     "data": {
      "application/vnd.jupyter.widget-view+json": {
       "model_id": "",
       "version_major": 2,
       "version_minor": 0
      },
      "text/plain": [
       "FloatProgress(value=0.0, bar_style='info', description='Progress:', layout=Layout(height='25px', width='50%'),…"
      ]
     },
     "metadata": {},
     "output_type": "display_data"
    }
   ],
   "source": [
    "features = []"
   ]
  },
  {
   "cell_type": "markdown",
   "metadata": {},
   "source": [
    "#### Total songs listened"
   ]
  },
  {
   "cell_type": "code",
   "execution_count": 41,
   "metadata": {},
   "outputs": [
    {
     "data": {
      "application/vnd.jupyter.widget-view+json": {
       "model_id": "1284b6a82d8646c99bc06930445a37fe",
       "version_major": 2,
       "version_minor": 0
      },
      "text/plain": [
       "VBox()"
      ]
     },
     "metadata": {},
     "output_type": "display_data"
    },
    {
     "data": {
      "application/vnd.jupyter.widget-view+json": {
       "model_id": "",
       "version_major": 2,
       "version_minor": 0
      },
      "text/plain": [
       "FloatProgress(value=0.0, bar_style='info', description='Progress:', layout=Layout(height='25px', width='50%'),…"
      ]
     },
     "metadata": {},
     "output_type": "display_data"
    },
    {
     "name": "stdout",
     "output_type": "stream",
     "text": [
      "+------+-----+\n",
      "|userID|songs|\n",
      "+------+-----+\n",
      "|    61| 1622|\n",
      "|   154|   84|\n",
      "|    27|  220|\n",
      "|100014|  257|\n",
      "|200010|  237|\n",
      "+------+-----+\n",
      "only showing top 5 rows"
     ]
    }
   ],
   "source": [
    "songs_df = df.select('userID', 'page').where(df.page == 'NextSong').groupBy('userID').count() \\\n",
    "                    .withColumnRenamed('count', 'songs')\n",
    "\n",
    "songs_df.show(5)\n",
    "\n",
    "features.append(songs_df)"
   ]
  },
  {
   "cell_type": "markdown",
   "metadata": {},
   "source": [
    "#### Gender\n",
    "Set Female to 1, Male to 0"
   ]
  },
  {
   "cell_type": "code",
   "execution_count": 42,
   "metadata": {},
   "outputs": [
    {
     "data": {
      "application/vnd.jupyter.widget-view+json": {
       "model_id": "410c4d8ddccc4b67a7fd3d90fdbaaef9",
       "version_major": 2,
       "version_minor": 0
      },
      "text/plain": [
       "VBox()"
      ]
     },
     "metadata": {},
     "output_type": "display_data"
    },
    {
     "data": {
      "application/vnd.jupyter.widget-view+json": {
       "model_id": "",
       "version_major": 2,
       "version_minor": 0
      },
      "text/plain": [
       "FloatProgress(value=0.0, bar_style='info', description='Progress:', layout=Layout(height='25px', width='50%'),…"
      ]
     },
     "metadata": {},
     "output_type": "display_data"
    },
    {
     "name": "stdout",
     "output_type": "stream",
     "text": [
      "+------+------+\n",
      "|userId|gender|\n",
      "+------+------+\n",
      "|     7|     0|\n",
      "|    18|     0|\n",
      "|    27|     0|\n",
      "|    61|     0|\n",
      "|   154|     1|\n",
      "+------+------+\n",
      "only showing top 5 rows"
     ]
    }
   ],
   "source": [
    "gender_df = df.groupby('userId').agg(first(when(col('gender') == \"F\", 1).otherwise(0)).alias('gender'))\n",
    "\n",
    "gender_df.show(5)\n",
    "\n",
    "features.append(gender_df)"
   ]
  },
  {
   "cell_type": "markdown",
   "metadata": {},
   "source": [
    "#### Number of thumbs down"
   ]
  },
  {
   "cell_type": "code",
   "execution_count": 43,
   "metadata": {},
   "outputs": [
    {
     "data": {
      "application/vnd.jupyter.widget-view+json": {
       "model_id": "791b62c0387c40d584353e20dced4159",
       "version_major": 2,
       "version_minor": 0
      },
      "text/plain": [
       "VBox()"
      ]
     },
     "metadata": {},
     "output_type": "display_data"
    },
    {
     "data": {
      "application/vnd.jupyter.widget-view+json": {
       "model_id": "",
       "version_major": 2,
       "version_minor": 0
      },
      "text/plain": [
       "FloatProgress(value=0.0, bar_style='info', description='Progress:', layout=Layout(height='25px', width='50%'),…"
      ]
     },
     "metadata": {},
     "output_type": "display_data"
    },
    {
     "name": "stdout",
     "output_type": "stream",
     "text": [
      "+------+-----------+\n",
      "|userId|thumbs_down|\n",
      "+------+-----------+\n",
      "|    61|         11|\n",
      "|    26|          1|\n",
      "|100014|          3|\n",
      "|200010|          7|\n",
      "|     7|          1|\n",
      "+------+-----------+\n",
      "only showing top 5 rows"
     ]
    }
   ],
   "source": [
    "thumbs_down_df = df.select('userId', 'page').where(df.page == 'Thumbs Down').groupBy('userId').count() \\\n",
    "                    .withColumnRenamed('count', 'thumbs_down')\n",
    "\n",
    "thumbs_down_df.show(5)\n",
    "\n",
    "features.append(thumbs_down_df)"
   ]
  },
  {
   "cell_type": "markdown",
   "metadata": {},
   "source": [
    "#### Number of thumbs up"
   ]
  },
  {
   "cell_type": "code",
   "execution_count": 44,
   "metadata": {},
   "outputs": [
    {
     "data": {
      "application/vnd.jupyter.widget-view+json": {
       "model_id": "87dda41d0a89484593d32448cc3afaa4",
       "version_major": 2,
       "version_minor": 0
      },
      "text/plain": [
       "VBox()"
      ]
     },
     "metadata": {},
     "output_type": "display_data"
    },
    {
     "data": {
      "application/vnd.jupyter.widget-view+json": {
       "model_id": "",
       "version_major": 2,
       "version_minor": 0
      },
      "text/plain": [
       "FloatProgress(value=0.0, bar_style='info', description='Progress:', layout=Layout(height='25px', width='50%'),…"
      ]
     },
     "metadata": {},
     "output_type": "display_data"
    },
    {
     "name": "stdout",
     "output_type": "stream",
     "text": [
      "+------+---------+\n",
      "|userId|thumbs_up|\n",
      "+------+---------+\n",
      "|    18|       20|\n",
      "|    61|       78|\n",
      "|   154|       11|\n",
      "|300017|      303|\n",
      "|300012|       52|\n",
      "+------+---------+\n",
      "only showing top 5 rows"
     ]
    }
   ],
   "source": [
    "thumbs_up_df = df.select('userId', 'page').where(df.page == 'Thumbs Up').groupBy('userId').count() \\\n",
    "                    .withColumnRenamed('count', 'thumbs_up')\n",
    "thumbs_up_df.show(5)\n",
    "\n",
    "features.append(thumbs_up_df)"
   ]
  },
  {
   "cell_type": "markdown",
   "metadata": {},
   "source": [
    "#### Total time since registration"
   ]
  },
  {
   "cell_type": "code",
   "execution_count": 45,
   "metadata": {},
   "outputs": [
    {
     "data": {
      "application/vnd.jupyter.widget-view+json": {
       "model_id": "4fac5c861133441498d15663fe9a8bf6",
       "version_major": 2,
       "version_minor": 0
      },
      "text/plain": [
       "VBox()"
      ]
     },
     "metadata": {},
     "output_type": "display_data"
    },
    {
     "data": {
      "application/vnd.jupyter.widget-view+json": {
       "model_id": "",
       "version_major": 2,
       "version_minor": 0
      },
      "text/plain": [
       "FloatProgress(value=0.0, bar_style='info', description='Progress:', layout=Layout(height='25px', width='50%'),…"
      ]
     },
     "metadata": {},
     "output_type": "display_data"
    },
    {
     "name": "stdout",
     "output_type": "stream",
     "text": [
      "+------+-----------------------+\n",
      "|userId|time_since_registration|\n",
      "+------+-----------------------+\n",
      "|     7|              6288035.0|\n",
      "|   154|              2062544.0|\n",
      "|100014|              7351206.0|\n",
      "|300017|              6424576.0|\n",
      "|200010|              3295511.0|\n",
      "+------+-----------------------+\n",
      "only showing top 5 rows"
     ]
    }
   ],
   "source": [
    "time_since_registration_df = df.groupby(['userId', 'ts', 'registration']).count() \\\n",
    "                    .withColumn('life_time', (df.ts - df.registration) / 1000) \\\n",
    "                    .groupBy('userId').agg(Fmax('life_time')) \\\n",
    "                    .withColumnRenamed('max(life_time)', 'time_since_registration')\n",
    "\n",
    "time_since_registration_df.show(5)\n",
    "\n",
    "features.append(time_since_registration_df)"
   ]
  },
  {
   "cell_type": "markdown",
   "metadata": {},
   "source": [
    "#### Average songs played per session"
   ]
  },
  {
   "cell_type": "code",
   "execution_count": 46,
   "metadata": {},
   "outputs": [
    {
     "data": {
      "application/vnd.jupyter.widget-view+json": {
       "model_id": "0a44f4f2137f4bf8af6da45021c31a86",
       "version_major": 2,
       "version_minor": 0
      },
      "text/plain": [
       "VBox()"
      ]
     },
     "metadata": {},
     "output_type": "display_data"
    },
    {
     "data": {
      "application/vnd.jupyter.widget-view+json": {
       "model_id": "",
       "version_major": 2,
       "version_minor": 0
      },
      "text/plain": [
       "FloatProgress(value=0.0, bar_style='info', description='Progress:', layout=Layout(height='25px', width='50%'),…"
      ]
     },
     "metadata": {},
     "output_type": "display_data"
    },
    {
     "name": "stdout",
     "output_type": "stream",
     "text": [
      "+------+-------------------+\n",
      "|userId|avg_songs_p_session|\n",
      "+------+-------------------+\n",
      "|300017| 59.540983606557376|\n",
      "|200010|               39.5|\n",
      "|300013| 55.833333333333336|\n",
      "|     7| 21.428571428571427|\n",
      "|300012|  91.71428571428571|\n",
      "+------+-------------------+\n",
      "only showing top 5 rows"
     ]
    }
   ],
   "source": [
    "avg_songs_p_session_df = df.where(df.song.isNotNull()).groupby(['userId', 'sessionId']).count()\\\n",
    "                            .groupby(['userId']).agg({'count': 'avg'}) \\\n",
    "                            .withColumnRenamed('avg(count)', 'avg_songs_p_session')\n",
    "\n",
    "avg_songs_p_session_df.show(5)\n",
    "\n",
    "features.append(avg_songs_p_session_df)"
   ]
  },
  {
   "cell_type": "markdown",
   "metadata": {},
   "source": [
    "#### Number of songs added to playlist"
   ]
  },
  {
   "cell_type": "code",
   "execution_count": 47,
   "metadata": {},
   "outputs": [
    {
     "data": {
      "application/vnd.jupyter.widget-view+json": {
       "model_id": "c6358d4b9ee84d27904edff0c4a15816",
       "version_major": 2,
       "version_minor": 0
      },
      "text/plain": [
       "VBox()"
      ]
     },
     "metadata": {},
     "output_type": "display_data"
    },
    {
     "data": {
      "application/vnd.jupyter.widget-view+json": {
       "model_id": "",
       "version_major": 2,
       "version_minor": 0
      },
      "text/plain": [
       "FloatProgress(value=0.0, bar_style='info', description='Progress:', layout=Layout(height='25px', width='50%'),…"
      ]
     },
     "metadata": {},
     "output_type": "display_data"
    },
    {
     "name": "stdout",
     "output_type": "stream",
     "text": [
      "+------+-----------------+\n",
      "|userID|songs_in_playlist|\n",
      "+------+-----------------+\n",
      "|    18|               14|\n",
      "|    75|               27|\n",
      "|100014|                7|\n",
      "|100025|                9|\n",
      "|100005|                3|\n",
      "+------+-----------------+\n",
      "only showing top 5 rows"
     ]
    }
   ],
   "source": [
    "songs_in_playlist_df = df.select('userID', 'page') \\\n",
    "                            .where(df.page == 'Add to Playlist').groupBy('userID').count() \\\n",
    "                            .withColumnRenamed('count', 'songs_in_playlist')\n",
    "\n",
    "songs_in_playlist_df.show(5)\n",
    "\n",
    "features.append(songs_in_playlist_df)"
   ]
  },
  {
   "cell_type": "markdown",
   "metadata": {},
   "source": [
    "#### Total number of friends"
   ]
  },
  {
   "cell_type": "code",
   "execution_count": 48,
   "metadata": {},
   "outputs": [
    {
     "data": {
      "application/vnd.jupyter.widget-view+json": {
       "model_id": "a380c82466004547b64eb2ad39593805",
       "version_major": 2,
       "version_minor": 0
      },
      "text/plain": [
       "VBox()"
      ]
     },
     "metadata": {},
     "output_type": "display_data"
    },
    {
     "data": {
      "application/vnd.jupyter.widget-view+json": {
       "model_id": "",
       "version_major": 2,
       "version_minor": 0
      },
      "text/plain": [
       "FloatProgress(value=0.0, bar_style='info', description='Progress:', layout=Layout(height='25px', width='50%'),…"
      ]
     },
     "metadata": {},
     "output_type": "display_data"
    },
    {
     "name": "stdout",
     "output_type": "stream",
     "text": [
      "+------+-----------------+\n",
      "|userId|number_of_friends|\n",
      "+------+-----------------+\n",
      "|    18|             10.0|\n",
      "|    61|             26.0|\n",
      "|    27|              7.0|\n",
      "|   154|              3.0|\n",
      "|300017|             63.0|\n",
      "+------+-----------------+\n",
      "only showing top 5 rows"
     ]
    }
   ],
   "source": [
    "number_of_friends_df = df.where('page == \"Add Friend\"').groupby(['userId']).count()\\\n",
    "                        .groupby(['userId']).agg({'count': 'avg'}).withColumnRenamed('avg(count)', 'number_of_friends')\n",
    "                                                                 \n",
    "number_of_friends_df.show(5)\n",
    "\n",
    "features.append(number_of_friends_df)"
   ]
  },
  {
   "cell_type": "markdown",
   "metadata": {},
   "source": [
    "#### Help page visits "
   ]
  },
  {
   "cell_type": "code",
   "execution_count": 49,
   "metadata": {},
   "outputs": [
    {
     "data": {
      "application/vnd.jupyter.widget-view+json": {
       "model_id": "5444e8e3b6f945bfa83c13d715651a22",
       "version_major": 2,
       "version_minor": 0
      },
      "text/plain": [
       "VBox()"
      ]
     },
     "metadata": {},
     "output_type": "display_data"
    },
    {
     "data": {
      "application/vnd.jupyter.widget-view+json": {
       "model_id": "",
       "version_major": 2,
       "version_minor": 0
      },
      "text/plain": [
       "FloatProgress(value=0.0, bar_style='info', description='Progress:', layout=Layout(height='25px', width='50%'),…"
      ]
     },
     "metadata": {},
     "output_type": "display_data"
    },
    {
     "name": "stdout",
     "output_type": "stream",
     "text": [
      "+------+-----------+\n",
      "|userId|help_visits|\n",
      "+------+-----------+\n",
      "|     7|          1|\n",
      "|    18|          1|\n",
      "|    27|          1|\n",
      "|    61|         10|\n",
      "|   154|          1|\n",
      "+------+-----------+\n",
      "only showing top 5 rows"
     ]
    }
   ],
   "source": [
    "help_df = df.groupby('userId').agg(Fsum(when(col('page') == 'Help', 1).otherwise(0)).alias('help_visits'))\n",
    "\n",
    "help_df.show(5)\n",
    "\n",
    "features.append(help_df)"
   ]
  },
  {
   "cell_type": "markdown",
   "metadata": {},
   "source": [
    "#### Settings page visits"
   ]
  },
  {
   "cell_type": "code",
   "execution_count": 50,
   "metadata": {},
   "outputs": [
    {
     "data": {
      "application/vnd.jupyter.widget-view+json": {
       "model_id": "dbe722c14b874b0db209ab06056d8df5",
       "version_major": 2,
       "version_minor": 0
      },
      "text/plain": [
       "VBox()"
      ]
     },
     "metadata": {},
     "output_type": "display_data"
    },
    {
     "data": {
      "application/vnd.jupyter.widget-view+json": {
       "model_id": "",
       "version_major": 2,
       "version_minor": 0
      },
      "text/plain": [
       "FloatProgress(value=0.0, bar_style='info', description='Progress:', layout=Layout(height='25px', width='50%'),…"
      ]
     },
     "metadata": {},
     "output_type": "display_data"
    },
    {
     "name": "stdout",
     "output_type": "stream",
     "text": [
      "+------+---------------+\n",
      "|userId|settings_visits|\n",
      "+------+---------------+\n",
      "|    18|              5|\n",
      "|    61|              9|\n",
      "|     7|              3|\n",
      "|    27|              1|\n",
      "|   154|              0|\n",
      "+------+---------------+\n",
      "only showing top 5 rows"
     ]
    }
   ],
   "source": [
    "settings_df = df.groupby('userId').agg(Fsum(when(col('page') == 'Settings', 1).otherwise(0)).alias('settings_visits'))\n",
    "\n",
    "settings_df.show(5)\n",
    "\n",
    "features.append(settings_df)"
   ]
  },
  {
   "cell_type": "markdown",
   "metadata": {},
   "source": [
    "#### Errors"
   ]
  },
  {
   "cell_type": "code",
   "execution_count": 51,
   "metadata": {},
   "outputs": [
    {
     "data": {
      "application/vnd.jupyter.widget-view+json": {
       "model_id": "af9a3292c9744f26ad721b4db0874be2",
       "version_major": 2,
       "version_minor": 0
      },
      "text/plain": [
       "VBox()"
      ]
     },
     "metadata": {},
     "output_type": "display_data"
    },
    {
     "data": {
      "application/vnd.jupyter.widget-view+json": {
       "model_id": "",
       "version_major": 2,
       "version_minor": 0
      },
      "text/plain": [
       "FloatProgress(value=0.0, bar_style='info', description='Progress:', layout=Layout(height='25px', width='50%'),…"
      ]
     },
     "metadata": {},
     "output_type": "display_data"
    },
    {
     "name": "stdout",
     "output_type": "stream",
     "text": [
      "+------+------+\n",
      "|userId|errors|\n",
      "+------+------+\n",
      "|    61|     2|\n",
      "|   154|     0|\n",
      "|    27|     0|\n",
      "|200010|     1|\n",
      "|300017|     5|\n",
      "+------+------+\n",
      "only showing top 5 rows"
     ]
    }
   ],
   "source": [
    "errors_df = df.groupby('userId').agg(Fsum(when(col('page') == 'Error', 1).otherwise(0)).alias('errors'))\n",
    "\n",
    "errors_df.show(5)\n",
    "\n",
    "features.append(errors_df)"
   ]
  },
  {
   "cell_type": "markdown",
   "metadata": {},
   "source": [
    "#### Downgrade"
   ]
  },
  {
   "cell_type": "code",
   "execution_count": 52,
   "metadata": {},
   "outputs": [
    {
     "data": {
      "application/vnd.jupyter.widget-view+json": {
       "model_id": "497f222ab1104147b697d0a263742279",
       "version_major": 2,
       "version_minor": 0
      },
      "text/plain": [
       "VBox()"
      ]
     },
     "metadata": {},
     "output_type": "display_data"
    },
    {
     "data": {
      "application/vnd.jupyter.widget-view+json": {
       "model_id": "",
       "version_major": 2,
       "version_minor": 0
      },
      "text/plain": [
       "FloatProgress(value=0.0, bar_style='info', description='Progress:', layout=Layout(height='25px', width='50%'),…"
      ]
     },
     "metadata": {},
     "output_type": "display_data"
    },
    {
     "name": "stdout",
     "output_type": "stream",
     "text": [
      "+------+---------+\n",
      "|userId|downgrade|\n",
      "+------+---------+\n",
      "|    13|        0|\n",
      "|    94|        0|\n",
      "|    29|        0|\n",
      "|    12|        0|\n",
      "|     8|        0|\n",
      "+------+---------+\n",
      "only showing top 5 rows"
     ]
    }
   ],
   "source": [
    "downgrade_df = df.select('userId', 'downgrade').dropDuplicates()\n",
    "\n",
    "downgrade_df.show(5)\n",
    "\n",
    "features.append(downgrade_df)"
   ]
  },
  {
   "cell_type": "markdown",
   "metadata": {},
   "source": [
    "#### Paid/Free users (last)\n",
    "\n",
    "Set paid users to 1, free to 0"
   ]
  },
  {
   "cell_type": "code",
   "execution_count": 53,
   "metadata": {},
   "outputs": [
    {
     "data": {
      "application/vnd.jupyter.widget-view+json": {
       "model_id": "f0455090766d479b8c62b30a0d317e5a",
       "version_major": 2,
       "version_minor": 0
      },
      "text/plain": [
       "VBox()"
      ]
     },
     "metadata": {},
     "output_type": "display_data"
    },
    {
     "data": {
      "application/vnd.jupyter.widget-view+json": {
       "model_id": "",
       "version_major": 2,
       "version_minor": 0
      },
      "text/plain": [
       "FloatProgress(value=0.0, bar_style='info', description='Progress:', layout=Layout(height='25px', width='50%'),…"
      ]
     },
     "metadata": {},
     "output_type": "display_data"
    },
    {
     "name": "stdout",
     "output_type": "stream",
     "text": [
      "+------+-----+\n",
      "|userId|level|\n",
      "+------+-----+\n",
      "|     7|    0|\n",
      "|    18|    1|\n",
      "|    27|    0|\n",
      "|    61|    1|\n",
      "|100014|    1|\n",
      "+------+-----+\n",
      "only showing top 5 rows"
     ]
    }
   ],
   "source": [
    "level_df = df.groupby('userId').agg(last(when(col('level') == 'paid', 1).otherwise(0)).alias('level'))\n",
    "\n",
    "level_df.show(5)\n",
    "\n",
    "features.append(level_df)"
   ]
  },
  {
   "cell_type": "markdown",
   "metadata": {},
   "source": [
    "#### Churn (target)"
   ]
  },
  {
   "cell_type": "code",
   "execution_count": 54,
   "metadata": {},
   "outputs": [
    {
     "data": {
      "application/vnd.jupyter.widget-view+json": {
       "model_id": "3989e41736024f64b629b2382b4f7d4a",
       "version_major": 2,
       "version_minor": 0
      },
      "text/plain": [
       "VBox()"
      ]
     },
     "metadata": {},
     "output_type": "display_data"
    },
    {
     "data": {
      "application/vnd.jupyter.widget-view+json": {
       "model_id": "",
       "version_major": 2,
       "version_minor": 0
      },
      "text/plain": [
       "FloatProgress(value=0.0, bar_style='info', description='Progress:', layout=Layout(height='25px', width='50%'),…"
      ]
     },
     "metadata": {},
     "output_type": "display_data"
    },
    {
     "name": "stdout",
     "output_type": "stream",
     "text": [
      "+------+----------+\n",
      "|userId|user_churn|\n",
      "+------+----------+\n",
      "|100005|         1|\n",
      "|100014|         1|\n",
      "|100025|         1|\n",
      "|   154|         0|\n",
      "|    18|         1|\n",
      "+------+----------+\n",
      "only showing top 5 rows"
     ]
    }
   ],
   "source": [
    "churn = df.select('userId', 'user_churn').dropDuplicates()\n",
    "\n",
    "churn.show(5)\n",
    "\n",
    "features.append(churn)"
   ]
  },
  {
   "cell_type": "code",
   "execution_count": 55,
   "metadata": {},
   "outputs": [
    {
     "data": {
      "application/vnd.jupyter.widget-view+json": {
       "model_id": "abd1e05a72274c2da603062242f1c51a",
       "version_major": 2,
       "version_minor": 0
      },
      "text/plain": [
       "VBox()"
      ]
     },
     "metadata": {},
     "output_type": "display_data"
    },
    {
     "data": {
      "application/vnd.jupyter.widget-view+json": {
       "model_id": "",
       "version_major": 2,
       "version_minor": 0
      },
      "text/plain": [
       "FloatProgress(value=0.0, bar_style='info', description='Progress:', layout=Layout(height='25px', width='50%'),…"
      ]
     },
     "metadata": {},
     "output_type": "display_data"
    },
    {
     "name": "stdout",
     "output_type": "stream",
     "text": [
      "[DataFrame[userID: string, songs: bigint], DataFrame[userId: string, gender: int], DataFrame[userId: string, thumbs_down: bigint], DataFrame[userId: string, thumbs_up: bigint], DataFrame[userId: string, time_since_registration: double], DataFrame[userId: string, avg_songs_p_session: double], DataFrame[userID: string, songs_in_playlist: bigint], DataFrame[userId: string, number_of_friends: double], DataFrame[userId: string, help_visits: bigint], DataFrame[userId: string, settings_visits: bigint], DataFrame[userId: string, errors: bigint], DataFrame[userId: string, downgrade: int], DataFrame[userId: string, level: int], DataFrame[userId: string, user_churn: int]]"
     ]
    }
   ],
   "source": [
    "print(features)"
   ]
  },
  {
   "cell_type": "code",
   "execution_count": 56,
   "metadata": {},
   "outputs": [
    {
     "data": {
      "application/vnd.jupyter.widget-view+json": {
       "model_id": "98ce315fe2714b10bb65bf28ba78dcfc",
       "version_major": 2,
       "version_minor": 0
      },
      "text/plain": [
       "VBox()"
      ]
     },
     "metadata": {},
     "output_type": "display_data"
    },
    {
     "data": {
      "application/vnd.jupyter.widget-view+json": {
       "model_id": "",
       "version_major": 2,
       "version_minor": 0
      },
      "text/plain": [
       "FloatProgress(value=0.0, bar_style='info', description='Progress:', layout=Layout(height='25px', width='50%'),…"
      ]
     },
     "metadata": {},
     "output_type": "display_data"
    },
    {
     "name": "stdout",
     "output_type": "stream",
     "text": [
      "+------+----------+-----+---------+------+---------------+-----------+-----------------+-----------------+-------------------+-----------------------+---------+-----------+------+-----+\n",
      "|userId|user_churn|level|downgrade|errors|settings_visits|help_visits|number_of_friends|songs_in_playlist|avg_songs_p_session|time_since_registration|thumbs_up|thumbs_down|gender|songs|\n",
      "+------+----------+-----+---------+------+---------------+-----------+-----------------+-----------------+-------------------+-----------------------+---------+-----------+------+-----+\n",
      "|100005|         1|    0|        0|     0|              2|          2|              3.0|                3|               38.5|              7360899.0|        7|          3|     0|  154|\n",
      "|100014|         1|    1|        0|     0|              1|          2|              6.0|                7| 42.833333333333336|              7351206.0|       17|          3|     0|  257|\n",
      "|100025|         1|    1|        1|     1|              7|          5|              3.0|                9|               70.0|              7673583.0|       20|          7|     1|  490|\n",
      "|100025|         1|    1|        0|     1|              7|          5|              3.0|                9|               70.0|              7673583.0|       20|          7|     1|  490|\n",
      "|   154|         0|    0|        0|     0|              0|          1|              3.0|                1|               28.0|              2062544.0|       11|          0|     0|    0|\n",
      "+------+----------+-----+---------+------+---------------+-----------+-----------------+-----------------+-------------------+-----------------------+---------+-----------+------+-----+\n",
      "only showing top 5 rows"
     ]
    }
   ],
   "source": [
    "final_df = songs_df\n",
    "\n",
    "def merging_dataframes(a_df, b_df):\n",
    "    '''  \n",
    "    INPUT: \n",
    "    df1, df2 - dataframes to be merged\n",
    "    \n",
    "    OUTPUT: \n",
    "    df - merged dataframe\n",
    "    \n",
    "    Description: \n",
    "    Join dataframes\n",
    "    '''\n",
    "    \n",
    "    merged_df = b_df.join(a_df, on=['userId'], how='left')\n",
    "    \n",
    "    return merged_df\n",
    "\n",
    "for names in features[1:]:\n",
    "    final_df = merging_dataframes(final_df, names)\n",
    "\n",
    "# fill nans\n",
    "final_df = final_df.na.fill(0)\n",
    "final_df.show(5)"
   ]
  },
  {
   "cell_type": "code",
   "execution_count": 57,
   "metadata": {},
   "outputs": [
    {
     "data": {
      "application/vnd.jupyter.widget-view+json": {
       "model_id": "68b98f86624c4459a873fc3f19e257d5",
       "version_major": 2,
       "version_minor": 0
      },
      "text/plain": [
       "VBox()"
      ]
     },
     "metadata": {},
     "output_type": "display_data"
    },
    {
     "data": {
      "application/vnd.jupyter.widget-view+json": {
       "model_id": "",
       "version_major": 2,
       "version_minor": 0
      },
      "text/plain": [
       "FloatProgress(value=0.0, bar_style='info', description='Progress:', layout=Layout(height='25px', width='50%'),…"
      ]
     },
     "metadata": {},
     "output_type": "display_data"
    },
    {
     "name": "stdout",
     "output_type": "stream",
     "text": [
      "root\n",
      " |-- userId: string (nullable = true)\n",
      " |-- user_churn: integer (nullable = true)\n",
      " |-- level: integer (nullable = true)\n",
      " |-- downgrade: integer (nullable = true)\n",
      " |-- errors: long (nullable = true)\n",
      " |-- settings_visits: long (nullable = true)\n",
      " |-- help_visits: long (nullable = true)\n",
      " |-- number_of_friends: double (nullable = false)\n",
      " |-- songs_in_playlist: long (nullable = true)\n",
      " |-- avg_songs_p_session: double (nullable = false)\n",
      " |-- time_since_registration: double (nullable = false)\n",
      " |-- thumbs_up: long (nullable = true)\n",
      " |-- thumbs_down: long (nullable = true)\n",
      " |-- gender: integer (nullable = true)\n",
      " |-- songs: long (nullable = true)"
     ]
    }
   ],
   "source": [
    "final_df.printSchema()"
   ]
  },
  {
   "cell_type": "markdown",
   "metadata": {},
   "source": [
    "## Modeling"
   ]
  },
  {
   "cell_type": "markdown",
   "metadata": {},
   "source": [
    "Let's split the dataset into training, test, and validation sets. Let's test several machine learning methods. We will evaluate the accuracy of various models, adjusting the parameters if necessary."
   ]
  },
  {
   "cell_type": "markdown",
   "metadata": {},
   "source": [
    "#### Vectorize and Standardizing \n",
    "\n",
    "Let's transform numeric features to Vector Assembler."
   ]
  },
  {
   "cell_type": "code",
   "execution_count": 58,
   "metadata": {},
   "outputs": [
    {
     "data": {
      "application/vnd.jupyter.widget-view+json": {
       "model_id": "7cf5ec016ed44a95ba4da0d8aa22532f",
       "version_major": 2,
       "version_minor": 0
      },
      "text/plain": [
       "VBox()"
      ]
     },
     "metadata": {},
     "output_type": "display_data"
    },
    {
     "data": {
      "application/vnd.jupyter.widget-view+json": {
       "model_id": "",
       "version_major": 2,
       "version_minor": 0
      },
      "text/plain": [
       "FloatProgress(value=0.0, bar_style='info', description='Progress:', layout=Layout(height='25px', width='50%'),…"
      ]
     },
     "metadata": {},
     "output_type": "display_data"
    },
    {
     "name": "stdout",
     "output_type": "stream",
     "text": [
      "['userId', 'user_churn', 'level', 'downgrade', 'errors', 'settings_visits', 'help_visits', 'number_of_friends', 'songs_in_playlist', 'avg_songs_p_session', 'time_since_registration', 'thumbs_up', 'thumbs_down', 'gender', 'songs']"
     ]
    }
   ],
   "source": [
    "final_df.columns"
   ]
  },
  {
   "cell_type": "code",
   "execution_count": 59,
   "metadata": {},
   "outputs": [
    {
     "data": {
      "application/vnd.jupyter.widget-view+json": {
       "model_id": "64bdc3672b7e48d6822352bccbe05501",
       "version_major": 2,
       "version_minor": 0
      },
      "text/plain": [
       "VBox()"
      ]
     },
     "metadata": {},
     "output_type": "display_data"
    },
    {
     "data": {
      "application/vnd.jupyter.widget-view+json": {
       "model_id": "",
       "version_major": 2,
       "version_minor": 0
      },
      "text/plain": [
       "FloatProgress(value=0.0, bar_style='info', description='Progress:', layout=Layout(height='25px', width='50%'),…"
      ]
     },
     "metadata": {},
     "output_type": "display_data"
    }
   ],
   "source": [
    "# Create VectorAssembler and StandardScaler objects\n",
    "# numeric features transform separately from binary\n",
    "num_vector = VectorAssembler(inputCols=['downgrade', 'errors', 'settings_visits', \n",
    "                                        'help_visits', 'number_of_friends', 'songs_in_playlist', \n",
    "                                        'avg_songs_p_session', 'time_since_registration', 'thumbs_up', \n",
    "                                        'thumbs_down', 'songs','level', 'gender'], \n",
    "                             outputCol='num_vector_assem')\n",
    "\n",
    "num_scaler = StandardScaler(inputCol='num_vector_assem', outputCol ='num_vector_sc', withStd=True, withMean=True)\n",
    "\n",
    "final_vector = VectorAssembler(inputCols=['level', 'gender']+['num_vector_sc'], \n",
    "                               outputCol='features_vector')"
   ]
  },
  {
   "cell_type": "code",
   "execution_count": 60,
   "metadata": {},
   "outputs": [
    {
     "data": {
      "application/vnd.jupyter.widget-view+json": {
       "model_id": "6585d2d9479a46619fc94e93d00b7902",
       "version_major": 2,
       "version_minor": 0
      },
      "text/plain": [
       "VBox()"
      ]
     },
     "metadata": {},
     "output_type": "display_data"
    },
    {
     "data": {
      "application/vnd.jupyter.widget-view+json": {
       "model_id": "",
       "version_major": 2,
       "version_minor": 0
      },
      "text/plain": [
       "FloatProgress(value=0.0, bar_style='info', description='Progress:', layout=Layout(height='25px', width='50%'),…"
      ]
     },
     "metadata": {},
     "output_type": "display_data"
    }
   ],
   "source": [
    "# Transform data\n",
    "data = num_vector.transform(final_df)\n",
    "\n",
    "feature_standardize = num_scaler.fit(data)\n",
    "data = feature_standardize.transform(data)\n",
    "\n",
    "data = final_vector.transform(data)"
   ]
  },
  {
   "cell_type": "code",
   "execution_count": 61,
   "metadata": {},
   "outputs": [
    {
     "data": {
      "application/vnd.jupyter.widget-view+json": {
       "model_id": "9afd42d10afe4995ac4de3a135779bda",
       "version_major": 2,
       "version_minor": 0
      },
      "text/plain": [
       "VBox()"
      ]
     },
     "metadata": {},
     "output_type": "display_data"
    },
    {
     "data": {
      "application/vnd.jupyter.widget-view+json": {
       "model_id": "",
       "version_major": 2,
       "version_minor": 0
      },
      "text/plain": [
       "FloatProgress(value=0.0, bar_style='info', description='Progress:', layout=Layout(height='25px', width='50%'),…"
      ]
     },
     "metadata": {},
     "output_type": "display_data"
    },
    {
     "name": "stdout",
     "output_type": "stream",
     "text": [
      "+----------+--------------------+\n",
      "|user_churn|     features_vector|\n",
      "+----------+--------------------+\n",
      "|         1|[0.0,0.0,-0.46581...|\n",
      "|         1|[1.0,0.0,-0.46581...|\n",
      "|         1|[0.0,1.0,-0.46581...|\n",
      "|         1|[0.0,1.0,2.138943...|\n",
      "|         0|[0.0,0.0,-0.46581...|\n",
      "+----------+--------------------+\n",
      "only showing top 5 rows"
     ]
    }
   ],
   "source": [
    "#final data\n",
    "data = data.select(data.user_churn, data.features_vector)\n",
    "data.show(5)"
   ]
  },
  {
   "cell_type": "code",
   "execution_count": 62,
   "metadata": {},
   "outputs": [
    {
     "data": {
      "application/vnd.jupyter.widget-view+json": {
       "model_id": "1614dd95e4924eb9a859c6e1f1e00059",
       "version_major": 2,
       "version_minor": 0
      },
      "text/plain": [
       "VBox()"
      ]
     },
     "metadata": {},
     "output_type": "display_data"
    },
    {
     "data": {
      "application/vnd.jupyter.widget-view+json": {
       "model_id": "",
       "version_major": 2,
       "version_minor": 0
      },
      "text/plain": [
       "FloatProgress(value=0.0, bar_style='info', description='Progress:', layout=Layout(height='25px', width='50%'),…"
      ]
     },
     "metadata": {},
     "output_type": "display_data"
    }
   ],
   "source": [
    "# Split Test and Train set\n",
    "train, test = data.randomSplit([0.6, 0.4], seed=42)"
   ]
  },
  {
   "cell_type": "markdown",
   "metadata": {},
   "source": [
    "### Functions for printing and reports"
   ]
  },
  {
   "cell_type": "code",
   "execution_count": 63,
   "metadata": {},
   "outputs": [
    {
     "data": {
      "application/vnd.jupyter.widget-view+json": {
       "model_id": "8fb104df51784381a694644a907920e5",
       "version_major": 2,
       "version_minor": 0
      },
      "text/plain": [
       "VBox()"
      ]
     },
     "metadata": {},
     "output_type": "display_data"
    },
    {
     "data": {
      "application/vnd.jupyter.widget-view+json": {
       "model_id": "",
       "version_major": 2,
       "version_minor": 0
      },
      "text/plain": [
       "FloatProgress(value=0.0, bar_style='info', description='Progress:', layout=Layout(height='25px', width='50%'),…"
      ]
     },
     "metadata": {},
     "output_type": "display_data"
    }
   ],
   "source": [
    "# function for printing results\n",
    "def evaluate_print(model_result, model_name, start, end):\n",
    "    ''' \n",
    "    INPUT:\n",
    "    model_result : result\n",
    "    model_name : string\n",
    "    start, end : training time start and end\n",
    "    \n",
    "    OUTPUT: list\n",
    "    \n",
    "    Description:\n",
    "    The function prints results and total time of the training\n",
    "    \n",
    "    '''\n",
    "    \n",
    "    evaluator = MulticlassClassificationEvaluator(predictionCol='prediction')\n",
    "    evaluator.setLabelCol('user_churn')\n",
    "    accuracy = evaluator.evaluate(model_result, {evaluator.metricName : 'accuracy'})\n",
    "    f1 = evaluator.evaluate(model_result, {evaluator.metricName : 'f1'})\n",
    "    time = (end - start)/60\n",
    "    \n",
    "    result = [model_name, round(accuracy,3), round(f1,3), round(time,1)]\n",
    "    \n",
    "    print('{} performance metrics:'.format(model_name))\n",
    "    print('Accuracy: {}'.format(accuracy))\n",
    "    print('F-1 Score: {}'.format(f1))\n",
    "    print('Total training time: {} minutes'.format(time))\n",
    "    \n",
    "    return result"
   ]
  },
  {
   "cell_type": "code",
   "execution_count": 64,
   "metadata": {},
   "outputs": [
    {
     "data": {
      "application/vnd.jupyter.widget-view+json": {
       "model_id": "484f3c702a5e4dd199a9fcfa1f58db67",
       "version_major": 2,
       "version_minor": 0
      },
      "text/plain": [
       "VBox()"
      ]
     },
     "metadata": {},
     "output_type": "display_data"
    },
    {
     "data": {
      "application/vnd.jupyter.widget-view+json": {
       "model_id": "",
       "version_major": 2,
       "version_minor": 0
      },
      "text/plain": [
       "FloatProgress(value=0.0, bar_style='info', description='Progress:', layout=Layout(height='25px', width='50%'),…"
      ]
     },
     "metadata": {},
     "output_type": "display_data"
    }
   ],
   "source": [
    "def reports(model_result):\n",
    "    '''\n",
    "    INPUT:\n",
    "    model_result : list\n",
    "    \n",
    "    OUTPUT: None\n",
    "    \n",
    "    Description:\n",
    "    The function aggregate and prints results of models\n",
    "    \n",
    "    '''\n",
    "    print(model_result[0])\n",
    "    print('Accuracy: {}'.format(model_result[1]))\n",
    "    print('F-1 Score: {}'.format(model_result[2]))\n",
    "    print('Total training time: {} minutes'.format(model_result[3]))\n",
    "    \n",
    "    print()"
   ]
  },
  {
   "cell_type": "markdown",
   "metadata": {},
   "source": [
    "### Baseline Model\n",
    "\n",
    "We will train three models: Random Forest, Gradient Boosted Trees, and Support Vector Machine. But before we need baseline model. A baseline is the result of a very basic model/solution. Then we will try to make more complex solutions in order to get a better result. If we achieve a better score than the baseline, it is good.\n",
    "\n",
    "We will try to assume that the answer is always zero (No user has canceled their subscription.). This will be our baseline model."
   ]
  },
  {
   "cell_type": "code",
   "execution_count": 65,
   "metadata": {},
   "outputs": [
    {
     "data": {
      "application/vnd.jupyter.widget-view+json": {
       "model_id": "ead02dafb9d14d9e988a6d782ee471f1",
       "version_major": 2,
       "version_minor": 0
      },
      "text/plain": [
       "VBox()"
      ]
     },
     "metadata": {},
     "output_type": "display_data"
    },
    {
     "data": {
      "application/vnd.jupyter.widget-view+json": {
       "model_id": "",
       "version_major": 2,
       "version_minor": 0
      },
      "text/plain": [
       "FloatProgress(value=0.0, bar_style='info', description='Progress:', layout=Layout(height='25px', width='50%'),…"
      ]
     },
     "metadata": {},
     "output_type": "display_data"
    },
    {
     "name": "stdout",
     "output_type": "stream",
     "text": [
      "+----------+--------------------+----------+\n",
      "|user_churn|     features_vector|prediction|\n",
      "+----------+--------------------+----------+\n",
      "|         0|[0.0,0.0,-0.46581...|       0.0|\n",
      "|         0|[0.0,0.0,-0.46581...|       0.0|\n",
      "|         0|[0.0,0.0,-0.46581...|       0.0|\n",
      "|         0|[0.0,1.0,-0.46581...|       0.0|\n",
      "|         1|[0.0,1.0,-0.46581...|       0.0|\n",
      "+----------+--------------------+----------+\n",
      "only showing top 5 rows"
     ]
    }
   ],
   "source": [
    "#baseline model\n",
    "baseline = test.withColumn('prediction', lit(0.0))\n",
    "baseline.show(5)"
   ]
  },
  {
   "cell_type": "code",
   "execution_count": 66,
   "metadata": {},
   "outputs": [
    {
     "data": {
      "application/vnd.jupyter.widget-view+json": {
       "model_id": "8cbb83c956504eb88cb663ad37bfe3e2",
       "version_major": 2,
       "version_minor": 0
      },
      "text/plain": [
       "VBox()"
      ]
     },
     "metadata": {},
     "output_type": "display_data"
    },
    {
     "data": {
      "application/vnd.jupyter.widget-view+json": {
       "model_id": "",
       "version_major": 2,
       "version_minor": 0
      },
      "text/plain": [
       "FloatProgress(value=0.0, bar_style='info', description='Progress:', layout=Layout(height='25px', width='50%'),…"
      ]
     },
     "metadata": {},
     "output_type": "display_data"
    },
    {
     "name": "stdout",
     "output_type": "stream",
     "text": [
      "Baseline performance metrics:\n",
      "Accuracy: 0.7980769230769231\n",
      "F-1 Score: 0.7084533113944878\n",
      "Total training time: 0.0 minutes"
     ]
    }
   ],
   "source": [
    "#print baseline model\n",
    "baseline_result = evaluate_print(baseline, 'Baseline', 0, 0)"
   ]
  },
  {
   "cell_type": "code",
   "execution_count": 67,
   "metadata": {},
   "outputs": [
    {
     "data": {
      "application/vnd.jupyter.widget-view+json": {
       "model_id": "f29f7817695249efab904a91bd2ad0fd",
       "version_major": 2,
       "version_minor": 0
      },
      "text/plain": [
       "VBox()"
      ]
     },
     "metadata": {},
     "output_type": "display_data"
    },
    {
     "data": {
      "application/vnd.jupyter.widget-view+json": {
       "model_id": "",
       "version_major": 2,
       "version_minor": 0
      },
      "text/plain": [
       "FloatProgress(value=0.0, bar_style='info', description='Progress:', layout=Layout(height='25px', width='50%'),…"
      ]
     },
     "metadata": {},
     "output_type": "display_data"
    }
   ],
   "source": [
    "START = time.time()"
   ]
  },
  {
   "cell_type": "markdown",
   "metadata": {},
   "source": [
    "### Logistic Regression"
   ]
  },
  {
   "cell_type": "code",
   "execution_count": 68,
   "metadata": {},
   "outputs": [
    {
     "data": {
      "application/vnd.jupyter.widget-view+json": {
       "model_id": "5fe1237691aa46e88005763b972dcca5",
       "version_major": 2,
       "version_minor": 0
      },
      "text/plain": [
       "VBox()"
      ]
     },
     "metadata": {},
     "output_type": "display_data"
    },
    {
     "data": {
      "application/vnd.jupyter.widget-view+json": {
       "model_id": "",
       "version_major": 2,
       "version_minor": 0
      },
      "text/plain": [
       "FloatProgress(value=0.0, bar_style='info', description='Progress:', layout=Layout(height='25px', width='50%'),…"
      ]
     },
     "metadata": {},
     "output_type": "display_data"
    },
    {
     "name": "stderr",
     "output_type": "stream",
     "text": [
      "Exception in thread cell_monitor-66:\n",
      "Traceback (most recent call last):\n",
      "  File \"/opt/conda/lib/python3.7/threading.py\", line 926, in _bootstrap_inner\n",
      "    self.run()\n",
      "  File \"/opt/conda/lib/python3.7/threading.py\", line 870, in run\n",
      "    self._target(*self._args, **self._kwargs)\n",
      "  File \"/opt/conda/lib/python3.7/site-packages/awseditorssparkmonitoringwidget-1.0-py3.7.egg/awseditorssparkmonitoringwidget/cellmonitor.py\", line 178, in cell_monitor\n",
      "    job_binned_stages[job_id][stage_id] = all_stages[stage_id]\n",
      "KeyError: 466\n",
      "\n",
      "Exception in thread cell_monitor-68:\n",
      "Traceback (most recent call last):\n",
      "  File \"/opt/conda/lib/python3.7/threading.py\", line 926, in _bootstrap_inner\n",
      "    self.run()\n",
      "  File \"/opt/conda/lib/python3.7/threading.py\", line 870, in run\n",
      "    self._target(*self._args, **self._kwargs)\n",
      "  File \"/opt/conda/lib/python3.7/site-packages/awseditorssparkmonitoringwidget-1.0-py3.7.egg/awseditorssparkmonitoringwidget/cellmonitor.py\", line 178, in cell_monitor\n",
      "    job_binned_stages[job_id][stage_id] = all_stages[stage_id]\n",
      "KeyError: 2917\n",
      "\n"
     ]
    }
   ],
   "source": [
    "numFolds = 3\n",
    "lr = LogisticRegression(maxIter=10, labelCol='user_churn', featuresCol='features_vector')\n",
    "evaluator = MulticlassClassificationEvaluator(labelCol='user_churn')\n",
    "\n",
    "pipeline = Pipeline(stages=[lr])\n",
    "lr_paramGrid = (ParamGridBuilder()\n",
    "                .addGrid(lr.regParam, [0.1, 0.01, 0.001])\n",
    "                .build())\n",
    "\n",
    "\n",
    "crossval = CrossValidator(\n",
    "    estimator=pipeline,\n",
    "    estimatorParamMaps=lr_paramGrid,\n",
    "    evaluator=evaluator,\n",
    "    numFolds=numFolds)\n",
    "\n",
    "lr_start = time.time()\n",
    "lr_model = crossval.fit(train)\n",
    "lr_end = time.time()"
   ]
  },
  {
   "cell_type": "markdown",
   "metadata": {},
   "source": [
    "We are ignoring KeyError, it doesn't seem to affect the end result:\n",
    "\n",
    "https://stackoverflow.com/questions/58910023/keyerror-when-training-a-model-with-pyspark-ml-on-aws-emr-with-data-from-s3-buck"
   ]
  },
  {
   "cell_type": "code",
   "execution_count": 69,
   "metadata": {},
   "outputs": [
    {
     "data": {
      "application/vnd.jupyter.widget-view+json": {
       "model_id": "2262d26fcd6f4bbaac09921bc65fbd68",
       "version_major": 2,
       "version_minor": 0
      },
      "text/plain": [
       "VBox()"
      ]
     },
     "metadata": {},
     "output_type": "display_data"
    },
    {
     "data": {
      "application/vnd.jupyter.widget-view+json": {
       "model_id": "",
       "version_major": 2,
       "version_minor": 0
      },
      "text/plain": [
       "FloatProgress(value=0.0, bar_style='info', description='Progress:', layout=Layout(height='25px', width='50%'),…"
      ]
     },
     "metadata": {},
     "output_type": "display_data"
    },
    {
     "name": "stdout",
     "output_type": "stream",
     "text": [
      "Logistic Regression performance metrics:\n",
      "Accuracy: 0.75\n",
      "F-1 Score: 0.739729020979021\n",
      "Total training time: 2.05392808119456 minutes\n",
      "Best regression parameter is 0.01"
     ]
    }
   ],
   "source": [
    "lr_results = lr_model.transform(test)\n",
    "\n",
    "lr_safe = evaluate_print(lr_results, 'Logistic Regression', lr_start, lr_end)\n",
    "\n",
    "best_param = list(lr_model.getEstimatorParamMaps()[np.argmax(lr_model.avgMetrics)].values())\n",
    "print('Best regression parameter is {}'.format(best_param[0]))"
   ]
  },
  {
   "cell_type": "markdown",
   "metadata": {},
   "source": [
    "### Random Forest"
   ]
  },
  {
   "cell_type": "code",
   "execution_count": 70,
   "metadata": {},
   "outputs": [
    {
     "data": {
      "application/vnd.jupyter.widget-view+json": {
       "model_id": "de060dfac1b54386ab983c72c5fbd609",
       "version_major": 2,
       "version_minor": 0
      },
      "text/plain": [
       "VBox()"
      ]
     },
     "metadata": {},
     "output_type": "display_data"
    },
    {
     "data": {
      "application/vnd.jupyter.widget-view+json": {
       "model_id": "",
       "version_major": 2,
       "version_minor": 0
      },
      "text/plain": [
       "FloatProgress(value=0.0, bar_style='info', description='Progress:', layout=Layout(height='25px', width='50%'),…"
      ]
     },
     "metadata": {},
     "output_type": "display_data"
    },
    {
     "name": "stderr",
     "output_type": "stream",
     "text": [
      "Exception in thread cell_monitor-70:\n",
      "Traceback (most recent call last):\n",
      "  File \"/opt/conda/lib/python3.7/threading.py\", line 926, in _bootstrap_inner\n",
      "    self.run()\n",
      "  File \"/opt/conda/lib/python3.7/threading.py\", line 870, in run\n",
      "    self._target(*self._args, **self._kwargs)\n",
      "  File \"/opt/conda/lib/python3.7/site-packages/awseditorssparkmonitoringwidget-1.0-py3.7.egg/awseditorssparkmonitoringwidget/cellmonitor.py\", line 178, in cell_monitor\n",
      "    job_binned_stages[job_id][stage_id] = all_stages[stage_id]\n",
      "KeyError: 3768\n",
      "\n"
     ]
    }
   ],
   "source": [
    "numFolds = 3\n",
    "rf = RandomForestClassifier(labelCol='user_churn', featuresCol='features_vector', seed = 42)\n",
    "evaluator = MulticlassClassificationEvaluator(labelCol='user_churn')\n",
    "\n",
    "pipeline = Pipeline(stages=[rf])\n",
    "rf_paramGrid = (ParamGridBuilder()\n",
    "             .addGrid(rf.numTrees, [10,20])\n",
    "             .addGrid(rf.maxDepth, [10,20])\n",
    "             .build())\n",
    "\n",
    "crossval = CrossValidator(\n",
    "    estimator=pipeline,\n",
    "    estimatorParamMaps=rf_paramGrid,\n",
    "    evaluator=evaluator,\n",
    "    numFolds=numFolds)\n",
    "\n",
    "rf_start = time.time()\n",
    "rf_model = crossval.fit(train)\n",
    "rf_end = time.time()"
   ]
  },
  {
   "cell_type": "code",
   "execution_count": 71,
   "metadata": {
    "scrolled": true
   },
   "outputs": [
    {
     "data": {
      "application/vnd.jupyter.widget-view+json": {
       "model_id": "8f024bc2454b490e975536d190e2b282",
       "version_major": 2,
       "version_minor": 0
      },
      "text/plain": [
       "VBox()"
      ]
     },
     "metadata": {},
     "output_type": "display_data"
    },
    {
     "data": {
      "application/vnd.jupyter.widget-view+json": {
       "model_id": "",
       "version_major": 2,
       "version_minor": 0
      },
      "text/plain": [
       "FloatProgress(value=0.0, bar_style='info', description='Progress:', layout=Layout(height='25px', width='50%'),…"
      ]
     },
     "metadata": {},
     "output_type": "display_data"
    },
    {
     "name": "stdout",
     "output_type": "stream",
     "text": [
      "Random Forest performance metrics:\n",
      "Accuracy: 0.8173076923076923\n",
      "F-1 Score: 0.8076345576345575\n",
      "Total training time: 8.147224962711334 minutes\n",
      "Best number of trees 20, best depth 10"
     ]
    }
   ],
   "source": [
    "rf_results = rf_model.transform(test)\n",
    "\n",
    "rf_safe = evaluate_print(rf_results, 'Random Forest', rf_start, rf_end)\n",
    "\n",
    "best_param = list(rf_model.getEstimatorParamMaps()[np.argmax(rf_model.avgMetrics)].values())\n",
    "print('Best number of trees {}, best depth {}'.format(best_param[0], best_param[1]))"
   ]
  },
  {
   "cell_type": "markdown",
   "metadata": {},
   "source": [
    "### Gradient Boosted Trees"
   ]
  },
  {
   "cell_type": "code",
   "execution_count": 72,
   "metadata": {},
   "outputs": [
    {
     "data": {
      "application/vnd.jupyter.widget-view+json": {
       "model_id": "c37a4448e3d9409dbb277e31d143f5f7",
       "version_major": 2,
       "version_minor": 0
      },
      "text/plain": [
       "VBox()"
      ]
     },
     "metadata": {},
     "output_type": "display_data"
    },
    {
     "data": {
      "application/vnd.jupyter.widget-view+json": {
       "model_id": "",
       "version_major": 2,
       "version_minor": 0
      },
      "text/plain": [
       "FloatProgress(value=0.0, bar_style='info', description='Progress:', layout=Layout(height='25px', width='50%'),…"
      ]
     },
     "metadata": {},
     "output_type": "display_data"
    },
    {
     "name": "stderr",
     "output_type": "stream",
     "text": [
      "Exception in thread cell_monitor-72:\n",
      "Traceback (most recent call last):\n",
      "  File \"/opt/conda/lib/python3.7/threading.py\", line 926, in _bootstrap_inner\n",
      "    self.run()\n",
      "  File \"/opt/conda/lib/python3.7/threading.py\", line 870, in run\n",
      "    self._target(*self._args, **self._kwargs)\n",
      "  File \"/opt/conda/lib/python3.7/site-packages/awseditorssparkmonitoringwidget-1.0-py3.7.egg/awseditorssparkmonitoringwidget/cellmonitor.py\", line 178, in cell_monitor\n",
      "    job_binned_stages[job_id][stage_id] = all_stages[stage_id]\n",
      "KeyError: 23470\n",
      "\n"
     ]
    }
   ],
   "source": [
    "numFolds = 3\n",
    "gbt = GBTClassifier(labelCol='user_churn', featuresCol='features_vector', seed = 42)\n",
    "evaluator = MulticlassClassificationEvaluator(labelCol='user_churn')\n",
    "\n",
    "pipeline = Pipeline(stages=[gbt])\n",
    "gbt_paramGrid = (ParamGridBuilder()\n",
    "                 .addGrid(gbt.maxIter, [10,20])\n",
    "                 .addGrid(gbt.maxDepth, [10,20])\n",
    "                 .build())\n",
    "\n",
    "crossval = CrossValidator(\n",
    "    estimator=pipeline,\n",
    "    estimatorParamMaps=gbt_paramGrid,\n",
    "    evaluator=evaluator,\n",
    "    numFolds=numFolds)\n",
    "\n",
    "gbt_start = time.time()\n",
    "gbt_model = crossval.fit(train)\n",
    "gbt_end = time.time()"
   ]
  },
  {
   "cell_type": "code",
   "execution_count": 73,
   "metadata": {},
   "outputs": [
    {
     "data": {
      "application/vnd.jupyter.widget-view+json": {
       "model_id": "e1ac42b5e37e48e0a15181d5468c960b",
       "version_major": 2,
       "version_minor": 0
      },
      "text/plain": [
       "VBox()"
      ]
     },
     "metadata": {},
     "output_type": "display_data"
    },
    {
     "data": {
      "application/vnd.jupyter.widget-view+json": {
       "model_id": "",
       "version_major": 2,
       "version_minor": 0
      },
      "text/plain": [
       "FloatProgress(value=0.0, bar_style='info', description='Progress:', layout=Layout(height='25px', width='50%'),…"
      ]
     },
     "metadata": {},
     "output_type": "display_data"
    },
    {
     "name": "stdout",
     "output_type": "stream",
     "text": [
      "Gradient Boosted Trees performance metrics:\n",
      "Accuracy: 0.7884615384615384\n",
      "F-1 Score: 0.7919793621013133\n",
      "Total training time: 71.61779014666875 minutes\n",
      "Best number of iterations 20, best depth 10"
     ]
    }
   ],
   "source": [
    "gbt_results = gbt_model.transform(test)\n",
    "\n",
    "gbt_safe = evaluate_print(gbt_results, 'Gradient Boosted Trees', gbt_start, gbt_end)\n",
    "\n",
    "best_param = list(gbt_model.getEstimatorParamMaps()[np.argmax(rf_model.avgMetrics)].values())\n",
    "print('Best number of iterations {}, best depth {}'.format(best_param[0], best_param[1]))"
   ]
  },
  {
   "cell_type": "markdown",
   "metadata": {},
   "source": [
    "### Support Vector Machine"
   ]
  },
  {
   "cell_type": "code",
   "execution_count": 74,
   "metadata": {},
   "outputs": [
    {
     "data": {
      "application/vnd.jupyter.widget-view+json": {
       "model_id": "6519cdfc1dbc44a0bb29c3783b75fe50",
       "version_major": 2,
       "version_minor": 0
      },
      "text/plain": [
       "VBox()"
      ]
     },
     "metadata": {},
     "output_type": "display_data"
    },
    {
     "data": {
      "application/vnd.jupyter.widget-view+json": {
       "model_id": "",
       "version_major": 2,
       "version_minor": 0
      },
      "text/plain": [
       "FloatProgress(value=0.0, bar_style='info', description='Progress:', layout=Layout(height='25px', width='50%'),…"
      ]
     },
     "metadata": {},
     "output_type": "display_data"
    },
    {
     "name": "stderr",
     "output_type": "stream",
     "text": [
      "Exception in thread cell_monitor-74:\n",
      "Traceback (most recent call last):\n",
      "  File \"/opt/conda/lib/python3.7/threading.py\", line 926, in _bootstrap_inner\n",
      "    self.run()\n",
      "  File \"/opt/conda/lib/python3.7/threading.py\", line 870, in run\n",
      "    self._target(*self._args, **self._kwargs)\n",
      "  File \"/opt/conda/lib/python3.7/site-packages/awseditorssparkmonitoringwidget-1.0-py3.7.egg/awseditorssparkmonitoringwidget/cellmonitor.py\", line 178, in cell_monitor\n",
      "    job_binned_stages[job_id][stage_id] = all_stages[stage_id]\n",
      "KeyError: 248783\n",
      "\n"
     ]
    }
   ],
   "source": [
    "numFolds = 3\n",
    "svc = LinearSVC(labelCol='user_churn', featuresCol='features_vector')\n",
    "evaluator = MulticlassClassificationEvaluator(labelCol='user_churn')\n",
    "\n",
    "pipeline = Pipeline(stages=[svc])\n",
    "svc_paramGrid = (ParamGridBuilder()\n",
    "                 .addGrid(svc.maxIter, [5,10])\n",
    "                 .build())\n",
    "\n",
    "crossval = CrossValidator(\n",
    "    estimator=pipeline,\n",
    "    estimatorParamMaps=svc_paramGrid,\n",
    "    evaluator=evaluator,\n",
    "    numFolds=numFolds)\n",
    "\n",
    "svc_start = time.time()\n",
    "svc_model = crossval.fit(train)\n",
    "svc_end = time.time()"
   ]
  },
  {
   "cell_type": "code",
   "execution_count": 75,
   "metadata": {},
   "outputs": [
    {
     "data": {
      "application/vnd.jupyter.widget-view+json": {
       "model_id": "7684fd5f57894b38acb5647cd9e460f1",
       "version_major": 2,
       "version_minor": 0
      },
      "text/plain": [
       "VBox()"
      ]
     },
     "metadata": {},
     "output_type": "display_data"
    },
    {
     "data": {
      "application/vnd.jupyter.widget-view+json": {
       "model_id": "",
       "version_major": 2,
       "version_minor": 0
      },
      "text/plain": [
       "FloatProgress(value=0.0, bar_style='info', description='Progress:', layout=Layout(height='25px', width='50%'),…"
      ]
     },
     "metadata": {},
     "output_type": "display_data"
    },
    {
     "name": "stdout",
     "output_type": "stream",
     "text": [
      "Support Vector Machine performance metrics:\n",
      "Accuracy: 0.7884615384615384\n",
      "F-1 Score: 0.7036807278742763\n",
      "Total training time: 3.976623757680257 minutes\n",
      "Best number of iterations 5"
     ]
    }
   ],
   "source": [
    "svc_results = svc_model.transform(test)\n",
    "\n",
    "svc_safe = evaluate_print(svc_results, \"Support Vector Machine\", svc_start, svc_end)\n",
    "\n",
    "best_param = list(svc_model.getEstimatorParamMaps()[np.argmax(svc_model.avgMetrics)].values())\n",
    "print('Best number of iterations {}'.format(best_param[0]))"
   ]
  },
  {
   "cell_type": "code",
   "execution_count": 76,
   "metadata": {},
   "outputs": [
    {
     "data": {
      "application/vnd.jupyter.widget-view+json": {
       "model_id": "489a2db9bc794e6db13fb60a64cb1c41",
       "version_major": 2,
       "version_minor": 0
      },
      "text/plain": [
       "VBox()"
      ]
     },
     "metadata": {},
     "output_type": "display_data"
    },
    {
     "data": {
      "application/vnd.jupyter.widget-view+json": {
       "model_id": "",
       "version_major": 2,
       "version_minor": 0
      },
      "text/plain": [
       "FloatProgress(value=0.0, bar_style='info', description='Progress:', layout=Layout(height='25px', width='50%'),…"
      ]
     },
     "metadata": {},
     "output_type": "display_data"
    }
   ],
   "source": [
    "END = time.time()"
   ]
  },
  {
   "cell_type": "markdown",
   "metadata": {},
   "source": [
    "## Evaluate models"
   ]
  },
  {
   "cell_type": "markdown",
   "metadata": {},
   "source": [
    "##### Performance ranking:"
   ]
  },
  {
   "cell_type": "code",
   "execution_count": 78,
   "metadata": {},
   "outputs": [
    {
     "data": {
      "application/vnd.jupyter.widget-view+json": {
       "model_id": "c76f321184f740f4bbdebc2ed32a023b",
       "version_major": 2,
       "version_minor": 0
      },
      "text/plain": [
       "VBox()"
      ]
     },
     "metadata": {},
     "output_type": "display_data"
    },
    {
     "data": {
      "application/vnd.jupyter.widget-view+json": {
       "model_id": "",
       "version_major": 2,
       "version_minor": 0
      },
      "text/plain": [
       "FloatProgress(value=0.0, bar_style='info', description='Progress:', layout=Layout(height='25px', width='50%'),…"
      ]
     },
     "metadata": {},
     "output_type": "display_data"
    },
    {
     "name": "stdout",
     "output_type": "stream",
     "text": [
      "Baseline\n",
      "Accuracy: 0.798\n",
      "F-1 Score: 0.708\n",
      "Total training time: 0.0 minutes\n",
      "\n",
      "Logistic Regression\n",
      "Accuracy: 0.75\n",
      "F-1 Score: 0.74\n",
      "Total training time: 2.1 minutes\n",
      "\n",
      "Random Forest\n",
      "Accuracy: 0.817\n",
      "F-1 Score: 0.808\n",
      "Total training time: 8.1 minutes\n",
      "\n",
      "Gradient Boosted Trees\n",
      "Accuracy: 0.788\n",
      "F-1 Score: 0.792\n",
      "Total training time: 71.6 minutes\n",
      "\n",
      "Support Vector Machine\n",
      "Accuracy: 0.788\n",
      "F-1 Score: 0.704\n",
      "Total training time: 4.0 minutes"
     ]
    }
   ],
   "source": [
    "results_models_list = [baseline_result, lr_safe, rf_safe, gbt_safe, svc_safe]\n",
    "\n",
    "for res in results_models_list:\n",
    "    reports(res)\n",
    "    \n",
    "#print('Total training time {} minutes'.format((END - START)/60))"
   ]
  },
  {
   "cell_type": "markdown",
   "metadata": {},
   "source": [
    "Two of the four models are on the baseline model level: Logistic Regression and Support Vector Machine.\n",
    "\n",
    "Random Forest and Gradient Boosted Trees performed better. But the best in all respects was Random Forest."
   ]
  },
  {
   "cell_type": "markdown",
   "metadata": {},
   "source": [
    "## Summary and Future Improvement\n",
    "\n",
    "In this project, I was able to study the Sparkify service dataset and create functions for the modeling process. To begin with, we studied different levels of the dataset, which was the logs of each user session. The dataset allowed me to study churn and create suitable predictive features. I trained three models: Random Forest, Gradient Boosted Trees, and Support Vector Machine. Random Forest proved to be the best and can be used in the future.\n",
    "The main complications that occurred during the coding process were the configuration of the AWS cluster when working with big data. The default gives not enough memory and too little timeout. How I fixed this is written at the beginning of the article.\n",
    "\n",
    "In addition, feature selection was not a trivial task. In the end, I chose a set of 13 features presented above (including the target one).\n",
    "\n",
    "In the future, the model can be improved if we have more data on user behavior or about songs."
   ]
  }
 ],
 "metadata": {
  "kernelspec": {
   "display_name": "PySpark",
   "language": "",
   "name": "pysparkkernel"
  },
  "language_info": {
   "codemirror_mode": {
    "name": "python",
    "version": 2
   },
   "mimetype": "text/x-python",
   "name": "pyspark",
   "pygments_lexer": "python2"
  }
 },
 "nbformat": 4,
 "nbformat_minor": 4
}
