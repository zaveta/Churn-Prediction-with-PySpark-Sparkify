{
 "cells": [
  {
   "cell_type": "markdown",
   "metadata": {},
   "source": [
    "# Sparkify Project\n",
    "\n",
    "Sparkify is a fake music streaming service invented by Udacity. Here users can listen to music for free (with ads between songs) or for a flat fee. Users can upgrade, downgrade, or cancel. My task is to predict the user who is going to leave in order to offer him a great discount before canceling the subscription."
   ]
  },
  {
   "cell_type": "code",
   "execution_count": 1,
   "metadata": {},
   "outputs": [
    {
     "data": {
      "application/vnd.jupyter.widget-view+json": {
       "model_id": "02dd97763965437ea8664dcdcfddd5b3",
       "version_major": 2,
       "version_minor": 0
      },
      "text/plain": [
       "VBox()"
      ]
     },
     "metadata": {},
     "output_type": "display_data"
    },
    {
     "name": "stdout",
     "output_type": "stream",
     "text": [
      "Starting Spark application\n"
     ]
    },
    {
     "data": {
      "text/html": [
       "<table>\n",
       "<tr><th>ID</th><th>YARN Application ID</th><th>Kind</th><th>State</th><th>Spark UI</th><th>Driver log</th><th>Current session?</th></tr><tr><td>4</td><td>application_1611345580953_0005</td><td>pyspark</td><td>idle</td><td><a target=\"_blank\" href=\"http://ip-172-31-0-7.us-west-2.compute.internal:20888/proxy/application_1611345580953_0005/\">Link</a></td><td><a target=\"_blank\" href=\"http://ip-172-31-0-140.us-west-2.compute.internal:8042/node/containerlogs/container_1611345580953_0005_01_000001/livy\">Link</a></td><td>✔</td></tr></table>"
      ],
      "text/plain": [
       "<IPython.core.display.HTML object>"
      ]
     },
     "metadata": {},
     "output_type": "display_data"
    },
    {
     "data": {
      "application/vnd.jupyter.widget-view+json": {
       "model_id": "",
       "version_major": 2,
       "version_minor": 0
      },
      "text/plain": [
       "FloatProgress(value=0.0, bar_style='info', description='Progress:', layout=Layout(height='25px', width='50%'),…"
      ]
     },
     "metadata": {},
     "output_type": "display_data"
    },
    {
     "name": "stdout",
     "output_type": "stream",
     "text": [
      "SparkSession available as 'spark'.\n"
     ]
    },
    {
     "data": {
      "application/vnd.jupyter.widget-view+json": {
       "model_id": "",
       "version_major": 2,
       "version_minor": 0
      },
      "text/plain": [
       "FloatProgress(value=0.0, bar_style='info', description='Progress:', layout=Layout(height='25px', width='50%'),…"
      ]
     },
     "metadata": {},
     "output_type": "display_data"
    },
    {
     "name": "stdout",
     "output_type": "stream",
     "text": [
      "'11171M'"
     ]
    }
   ],
   "source": [
    "#checking memory\n",
    "\n",
    "spark.sparkContext.getConf().get('spark.driver.memory')"
   ]
  },
  {
   "cell_type": "code",
   "execution_count": 2,
   "metadata": {},
   "outputs": [
    {
     "data": {
      "application/vnd.jupyter.widget-view+json": {
       "model_id": "ab133c78e9344026a0ce1c44c3cfb04f",
       "version_major": 2,
       "version_minor": 0
      },
      "text/plain": [
       "VBox()"
      ]
     },
     "metadata": {},
     "output_type": "display_data"
    },
    {
     "data": {
      "application/vnd.jupyter.widget-view+json": {
       "model_id": "",
       "version_major": 2,
       "version_minor": 0
      },
      "text/plain": [
       "FloatProgress(value=0.0, bar_style='info', description='Progress:', layout=Layout(height='25px', width='50%'),…"
      ]
     },
     "metadata": {},
     "output_type": "display_data"
    },
    {
     "name": "stdout",
     "output_type": "stream",
     "text": [
      "Collecting pandas\n",
      "  Using cached https://files.pythonhosted.org/packages/7a/c2/339e302d4122cb8b166aecc823afed4af6b2193f040f2656eea77d174146/pandas-1.2.1-cp37-cp37m-manylinux1_x86_64.whl\n",
      "Requirement already satisfied: numpy>=1.16.5 in /usr/local/lib64/python3.7/site-packages (from pandas)\n",
      "Requirement already satisfied: pytz>=2017.3 in /usr/local/lib/python3.7/site-packages (from pandas)\n",
      "Collecting python-dateutil>=2.7.3 (from pandas)\n",
      "  Using cached https://files.pythonhosted.org/packages/d4/70/d60450c3dd48ef87586924207ae8907090de0b306af2bce5d134d78615cb/python_dateutil-2.8.1-py2.py3-none-any.whl\n",
      "Requirement already satisfied: six>=1.5 in /usr/local/lib/python3.7/site-packages (from python-dateutil>=2.7.3->pandas)\n",
      "Installing collected packages: python-dateutil, pandas\n",
      "Successfully installed pandas-1.2.1 python-dateutil-2.8.1\n",
      "\n",
      "Collecting matplotlib\n",
      "  Using cached https://files.pythonhosted.org/packages/30/f2/10c822cb0ca5ebec58bd1892187bc3e3db64a867ac26531c6204663fc218/matplotlib-3.3.3-cp37-cp37m-manylinux1_x86_64.whl\n",
      "Requirement already satisfied: numpy>=1.15 in /usr/local/lib64/python3.7/site-packages (from matplotlib)\n",
      "Requirement already satisfied: python-dateutil>=2.1 in /mnt/tmp/1611356262598-0/lib/python3.7/site-packages (from matplotlib)\n",
      "Collecting pyparsing!=2.0.4,!=2.1.2,!=2.1.6,>=2.0.3 (from matplotlib)\n",
      "  Using cached https://files.pythonhosted.org/packages/8a/bb/488841f56197b13700afd5658fc279a2025a39e22449b7cf29864669b15d/pyparsing-2.4.7-py2.py3-none-any.whl\n",
      "Collecting pillow>=6.2.0 (from matplotlib)\n",
      "  Using cached https://files.pythonhosted.org/packages/eb/8e/d2f7a67cf8da9b83c1e3ee38dbf49448f3c8acb2cb38f76e4301f4a70223/Pillow-8.1.0-cp37-cp37m-manylinux1_x86_64.whl\n",
      "Collecting cycler>=0.10 (from matplotlib)\n",
      "  Using cached https://files.pythonhosted.org/packages/f7/d2/e07d3ebb2bd7af696440ce7e754c59dd546ffe1bbe732c8ab68b9c834e61/cycler-0.10.0-py2.py3-none-any.whl\n",
      "Collecting kiwisolver>=1.0.1 (from matplotlib)\n",
      "  Using cached https://files.pythonhosted.org/packages/d2/46/231de802ade4225b76b96cffe419cf3ce52bbe92e3b092cf12db7d11c207/kiwisolver-1.3.1-cp37-cp37m-manylinux1_x86_64.whl\n",
      "Requirement already satisfied: six>=1.5 in /usr/local/lib/python3.7/site-packages (from python-dateutil>=2.1->matplotlib)\n",
      "Installing collected packages: pyparsing, pillow, cycler, kiwisolver, matplotlib\n",
      "Successfully installed cycler-0.10.0 kiwisolver-1.3.1 matplotlib-3.3.3 pillow-8.1.0 pyparsing-2.4.7\n",
      "\n",
      "Collecting seaborn\n",
      "  Using cached https://files.pythonhosted.org/packages/68/ad/6c2406ae175f59ec616714e408979b674fe27b9587f79d59a528ddfbcd5b/seaborn-0.11.1-py3-none-any.whl\n",
      "Requirement already satisfied: numpy>=1.15 in /usr/local/lib64/python3.7/site-packages (from seaborn)\n",
      "Collecting scipy>=1.0 (from seaborn)\n",
      "  Using cached https://files.pythonhosted.org/packages/58/9d/8296d8211318d690119eba6d293b7a149c1c51c945342dd4c3816f79e1ba/scipy-1.6.0-cp37-cp37m-manylinux1_x86_64.whl\n",
      "Requirement already satisfied: matplotlib>=2.2 in /mnt/tmp/1611356262598-0/lib/python3.7/site-packages (from seaborn)\n",
      "Requirement already satisfied: pandas>=0.23 in /mnt/tmp/1611356262598-0/lib/python3.7/site-packages (from seaborn)\n",
      "Requirement already satisfied: python-dateutil>=2.1 in /mnt/tmp/1611356262598-0/lib/python3.7/site-packages (from matplotlib>=2.2->seaborn)\n",
      "Requirement already satisfied: pyparsing!=2.0.4,!=2.1.2,!=2.1.6,>=2.0.3 in /mnt/tmp/1611356262598-0/lib/python3.7/site-packages (from matplotlib>=2.2->seaborn)\n",
      "Requirement already satisfied: pillow>=6.2.0 in /mnt/tmp/1611356262598-0/lib/python3.7/site-packages (from matplotlib>=2.2->seaborn)\n",
      "Requirement already satisfied: cycler>=0.10 in /mnt/tmp/1611356262598-0/lib/python3.7/site-packages (from matplotlib>=2.2->seaborn)\n",
      "Requirement already satisfied: kiwisolver>=1.0.1 in /mnt/tmp/1611356262598-0/lib/python3.7/site-packages (from matplotlib>=2.2->seaborn)\n",
      "Requirement already satisfied: pytz>=2017.3 in /usr/local/lib/python3.7/site-packages (from pandas>=0.23->seaborn)\n",
      "Requirement already satisfied: six>=1.5 in /usr/local/lib/python3.7/site-packages (from python-dateutil>=2.1->matplotlib>=2.2->seaborn)\n",
      "Installing collected packages: scipy, seaborn\n",
      "Successfully installed scipy-1.6.0 seaborn-0.11.1"
     ]
    }
   ],
   "source": [
    "# We need to install pandas, matplotlib and seaborn\n",
    "# Amazon EMR doesn't have these packages by default\n",
    "\n",
    "sc.install_pypi_package(\"pandas\", \"https://pypi.org/simple\") #Install pandas\n",
    "sc.install_pypi_package(\"matplotlib\", \"https://pypi.org/simple\") #Install matplotlib from given PyPI repository\n",
    "sc.install_pypi_package(\"seaborn\", \"https://pypi.org/simple\") #Install seaborn from given PyPI repository"
   ]
  },
  {
   "cell_type": "code",
   "execution_count": 3,
   "metadata": {},
   "outputs": [
    {
     "data": {
      "application/vnd.jupyter.widget-view+json": {
       "model_id": "688f0ba502b54a69b74efcb14ead6e4a",
       "version_major": 2,
       "version_minor": 0
      },
      "text/plain": [
       "VBox()"
      ]
     },
     "metadata": {},
     "output_type": "display_data"
    },
    {
     "data": {
      "application/vnd.jupyter.widget-view+json": {
       "model_id": "",
       "version_major": 2,
       "version_minor": 0
      },
      "text/plain": [
       "FloatProgress(value=0.0, bar_style='info', description='Progress:', layout=Layout(height='25px', width='50%'),…"
      ]
     },
     "metadata": {},
     "output_type": "display_data"
    }
   ],
   "source": [
    "# Create spark session\n",
    "# import libraries\n",
    "import datetime\n",
    "import time\n",
    "import numpy as np\n",
    "import pandas as pd\n",
    "import matplotlib.pyplot as plt\n",
    "import seaborn as sns\n",
    "\n",
    "from pyspark import SparkContext, SparkConf\n",
    "from pyspark.sql import SparkSession\n",
    "from pyspark.sql import Window\n",
    "from pyspark.sql.functions import udf, col, concat, count, lit, avg, lag, first, last, when\n",
    "from pyspark.sql.functions import min as Fmin, max as Fmax, sum as Fsum, round as Fround\n",
    "\n",
    "from pyspark.sql.types import IntegerType, DateType, TimestampType, StringType\n",
    "\n",
    "from pyspark.ml.feature import StandardScaler, VectorAssembler\n",
    "from pyspark.ml.evaluation import MulticlassClassificationEvaluator\n",
    "from pyspark.ml.classification import GBTClassifier, RandomForestClassifier, LinearSVC\n",
    "from pyspark.ml.tuning import CrossValidator, ParamGridBuilder\n",
    "from pyspark.ml import Pipeline"
   ]
  },
  {
   "cell_type": "code",
   "execution_count": 4,
   "metadata": {},
   "outputs": [
    {
     "data": {
      "application/vnd.jupyter.widget-view+json": {
       "model_id": "f4ed503a920a41f6ab887a1f84420bc7",
       "version_major": 2,
       "version_minor": 0
      },
      "text/plain": [
       "VBox()"
      ]
     },
     "metadata": {},
     "output_type": "display_data"
    },
    {
     "data": {
      "application/vnd.jupyter.widget-view+json": {
       "model_id": "",
       "version_major": 2,
       "version_minor": 0
      },
      "text/plain": [
       "FloatProgress(value=0.0, bar_style='info', description='Progress:', layout=Layout(height='25px', width='50%'),…"
      ]
     },
     "metadata": {},
     "output_type": "display_data"
    }
   ],
   "source": [
    "# Spark Session\n",
    "spark = SparkSession \\\n",
    "    .builder \\\n",
    "    .appName(\"Sparkify\") \\\n",
    "    .getOrCreate()"
   ]
  },
  {
   "cell_type": "code",
   "execution_count": 5,
   "metadata": {},
   "outputs": [
    {
     "data": {
      "application/vnd.jupyter.widget-view+json": {
       "model_id": "771838ecf6df4584893580004e6c6a09",
       "version_major": 2,
       "version_minor": 0
      },
      "text/plain": [
       "VBox()"
      ]
     },
     "metadata": {},
     "output_type": "display_data"
    },
    {
     "data": {
      "application/vnd.jupyter.widget-view+json": {
       "model_id": "",
       "version_major": 2,
       "version_minor": 0
      },
      "text/plain": [
       "FloatProgress(value=0.0, bar_style='info', description='Progress:', layout=Layout(height='25px', width='50%'),…"
      ]
     },
     "metadata": {},
     "output_type": "display_data"
    }
   ],
   "source": [
    "# Read in full sparkify dataset\n",
    "# small dataset\n",
    "#path = \"s3n://udacity-dsnd/sparkify/mini_sparkify_event_data.json\"\n",
    "# big dataset\n",
    "path = \"s3n://udacity-dsnd/sparkify/sparkify_event_data.json\"\n",
    "df = spark.read.json(path)"
   ]
  },
  {
   "cell_type": "code",
   "execution_count": 6,
   "metadata": {},
   "outputs": [
    {
     "data": {
      "application/vnd.jupyter.widget-view+json": {
       "model_id": "3de331db347c474abd0c53dd9aed2a6a",
       "version_major": 2,
       "version_minor": 0
      },
      "text/plain": [
       "VBox()"
      ]
     },
     "metadata": {},
     "output_type": "display_data"
    },
    {
     "data": {
      "application/vnd.jupyter.widget-view+json": {
       "model_id": "",
       "version_major": 2,
       "version_minor": 0
      },
      "text/plain": [
       "FloatProgress(value=0.0, bar_style='info', description='Progress:', layout=Layout(height='25px', width='50%'),…"
      ]
     },
     "metadata": {},
     "output_type": "display_data"
    },
    {
     "name": "stdout",
     "output_type": "stream",
     "text": [
      "root\n",
      " |-- artist: string (nullable = true)\n",
      " |-- auth: string (nullable = true)\n",
      " |-- firstName: string (nullable = true)\n",
      " |-- gender: string (nullable = true)\n",
      " |-- itemInSession: long (nullable = true)\n",
      " |-- lastName: string (nullable = true)\n",
      " |-- length: double (nullable = true)\n",
      " |-- level: string (nullable = true)\n",
      " |-- location: string (nullable = true)\n",
      " |-- method: string (nullable = true)\n",
      " |-- page: string (nullable = true)\n",
      " |-- registration: long (nullable = true)\n",
      " |-- sessionId: long (nullable = true)\n",
      " |-- song: string (nullable = true)\n",
      " |-- status: long (nullable = true)\n",
      " |-- ts: long (nullable = true)\n",
      " |-- userAgent: string (nullable = true)\n",
      " |-- userId: string (nullable = true)"
     ]
    }
   ],
   "source": [
    "# dataset schema\n",
    "df.printSchema()"
   ]
  },
  {
   "cell_type": "code",
   "execution_count": 7,
   "metadata": {},
   "outputs": [
    {
     "data": {
      "application/vnd.jupyter.widget-view+json": {
       "model_id": "1eda45a2d48140afa526aab4ff64e189",
       "version_major": 2,
       "version_minor": 0
      },
      "text/plain": [
       "VBox()"
      ]
     },
     "metadata": {},
     "output_type": "display_data"
    },
    {
     "data": {
      "application/vnd.jupyter.widget-view+json": {
       "model_id": "",
       "version_major": 2,
       "version_minor": 0
      },
      "text/plain": [
       "FloatProgress(value=0.0, bar_style='info', description='Progress:', layout=Layout(height='25px', width='50%'),…"
      ]
     },
     "metadata": {},
     "output_type": "display_data"
    },
    {
     "name": "stdout",
     "output_type": "stream",
     "text": [
      "The number of rows is 26259199\n",
      "The number of columns is 18"
     ]
    }
   ],
   "source": [
    "print(\"The number of rows is {}\".format(df.count()))\n",
    "print(\"The number of columns is {}\".format(len(df.columns)))"
   ]
  },
  {
   "cell_type": "code",
   "execution_count": 8,
   "metadata": {},
   "outputs": [
    {
     "data": {
      "application/vnd.jupyter.widget-view+json": {
       "model_id": "6cff07cb03514d94b45953dcaaa7c161",
       "version_major": 2,
       "version_minor": 0
      },
      "text/plain": [
       "VBox()"
      ]
     },
     "metadata": {},
     "output_type": "display_data"
    },
    {
     "data": {
      "application/vnd.jupyter.widget-view+json": {
       "model_id": "",
       "version_major": 2,
       "version_minor": 0
      },
      "text/plain": [
       "FloatProgress(value=0.0, bar_style='info', description='Progress:', layout=Layout(height='25px', width='50%'),…"
      ]
     },
     "metadata": {},
     "output_type": "display_data"
    },
    {
     "name": "stdout",
     "output_type": "stream",
     "text": [
      "0"
     ]
    }
   ],
   "source": [
    "# Number of duplicates\n",
    "df.count() - df.dropDuplicates().count()"
   ]
  },
  {
   "cell_type": "markdown",
   "metadata": {},
   "source": [
    "First of all, les't convert the timestamps into datetime format and add them to the dataframe, for a clearer understanding."
   ]
  },
  {
   "cell_type": "code",
   "execution_count": 9,
   "metadata": {},
   "outputs": [
    {
     "data": {
      "application/vnd.jupyter.widget-view+json": {
       "model_id": "eac454948f904df8a9a39f35b8c01700",
       "version_major": 2,
       "version_minor": 0
      },
      "text/plain": [
       "VBox()"
      ]
     },
     "metadata": {},
     "output_type": "display_data"
    },
    {
     "data": {
      "application/vnd.jupyter.widget-view+json": {
       "model_id": "",
       "version_major": 2,
       "version_minor": 0
      },
      "text/plain": [
       "FloatProgress(value=0.0, bar_style='info', description='Progress:', layout=Layout(height='25px', width='50%'),…"
      ]
     },
     "metadata": {},
     "output_type": "display_data"
    }
   ],
   "source": [
    "# convert the timestamps into datetime format and add them to the dataframe, for a clearer understanding\n",
    "\n",
    "df = df.withColumn('registrationDate', (df['registration'] / 1000).cast(TimestampType()))\n",
    "df = df.withColumn('tsDate', (df['ts'] / 1000).cast(TimestampType()))"
   ]
  },
  {
   "cell_type": "code",
   "execution_count": 10,
   "metadata": {},
   "outputs": [
    {
     "data": {
      "application/vnd.jupyter.widget-view+json": {
       "model_id": "87ec3d1e03a1426d8c093103897007b9",
       "version_major": 2,
       "version_minor": 0
      },
      "text/plain": [
       "VBox()"
      ]
     },
     "metadata": {},
     "output_type": "display_data"
    },
    {
     "data": {
      "application/vnd.jupyter.widget-view+json": {
       "model_id": "",
       "version_major": 2,
       "version_minor": 0
      },
      "text/plain": [
       "FloatProgress(value=0.0, bar_style='info', description='Progress:', layout=Layout(height='25px', width='50%'),…"
      ]
     },
     "metadata": {},
     "output_type": "display_data"
    },
    {
     "name": "stdout",
     "output_type": "stream",
     "text": [
      "+-------+--------+--------------------+-------------+-------------------+\n",
      "| userId|    page|                song|           ts|             tsDate|\n",
      "+-------+--------+--------------------+-------------+-------------------+\n",
      "|1694515|NextSong|Give It Up (Album...|1538352001000|2018-10-01 00:00:01|\n",
      "|1749042|NextSong|Ich mache einen S...|1538352001000|2018-10-01 00:00:01|\n",
      "|1484921|NextSong|          Just Dance|1538352001000|2018-10-01 00:00:01|\n",
      "|1563081|NextSong|         MiÃÂ©ntele|1538352002000|2018-10-01 00:00:02|\n",
      "|1697168|NextSong|           Baby Talk|1538352002000|2018-10-01 00:00:02|\n",
      "|1714398|NextSong|Close To The Edge...|1538352003000|2018-10-01 00:00:03|\n",
      "|1222580|NextSong|Horn Concerto No....|1538352003000|2018-10-01 00:00:03|\n",
      "|1379661|NextSong|All Along The Wat...|1538352003000|2018-10-01 00:00:03|\n",
      "|1252007|    Home|                null|1538352003000|2018-10-01 00:00:03|\n",
      "|1010522|NextSong|       Electric Feel|1538352004000|2018-10-01 00:00:04|\n",
      "+-------+--------+--------------------+-------------+-------------------+\n",
      "only showing top 10 rows"
     ]
    }
   ],
   "source": [
    "df.select('userId', 'page', 'song', 'ts', 'tsDate').sort('ts').show(10)"
   ]
  },
  {
   "cell_type": "code",
   "execution_count": 11,
   "metadata": {},
   "outputs": [
    {
     "data": {
      "application/vnd.jupyter.widget-view+json": {
       "model_id": "b4f7ce5ab0d24d37b902cd99462748c9",
       "version_major": 2,
       "version_minor": 0
      },
      "text/plain": [
       "VBox()"
      ]
     },
     "metadata": {},
     "output_type": "display_data"
    },
    {
     "data": {
      "application/vnd.jupyter.widget-view+json": {
       "model_id": "",
       "version_major": 2,
       "version_minor": 0
      },
      "text/plain": [
       "FloatProgress(value=0.0, bar_style='info', description='Progress:', layout=Layout(height='25px', width='50%'),…"
      ]
     },
     "metadata": {},
     "output_type": "display_data"
    },
    {
     "name": "stdout",
     "output_type": "stream",
     "text": [
      "+-------+---------------+--------------------+-------------+-------------------+\n",
      "| userId|           page|                song|           ts|             tsDate|\n",
      "+-------+---------------+--------------------+-------------+-------------------+\n",
      "|1761748|       NextSong|               TÃÂº|1543622402000|2018-12-01 00:00:02|\n",
      "|1146733|Add to Playlist|                null|1543622400000|2018-12-01 00:00:00|\n",
      "|1623507|       NextSong|The Way You Do Th...|1543622399000|2018-11-30 23:59:59|\n",
      "|1245611|       NextSong|                Ho's|1543622399000|2018-11-30 23:59:59|\n",
      "|1415761|       NextSong|Samba De Una Nota...|1543622398000|2018-11-30 23:59:58|\n",
      "|1934208|       NextSong|Sommarnatt (Kom I...|1543622398000|2018-11-30 23:59:58|\n",
      "|1024500|       NextSong|           Thickness|1543622398000|2018-11-30 23:59:58|\n",
      "|1112854|       NextSong|Cae La Noche En O...|1543622397000|2018-11-30 23:59:57|\n",
      "|1222603|         Logout|                null|1543622397000|2018-11-30 23:59:57|\n",
      "|1793178|       NextSong|              Wicked|1543622397000|2018-11-30 23:59:57|\n",
      "+-------+---------------+--------------------+-------------+-------------------+\n",
      "only showing top 10 rows"
     ]
    }
   ],
   "source": [
    "df.select('userId', 'page', 'song', 'ts', 'tsDate').sort('ts', ascending = False).show(10)"
   ]
  },
  {
   "cell_type": "markdown",
   "metadata": {},
   "source": [
    "As mentioned above, observation period in full dataset from 00:00:01, October 01 to 23:59:59 November 30, 2018. The data set contains several records, which are out of the general set. Let's delete it:"
   ]
  },
  {
   "cell_type": "code",
   "execution_count": 12,
   "metadata": {},
   "outputs": [
    {
     "data": {
      "application/vnd.jupyter.widget-view+json": {
       "model_id": "02b3ff5df34944978b142dabc5700b7b",
       "version_major": 2,
       "version_minor": 0
      },
      "text/plain": [
       "VBox()"
      ]
     },
     "metadata": {},
     "output_type": "display_data"
    },
    {
     "data": {
      "application/vnd.jupyter.widget-view+json": {
       "model_id": "",
       "version_major": 2,
       "version_minor": 0
      },
      "text/plain": [
       "FloatProgress(value=0.0, bar_style='info', description='Progress:', layout=Layout(height='25px', width='50%'),…"
      ]
     },
     "metadata": {},
     "output_type": "display_data"
    },
    {
     "name": "stdout",
     "output_type": "stream",
     "text": [
      "26259197"
     ]
    }
   ],
   "source": [
    "# Remove rows with corrupted timestamps\n",
    "df = df.where(df.ts <= 1543622399000)\n",
    "df.count()"
   ]
  },
  {
   "cell_type": "markdown",
   "metadata": {},
   "source": [
    "Then analyse a partial dataset to get an idea of the dataframe.\n",
    "\n",
    "#### 1. User-level information\n",
    "\n",
    "User information such as first name, last name, location. And also the level that can be changed."
   ]
  },
  {
   "cell_type": "code",
   "execution_count": 13,
   "metadata": {},
   "outputs": [
    {
     "data": {
      "application/vnd.jupyter.widget-view+json": {
       "model_id": "3771bd872aee49df8dfb51ee56ec9767",
       "version_major": 2,
       "version_minor": 0
      },
      "text/plain": [
       "VBox()"
      ]
     },
     "metadata": {},
     "output_type": "display_data"
    },
    {
     "data": {
      "application/vnd.jupyter.widget-view+json": {
       "model_id": "",
       "version_major": 2,
       "version_minor": 0
      },
      "text/plain": [
       "FloatProgress(value=0.0, bar_style='info', description='Progress:', layout=Layout(height='25px', width='50%'),…"
      ]
     },
     "metadata": {},
     "output_type": "display_data"
    },
    {
     "name": "stdout",
     "output_type": "stream",
     "text": [
      "+-------+---------+--------+------+--------------------+-------------+-------------------+--------------------+-----+\n",
      "| userId|firstName|lastName|gender|            location| registration|   registrationDate|           userAgent|level|\n",
      "+-------+---------+--------+------+--------------------+-------------+-------------------+--------------------+-----+\n",
      "|1749042|    Shlok| Johnson|     M|Dallas-Fort Worth...|1533734541000|2018-08-08 13:22:21|\"Mozilla/5.0 (Win...| paid|\n",
      "|1563081|  Vianney|  Miller|     F|San Francisco-Oak...|1537500318000|2018-09-21 03:25:18|\"Mozilla/5.0 (Mac...| paid|\n",
      "|1697168|     Vina|  Bailey|     F|            Hilo, HI|1536414505000|2018-09-08 13:48:25|Mozilla/5.0 (Maci...| paid|\n",
      "|1222580|   Andres|   Foley|     M|       Watertown, SD|1534386660000|2018-08-16 02:31:00|\"Mozilla/5.0 (Mac...| paid|\n",
      "|1714398|  Aaliyah| Ramirez|     F|Baltimore-Columbi...|1537381415000|2018-09-19 18:23:35|\"Mozilla/5.0 (Win...| paid|\n",
      "+-------+---------+--------+------+--------------------+-------------+-------------------+--------------------+-----+\n",
      "only showing top 5 rows"
     ]
    }
   ],
   "source": [
    "df.select(['userId', 'firstName', 'lastName', 'gender', 'location', 'registration', 'registrationDate', 'userAgent', 'level']).show(5)"
   ]
  },
  {
   "cell_type": "code",
   "execution_count": 14,
   "metadata": {},
   "outputs": [
    {
     "data": {
      "application/vnd.jupyter.widget-view+json": {
       "model_id": "d95cd4b5fabc41c98962c85d35c4412d",
       "version_major": 2,
       "version_minor": 0
      },
      "text/plain": [
       "VBox()"
      ]
     },
     "metadata": {},
     "output_type": "display_data"
    },
    {
     "data": {
      "application/vnd.jupyter.widget-view+json": {
       "model_id": "",
       "version_major": 2,
       "version_minor": 0
      },
      "text/plain": [
       "FloatProgress(value=0.0, bar_style='info', description='Progress:', layout=Layout(height='25px', width='50%'),…"
      ]
     },
     "metadata": {},
     "output_type": "display_data"
    },
    {
     "name": "stdout",
     "output_type": "stream",
     "text": [
      "Number of unique users is 22278\n",
      "Number of missing values in the 'userId' column is 0"
     ]
    }
   ],
   "source": [
    "# Number of unique users in the dataset\n",
    "print(\"Number of unique users is {}\".format(df.select(['userId']).dropDuplicates().count()))\n",
    "# Number of missing values in the 'userId' column\n",
    "print(\"Number of missing values in the 'userId' column is {}\".format(df.where(df.userId.isNull()).count()))"
   ]
  },
  {
   "cell_type": "code",
   "execution_count": 15,
   "metadata": {},
   "outputs": [
    {
     "data": {
      "application/vnd.jupyter.widget-view+json": {
       "model_id": "6e69516b715d4a59bf47547f611cb1dc",
       "version_major": 2,
       "version_minor": 0
      },
      "text/plain": [
       "VBox()"
      ]
     },
     "metadata": {},
     "output_type": "display_data"
    },
    {
     "data": {
      "application/vnd.jupyter.widget-view+json": {
       "model_id": "",
       "version_major": 2,
       "version_minor": 0
      },
      "text/plain": [
       "FloatProgress(value=0.0, bar_style='info', description='Progress:', layout=Layout(height='25px', width='50%'),…"
      ]
     },
     "metadata": {},
     "output_type": "display_data"
    },
    {
     "name": "stdout",
     "output_type": "stream",
     "text": [
      "0"
     ]
    }
   ],
   "source": [
    "# Rows with empty strings in the 'userId' column.\n",
    "df.where(df.userId == \"\").count()"
   ]
  },
  {
   "cell_type": "code",
   "execution_count": 16,
   "metadata": {},
   "outputs": [
    {
     "data": {
      "application/vnd.jupyter.widget-view+json": {
       "model_id": "4ece137089b14d6a9c78d04e7cb993a4",
       "version_major": 2,
       "version_minor": 0
      },
      "text/plain": [
       "VBox()"
      ]
     },
     "metadata": {},
     "output_type": "display_data"
    },
    {
     "data": {
      "application/vnd.jupyter.widget-view+json": {
       "model_id": "",
       "version_major": 2,
       "version_minor": 0
      },
      "text/plain": [
       "FloatProgress(value=0.0, bar_style='info', description='Progress:', layout=Layout(height='25px', width='50%'),…"
      ]
     },
     "metadata": {},
     "output_type": "display_data"
    },
    {
     "name": "stdout",
     "output_type": "stream",
     "text": [
      "+------+---------+--------+------+--------+------------+---------+-----+------+----+----+\n",
      "|userId|firstName|lastName|gender|location|registration|userAgent|level|tsDate|page|auth|\n",
      "+------+---------+--------+------+--------+------------+---------+-----+------+----+----+\n",
      "+------+---------+--------+------+--------+------------+---------+-----+------+----+----+\n",
      "\n",
      "+----+-----+\n",
      "|auth|count|\n",
      "+----+-----+\n",
      "+----+-----+"
     ]
    }
   ],
   "source": [
    "df.where(df.userId == \"\").select(['userId', 'firstName', 'lastName', 'gender', 'location', 'registration', 'userAgent', 'level', 'tsDate', 'page', 'auth',]).show(10)\n",
    "df.where(df.userId == \"\").groupby('auth').count().show()"
   ]
  },
  {
   "cell_type": "markdown",
   "metadata": {},
   "source": [
    "Rows with an empty string in the 'userId' column correspond to logs in which the user has not been logged in ('Logged Out' or 'Guest'). An interesting observation is that there are no such lines in a large set."
   ]
  },
  {
   "cell_type": "markdown",
   "metadata": {},
   "source": [
    "#### 2. Log-specific information\n",
    "\n",
    "Information about how different users interact with the music streaming service."
   ]
  },
  {
   "cell_type": "code",
   "execution_count": 17,
   "metadata": {},
   "outputs": [
    {
     "data": {
      "application/vnd.jupyter.widget-view+json": {
       "model_id": "ac24f1d5be894171b2d506248ca74ce1",
       "version_major": 2,
       "version_minor": 0
      },
      "text/plain": [
       "VBox()"
      ]
     },
     "metadata": {},
     "output_type": "display_data"
    },
    {
     "data": {
      "application/vnd.jupyter.widget-view+json": {
       "model_id": "",
       "version_major": 2,
       "version_minor": 0
      },
      "text/plain": [
       "FloatProgress(value=0.0, bar_style='info', description='Progress:', layout=Layout(height='25px', width='50%'),…"
      ]
     },
     "metadata": {},
     "output_type": "display_data"
    },
    {
     "name": "stdout",
     "output_type": "stream",
     "text": [
      "+-------------+-------------------+--------+---------+---------+-------------+------+------+\n",
      "|           ts|             tsDate|    page|     auth|sessionId|itemInSession|method|status|\n",
      "+-------------+-------------------+--------+---------+---------+-------------+------+------+\n",
      "|1538352001000|2018-10-01 00:00:01|NextSong|Logged In|    22683|          278|   PUT|   200|\n",
      "|1538352002000|2018-10-01 00:00:02|NextSong|Logged In|    20836|            9|   PUT|   200|\n",
      "|1538352002000|2018-10-01 00:00:02|NextSong|Logged In|     4593|          109|   PUT|   200|\n",
      "|1538352003000|2018-10-01 00:00:03|NextSong|Logged In|     6370|           71|   PUT|   200|\n",
      "|1538352003000|2018-10-01 00:00:03|NextSong|Logged In|    22316|           21|   PUT|   200|\n",
      "+-------------+-------------------+--------+---------+---------+-------------+------+------+\n",
      "only showing top 5 rows"
     ]
    }
   ],
   "source": [
    "#  Log-specific information\n",
    "df.select(['ts', 'tsDate', 'page', 'auth', 'sessionId', 'itemInSession', 'method', 'status']).show(5)"
   ]
  },
  {
   "cell_type": "code",
   "execution_count": 18,
   "metadata": {},
   "outputs": [
    {
     "data": {
      "application/vnd.jupyter.widget-view+json": {
       "model_id": "43036d3ee7f7453294f4c256cc5e8e67",
       "version_major": 2,
       "version_minor": 0
      },
      "text/plain": [
       "VBox()"
      ]
     },
     "metadata": {},
     "output_type": "display_data"
    },
    {
     "data": {
      "application/vnd.jupyter.widget-view+json": {
       "model_id": "",
       "version_major": 2,
       "version_minor": 0
      },
      "text/plain": [
       "FloatProgress(value=0.0, bar_style='info', description='Progress:', layout=Layout(height='25px', width='50%'),…"
      ]
     },
     "metadata": {},
     "output_type": "display_data"
    },
    {
     "name": "stdout",
     "output_type": "stream",
     "text": [
      "Number of missing values in the 'page' column is 0"
     ]
    }
   ],
   "source": [
    "print(\"Number of missing values in the 'page' column is {}\".format(df.where(df.page.isNull()).count()))"
   ]
  },
  {
   "cell_type": "code",
   "execution_count": 19,
   "metadata": {},
   "outputs": [
    {
     "data": {
      "application/vnd.jupyter.widget-view+json": {
       "model_id": "d7e9cc8c58ca4c86aba8cae49b1b6962",
       "version_major": 2,
       "version_minor": 0
      },
      "text/plain": [
       "VBox()"
      ]
     },
     "metadata": {},
     "output_type": "display_data"
    },
    {
     "data": {
      "application/vnd.jupyter.widget-view+json": {
       "model_id": "",
       "version_major": 2,
       "version_minor": 0
      },
      "text/plain": [
       "FloatProgress(value=0.0, bar_style='info', description='Progress:', layout=Layout(height='25px', width='50%'),…"
      ]
     },
     "metadata": {},
     "output_type": "display_data"
    },
    {
     "name": "stdout",
     "output_type": "stream",
     "text": [
      "+--------------------+\n",
      "|                page|\n",
      "+--------------------+\n",
      "|           Downgrade|\n",
      "|       Save Settings|\n",
      "|               Error|\n",
      "|     Add to Playlist|\n",
      "|                Help|\n",
      "|      Submit Upgrade|\n",
      "|              Cancel|\n",
      "|    Submit Downgrade|\n",
      "|         Thumbs Down|\n",
      "|                Home|\n",
      "|         Roll Advert|\n",
      "|               About|\n",
      "|             Upgrade|\n",
      "|Cancellation Conf...|\n",
      "| Submit Registration|\n",
      "|               Login|\n",
      "|            Register|\n",
      "|            NextSong|\n",
      "|           Thumbs Up|\n",
      "|              Logout|\n",
      "|            Settings|\n",
      "|          Add Friend|\n",
      "+--------------------+\n",
      "\n",
      "Number of user actions is 22"
     ]
    }
   ],
   "source": [
    "# pages types\n",
    "\n",
    "pages_num = df.select('page').dropDuplicates().count()\n",
    "df.select('page').dropDuplicates().show(pages_num)\n",
    "print(\"Number of user actions is {}\".format(pages_num))"
   ]
  },
  {
   "cell_type": "code",
   "execution_count": 20,
   "metadata": {},
   "outputs": [
    {
     "data": {
      "application/vnd.jupyter.widget-view+json": {
       "model_id": "ba89d94d3eda4eccaa36aebf4a8c46e0",
       "version_major": 2,
       "version_minor": 0
      },
      "text/plain": [
       "VBox()"
      ]
     },
     "metadata": {},
     "output_type": "display_data"
    },
    {
     "data": {
      "application/vnd.jupyter.widget-view+json": {
       "model_id": "",
       "version_major": 2,
       "version_minor": 0
      },
      "text/plain": [
       "FloatProgress(value=0.0, bar_style='info', description='Progress:', layout=Layout(height='25px', width='50%'),…"
      ]
     },
     "metadata": {},
     "output_type": "display_data"
    },
    {
     "data": {
      "image/png": "[encoded data removed]",
      "text/plain": [
       "<IPython.core.display.Image object>"
      ]
     },
     "metadata": {},
     "output_type": "display_data"
    }
   ],
   "source": [
    "# plotting most often uses pages\n",
    "\n",
    "pages_df = df.groupby('page').count().toPandas()\n",
    "\n",
    "# Plot\n",
    "fig, ax = plt.subplots(figsize=(10, 5))\n",
    "\n",
    "ax.bar(pages_df['page'], pages_df['count'])\n",
    "ax.set_ylabel('Scores')\n",
    "ax.set_title('Page traffic')\n",
    "ax.legend()\n",
    "fig.autofmt_xdate()\n",
    "\n",
    "plt.show()\n",
    "\n",
    "%matplot plt"
   ]
  },
  {
   "cell_type": "code",
   "execution_count": 21,
   "metadata": {},
   "outputs": [
    {
     "data": {
      "application/vnd.jupyter.widget-view+json": {
       "model_id": "48d525aae604458baabc9943b91fb39c",
       "version_major": 2,
       "version_minor": 0
      },
      "text/plain": [
       "VBox()"
      ]
     },
     "metadata": {},
     "output_type": "display_data"
    },
    {
     "data": {
      "application/vnd.jupyter.widget-view+json": {
       "model_id": "",
       "version_major": 2,
       "version_minor": 0
      },
      "text/plain": [
       "FloatProgress(value=0.0, bar_style='info', description='Progress:', layout=Layout(height='25px', width='50%'),…"
      ]
     },
     "metadata": {},
     "output_type": "display_data"
    },
    {
     "data": {
      "image/png": "[encoded data removed]",
      "text/plain": [
       "<IPython.core.display.Image object>"
      ]
     },
     "metadata": {},
     "output_type": "display_data"
    }
   ],
   "source": [
    "# Explore the auth column\n",
    "auth_df = df.groupby('auth').count().toPandas()\n",
    "\n",
    "# Plot\n",
    "fig, ax = plt.subplots(figsize=(10, 5))\n",
    "\n",
    "ax.bar(auth_df['auth'], auth_df['count'])\n",
    "ax.set_ylabel('Scores')\n",
    "ax.set_title('Authentication Type')\n",
    "ax.legend()\n",
    "fig.autofmt_xdate()\n",
    "\n",
    "plt.show()\n",
    "\n",
    "%matplot plt"
   ]
  },
  {
   "cell_type": "code",
   "execution_count": 22,
   "metadata": {},
   "outputs": [
    {
     "data": {
      "application/vnd.jupyter.widget-view+json": {
       "model_id": "e89024cccc514fb98047fd43ee6e193f",
       "version_major": 2,
       "version_minor": 0
      },
      "text/plain": [
       "VBox()"
      ]
     },
     "metadata": {},
     "output_type": "display_data"
    },
    {
     "data": {
      "application/vnd.jupyter.widget-view+json": {
       "model_id": "",
       "version_major": 2,
       "version_minor": 0
      },
      "text/plain": [
       "FloatProgress(value=0.0, bar_style='info', description='Progress:', layout=Layout(height='25px', width='50%'),…"
      ]
     },
     "metadata": {},
     "output_type": "display_data"
    },
    {
     "name": "stdout",
     "output_type": "stream",
     "text": [
      "+-------+-------------------+---------+---------+--------------------+\n",
      "| userId|             tsDate|sessionId|     auth|                page|\n",
      "+-------+-------------------+---------+---------+--------------------+\n",
      "|1768454|2018-10-01 02:15:45|    24588|Cancelled|Cancellation Conf...|\n",
      "|1381915|2018-10-01 03:02:56|     4031|Cancelled|Cancellation Conf...|\n",
      "|1298443|2018-10-01 03:53:28|    21329|Cancelled|Cancellation Conf...|\n",
      "|1379352|2018-10-01 05:19:04|    14061|Cancelled|Cancellation Conf...|\n",
      "|1068112|2018-10-01 05:26:07|    22282|Cancelled|Cancellation Conf...|\n",
      "+-------+-------------------+---------+---------+--------------------+\n",
      "only showing top 5 rows"
     ]
    }
   ],
   "source": [
    "# 'Cancelled' category corresponds to 'Cancellation Confirmation' in the page column.\n",
    "\n",
    "df.where(df.auth == 'Cancelled').select(['userId', 'tsDate', 'sessionId', 'auth', 'page']).show(5)"
   ]
  },
  {
   "cell_type": "markdown",
   "metadata": {},
   "source": [
    "_'Cancelled'_ category corresponds to _'Cancellation Confirmation'_ in the page column."
   ]
  },
  {
   "cell_type": "code",
   "execution_count": 23,
   "metadata": {},
   "outputs": [
    {
     "data": {
      "application/vnd.jupyter.widget-view+json": {
       "model_id": "dffe03a13a3645fea2ef5ddb13c0962d",
       "version_major": 2,
       "version_minor": 0
      },
      "text/plain": [
       "VBox()"
      ]
     },
     "metadata": {},
     "output_type": "display_data"
    },
    {
     "data": {
      "application/vnd.jupyter.widget-view+json": {
       "model_id": "",
       "version_major": 2,
       "version_minor": 0
      },
      "text/plain": [
       "FloatProgress(value=0.0, bar_style='info', description='Progress:', layout=Layout(height='25px', width='50%'),…"
      ]
     },
     "metadata": {},
     "output_type": "display_data"
    },
    {
     "name": "stdout",
     "output_type": "stream",
     "text": [
      "Number of sessionId is 228713\n",
      "Number of missing values in the sessionId column is 0\n",
      "Number of empty values in the sessionId column is 0"
     ]
    }
   ],
   "source": [
    "print(\"Number of sessionId is {}\".format(df.select('sessionId').dropDuplicates().count()))\n",
    "print(\"Number of missing values in the sessionId column is {}\".format(df.where(df.sessionId.isNull()).count()))\n",
    "print(\"Number of empty values in the sessionId column is {}\".format(df.where(df.sessionId == \"\").count()))"
   ]
  },
  {
   "cell_type": "code",
   "execution_count": 24,
   "metadata": {},
   "outputs": [
    {
     "data": {
      "application/vnd.jupyter.widget-view+json": {
       "model_id": "08748722d8044b1cbfa96fa185efb69a",
       "version_major": 2,
       "version_minor": 0
      },
      "text/plain": [
       "VBox()"
      ]
     },
     "metadata": {},
     "output_type": "display_data"
    },
    {
     "data": {
      "application/vnd.jupyter.widget-view+json": {
       "model_id": "",
       "version_major": 2,
       "version_minor": 0
      },
      "text/plain": [
       "FloatProgress(value=0.0, bar_style='info', description='Progress:', layout=Layout(height='25px', width='50%'),…"
      ]
     },
     "metadata": {},
     "output_type": "display_data"
    },
    {
     "name": "stdout",
     "output_type": "stream",
     "text": [
      "+-------+---------+-------------+\n",
      "| userId|sessionId|sessionlength|\n",
      "+-------+---------+-------------+\n",
      "|1261737|    20025|    5244379.0|\n",
      "|1261737|    20053|    5243248.0|\n",
      "|1261737|    19352|    5235133.0|\n",
      "|1261737|    25702|    5233265.0|\n",
      "|1261737|    24546|    5223551.0|\n",
      "+-------+---------+-------------+\n",
      "only showing top 5 rows\n",
      "\n",
      "+-------+---------+-------------+\n",
      "| userId|sessionId|sessionlength|\n",
      "+-------+---------+-------------+\n",
      "|1261737|    31891|          1.0|\n",
      "|1261737|    20419|          1.0|\n",
      "|1261737|    27246|          1.0|\n",
      "|1261737|    32149|          1.0|\n",
      "|1261737|    35652|          1.0|\n",
      "+-------+---------+-------------+\n",
      "only showing top 5 rows"
     ]
    }
   ],
   "source": [
    "# explore maximum and minimum session length \n",
    "\n",
    "sessions_df = df.where(df.userId != \"\").groupby(['userId','sessionId']).agg(((Fmax('ts') - Fmin('ts'))/1000).alias('sessionlength'))\n",
    "\n",
    "sessions_df.sort('sessionlength', ascending = False).show(5)\n",
    "sessions_df.where(sessions_df.sessionlength != 0).sort('sessionlength', ascending = True).show(5)"
   ]
  },
  {
   "cell_type": "markdown",
   "metadata": {},
   "source": [
    "The maximum session length is more then 74 hours, The minimum session length is 1 sec (excluding zero)."
   ]
  },
  {
   "cell_type": "markdown",
   "metadata": {},
   "source": [
    "#### 3. Song-level information\n",
    "\n",
    "Information related to the song that is currently playing."
   ]
  },
  {
   "cell_type": "code",
   "execution_count": 25,
   "metadata": {},
   "outputs": [
    {
     "data": {
      "application/vnd.jupyter.widget-view+json": {
       "model_id": "33506cfc49204d849029aca0d60f7ab1",
       "version_major": 2,
       "version_minor": 0
      },
      "text/plain": [
       "VBox()"
      ]
     },
     "metadata": {},
     "output_type": "display_data"
    },
    {
     "data": {
      "application/vnd.jupyter.widget-view+json": {
       "model_id": "",
       "version_major": 2,
       "version_minor": 0
      },
      "text/plain": [
       "FloatProgress(value=0.0, bar_style='info', description='Progress:', layout=Layout(height='25px', width='50%'),…"
      ]
     },
     "metadata": {},
     "output_type": "display_data"
    },
    {
     "name": "stdout",
     "output_type": "stream",
     "text": [
      "+--------------------+--------------------+----------+\n",
      "|              artist|                song|    length|\n",
      "+--------------------+--------------------+----------+\n",
      "|           Popol Vuh|Ich mache einen S...| 524.32934|\n",
      "|         Los Bunkers|         MiÃÂ©ntele| 238.39302|\n",
      "|                Lush|           Baby Talk| 140.35546|\n",
      "|Barry Tuckwell/Ac...|Horn Concerto No....| 277.15873|\n",
      "|                 Yes|Close To The Edge...|1121.25342|\n",
      "+--------------------+--------------------+----------+\n",
      "only showing top 5 rows"
     ]
    }
   ],
   "source": [
    "# Song-level information\n",
    "df.select(['artist', 'song', 'length']).show(5)"
   ]
  },
  {
   "cell_type": "code",
   "execution_count": 26,
   "metadata": {},
   "outputs": [
    {
     "data": {
      "application/vnd.jupyter.widget-view+json": {
       "model_id": "1564ffe6e2bd45d4b95384080e8f681b",
       "version_major": 2,
       "version_minor": 0
      },
      "text/plain": [
       "VBox()"
      ]
     },
     "metadata": {},
     "output_type": "display_data"
    },
    {
     "data": {
      "application/vnd.jupyter.widget-view+json": {
       "model_id": "",
       "version_major": 2,
       "version_minor": 0
      },
      "text/plain": [
       "FloatProgress(value=0.0, bar_style='info', description='Progress:', layout=Layout(height='25px', width='50%'),…"
      ]
     },
     "metadata": {},
     "output_type": "display_data"
    },
    {
     "name": "stdout",
     "output_type": "stream",
     "text": [
      "+--------+--------+\n",
      "|    page|   count|\n",
      "+--------+--------+\n",
      "|NextSong|20850271|\n",
      "+--------+--------+"
     ]
    }
   ],
   "source": [
    "# number of listen songs\n",
    "df.where(df.page == 'NextSong').groupby('page').count().show()"
   ]
  },
  {
   "cell_type": "code",
   "execution_count": 27,
   "metadata": {},
   "outputs": [
    {
     "data": {
      "application/vnd.jupyter.widget-view+json": {
       "model_id": "9f039e014dc94a53bf39bb2287118150",
       "version_major": 2,
       "version_minor": 0
      },
      "text/plain": [
       "VBox()"
      ]
     },
     "metadata": {},
     "output_type": "display_data"
    },
    {
     "data": {
      "application/vnd.jupyter.widget-view+json": {
       "model_id": "",
       "version_major": 2,
       "version_minor": 0
      },
      "text/plain": [
       "FloatProgress(value=0.0, bar_style='info', description='Progress:', layout=Layout(height='25px', width='50%'),…"
      ]
     },
     "metadata": {},
     "output_type": "display_data"
    },
    {
     "name": "stdout",
     "output_type": "stream",
     "text": [
      "Number of different artists is 38337\n",
      "Number of different song names is 253564\n",
      "Number of songs in dataset (including full duplicates) is 314336\n",
      "Number of songs in dataset (including duplicates with same artist and song name) is 311149"
     ]
    }
   ],
   "source": [
    "print(\"Number of different artists is {}\".format(df.where(df.artist.isNotNull()).select('artist').dropDuplicates().count()))\n",
    "print(\"Number of different song names is {}\".format(df.where(df.song.isNotNull()).select('song').dropDuplicates().count()))\n",
    "print(\"Number of songs in dataset (including full duplicates) is {}\".format(df.select(['artist','song','length']).dropDuplicates().count()))\n",
    "print(\"Number of songs in dataset (including duplicates with same artist and song name) is {}\".format(df.select(['artist','song']).dropDuplicates().count()))"
   ]
  },
  {
   "cell_type": "markdown",
   "metadata": {},
   "source": [
    "## Exploratory data analysis"
   ]
  },
  {
   "cell_type": "markdown",
   "metadata": {},
   "source": [
    "Let's do some exploratory data analysis to observe the behavior of users who stayed and users who left. We'll start by looking at the aggregate metrics for these two groups of users, observing how many specific actions they have experienced in a given unit of time or the number of songs played."
   ]
  },
  {
   "cell_type": "code",
   "execution_count": 28,
   "metadata": {},
   "outputs": [
    {
     "data": {
      "application/vnd.jupyter.widget-view+json": {
       "model_id": "efc3ab86669540929ae9f9ffde9ca583",
       "version_major": 2,
       "version_minor": 0
      },
      "text/plain": [
       "VBox()"
      ]
     },
     "metadata": {},
     "output_type": "display_data"
    },
    {
     "data": {
      "application/vnd.jupyter.widget-view+json": {
       "model_id": "",
       "version_major": 2,
       "version_minor": 0
      },
      "text/plain": [
       "FloatProgress(value=0.0, bar_style='info', description='Progress:', layout=Layout(height='25px', width='50%'),…"
      ]
     },
     "metadata": {},
     "output_type": "display_data"
    }
   ],
   "source": [
    "# Drop missing userId and sessionId\n",
    "df = df.dropna(how = 'any', subset = ['userId','sessionId'])\n",
    "df = df[df.userId != \"\"]"
   ]
  },
  {
   "cell_type": "code",
   "execution_count": 29,
   "metadata": {},
   "outputs": [
    {
     "data": {
      "application/vnd.jupyter.widget-view+json": {
       "model_id": "1ec1a7d3731b4748aa0171d15d3ba5b9",
       "version_major": 2,
       "version_minor": 0
      },
      "text/plain": [
       "VBox()"
      ]
     },
     "metadata": {},
     "output_type": "display_data"
    },
    {
     "data": {
      "application/vnd.jupyter.widget-view+json": {
       "model_id": "",
       "version_major": 2,
       "version_minor": 0
      },
      "text/plain": [
       "FloatProgress(value=0.0, bar_style='info', description='Progress:', layout=Layout(height='25px', width='50%'),…"
      ]
     },
     "metadata": {},
     "output_type": "display_data"
    }
   ],
   "source": [
    "# add downgrade flag\n",
    "df = df.withColumn('downgrade', when(df.page == 'Submit Downgrade', 1).otherwise(0))\n",
    "df = df.withColumn('user_downgrade', Fmax('downgrade').over(Window.partitionBy('UserId')))\n",
    "\n",
    "# add churn\n",
    "df = df.withColumn('churn', when(df.page == 'Cancellation Confirmation', 1).otherwise(0))\n",
    "df = df.withColumn('user_churn', Fmax('churn').over(Window.partitionBy('UserId')))"
   ]
  },
  {
   "cell_type": "markdown",
   "metadata": {},
   "source": [
    "Perhaps the target value is related to the gender of the users."
   ]
  },
  {
   "cell_type": "code",
   "execution_count": 30,
   "metadata": {},
   "outputs": [
    {
     "data": {
      "application/vnd.jupyter.widget-view+json": {
       "model_id": "f82969f2f84c4b85837659ffa5734d2e",
       "version_major": 2,
       "version_minor": 0
      },
      "text/plain": [
       "VBox()"
      ]
     },
     "metadata": {},
     "output_type": "display_data"
    },
    {
     "data": {
      "application/vnd.jupyter.widget-view+json": {
       "model_id": "",
       "version_major": 2,
       "version_minor": 0
      },
      "text/plain": [
       "FloatProgress(value=0.0, bar_style='info', description='Progress:', layout=Layout(height='25px', width='50%'),…"
      ]
     },
     "metadata": {},
     "output_type": "display_data"
    },
    {
     "name": "stdout",
     "output_type": "stream",
     "text": [
      "   user_churn gender  count\n",
      "0           1      F   2347\n",
      "1           1      M   2656\n",
      "2           0      F   8279\n",
      "3           0      M   8995\n",
      "4           0   None      1"
     ]
    }
   ],
   "source": [
    "churn_gender_df = df.drop_duplicates(['userId', 'gender']).groupby(['user_churn', 'gender']).count().toPandas()\n",
    "churn_gender_df"
   ]
  },
  {
   "cell_type": "code",
   "execution_count": 31,
   "metadata": {},
   "outputs": [
    {
     "data": {
      "application/vnd.jupyter.widget-view+json": {
       "model_id": "6899e81e1e4d4bf685fb51e2037ee2c5",
       "version_major": 2,
       "version_minor": 0
      },
      "text/plain": [
       "VBox()"
      ]
     },
     "metadata": {},
     "output_type": "display_data"
    },
    {
     "data": {
      "application/vnd.jupyter.widget-view+json": {
       "model_id": "",
       "version_major": 2,
       "version_minor": 0
      },
      "text/plain": [
       "FloatProgress(value=0.0, bar_style='info', description='Progress:', layout=Layout(height='25px', width='50%'),…"
      ]
     },
     "metadata": {},
     "output_type": "display_data"
    },
    {
     "data": {
      "image/png": "[encoded data removed]",
      "text/plain": [
       "<IPython.core.display.Image object>"
      ]
     },
     "metadata": {},
     "output_type": "display_data"
    }
   ],
   "source": [
    "# Plotting a bar plot to show gender distribution between regular and churn users\n",
    "fig, ax = plt.subplots(figsize=(10, 5))\n",
    "plt.title('Gender distribution between regular and churn users')\n",
    "ax = sns.barplot(x = 'user_churn', y = 'count', data = churn_gender_df, hue = 'gender')\n",
    "\n",
    "ax.set(xticklabels=['Not Churned', 'Churned'])\n",
    "\n",
    "ax.set_ylabel('Count')\n",
    "ax.set_xlabel('User Churn')\n",
    "ax.legend()\n",
    "\n",
    "%matplot plt"
   ]
  },
  {
   "cell_type": "markdown",
   "metadata": {},
   "source": [
    "Who cancels the service more often, paid users or free users?"
   ]
  },
  {
   "cell_type": "code",
   "execution_count": 32,
   "metadata": {},
   "outputs": [
    {
     "data": {
      "application/vnd.jupyter.widget-view+json": {
       "model_id": "e71e2e224f1e4824989889401835c71d",
       "version_major": 2,
       "version_minor": 0
      },
      "text/plain": [
       "VBox()"
      ]
     },
     "metadata": {},
     "output_type": "display_data"
    },
    {
     "data": {
      "application/vnd.jupyter.widget-view+json": {
       "model_id": "",
       "version_major": 2,
       "version_minor": 0
      },
      "text/plain": [
       "FloatProgress(value=0.0, bar_style='info', description='Progress:', layout=Layout(height='25px', width='50%'),…"
      ]
     },
     "metadata": {},
     "output_type": "display_data"
    },
    {
     "data": {
      "image/png": "[encoded data removed]",
      "text/plain": [
       "<IPython.core.display.Image object>"
      ]
     },
     "metadata": {},
     "output_type": "display_data"
    }
   ],
   "source": [
    "# Plotting a bar plot to show differense between Paid/Free customers churn\n",
    "fig, ax = plt.subplots(figsize=(10, 5))\n",
    "\n",
    "df_level_pd = df.filter('page == \"Cancellation Confirmation\"').groupby('level').count().toPandas()\n",
    "plt.title('Paid/Free customers churn')\n",
    "sns.barplot(data = df_level_pd, x = 'level', y = 'count', color = sns.color_palette()[0])\n",
    "\n",
    "ax.set(xticklabels=['Free', 'Paid'])\n",
    "\n",
    "ax.set_ylabel('Count')\n",
    "ax.set_xlabel('User Level')\n",
    "ax.legend()\n",
    "\n",
    "%matplot plt"
   ]
  },
  {
   "cell_type": "markdown",
   "metadata": {},
   "source": [
    "The average number of songs played by users who unsubscribed versus those who did not."
   ]
  },
  {
   "cell_type": "code",
   "execution_count": 33,
   "metadata": {},
   "outputs": [
    {
     "data": {
      "application/vnd.jupyter.widget-view+json": {
       "model_id": "888f9d860ae44a18a55d54877cbc9e0a",
       "version_major": 2,
       "version_minor": 0
      },
      "text/plain": [
       "VBox()"
      ]
     },
     "metadata": {},
     "output_type": "display_data"
    },
    {
     "data": {
      "application/vnd.jupyter.widget-view+json": {
       "model_id": "",
       "version_major": 2,
       "version_minor": 0
      },
      "text/plain": [
       "FloatProgress(value=0.0, bar_style='info', description='Progress:', layout=Layout(height='25px', width='50%'),…"
      ]
     },
     "metadata": {},
     "output_type": "display_data"
    },
    {
     "data": {
      "image/png": "[encoded data removed]",
      "text/plain": [
       "<IPython.core.display.Image object>"
      ]
     },
     "metadata": {},
     "output_type": "display_data"
    }
   ],
   "source": [
    "# Plotting Number of songs played per session\n",
    "\n",
    "avg_songs_df = df.where(df.song.isNotNull()).groupby(['user_churn', 'userId', 'sessionId']).count()\\\n",
    "    .groupby(['user_churn', 'userId']).agg({'count': 'avg'}).toPandas()\n",
    "\n",
    "fig, ax = plt.subplots(figsize=(10, 5))\n",
    "\n",
    "plt.title('Number of songs played per session')\n",
    "sns.boxplot('user_churn', y = 'avg(count)', data = avg_songs_df)\n",
    "\n",
    "ax.set(xticklabels=['Not Churned', 'Churned'])\n",
    "\n",
    "ax.set_ylabel('Count')\n",
    "ax.set_xlabel('User Churn')\n",
    "ax.legend()\n",
    "\n",
    "%matplot plt"
   ]
  },
  {
   "cell_type": "markdown",
   "metadata": {},
   "source": [
    "The average session lenght who unsubscribed versus those who did not."
   ]
  },
  {
   "cell_type": "code",
   "execution_count": 34,
   "metadata": {},
   "outputs": [
    {
     "data": {
      "application/vnd.jupyter.widget-view+json": {
       "model_id": "1258c0d3b2fd46418f7d0987442ab708",
       "version_major": 2,
       "version_minor": 0
      },
      "text/plain": [
       "VBox()"
      ]
     },
     "metadata": {},
     "output_type": "display_data"
    },
    {
     "data": {
      "application/vnd.jupyter.widget-view+json": {
       "model_id": "",
       "version_major": 2,
       "version_minor": 0
      },
      "text/plain": [
       "FloatProgress(value=0.0, bar_style='info', description='Progress:', layout=Layout(height='25px', width='50%'),…"
      ]
     },
     "metadata": {},
     "output_type": "display_data"
    },
    {
     "data": {
      "image/png": "[encoded data removed]",
      "text/plain": [
       "<IPython.core.display.Image object>"
      ]
     },
     "metadata": {},
     "output_type": "display_data"
    }
   ],
   "source": [
    "avg_session_df = df.groupby(['user_churn', 'userId', 'sessionId']) \\\n",
    "            .agg(((Fmax('ts') - Fmin('ts')) / 1000).alias('sessionlength')) \\\n",
    "            .groupby(['user_churn', 'userId']).agg({'sessionlength': 'avg'}).toPandas()\n",
    "\n",
    "fig, ax = plt.subplots(figsize=(10, 5))\n",
    "\n",
    "plt.title('Average session lenght')\n",
    "sns.boxplot('user_churn', y = 'avg(sessionlength)', data = avg_session_df)\n",
    "\n",
    "ax.set(xticklabels=['Not Churned', 'Churned'])\n",
    "\n",
    "ax.set_ylabel('Count')\n",
    "ax.set_xlabel('User Churn')\n",
    "ax.legend()\n",
    "\n",
    "%matplot plt"
   ]
  },
  {
   "cell_type": "markdown",
   "metadata": {},
   "source": [
    "Users who unsubscribe may not use the service for so long."
   ]
  },
  {
   "cell_type": "code",
   "execution_count": 35,
   "metadata": {},
   "outputs": [
    {
     "data": {
      "application/vnd.jupyter.widget-view+json": {
       "model_id": "5c9dee8a628e461eaaf69ed411c911f9",
       "version_major": 2,
       "version_minor": 0
      },
      "text/plain": [
       "VBox()"
      ]
     },
     "metadata": {},
     "output_type": "display_data"
    },
    {
     "data": {
      "application/vnd.jupyter.widget-view+json": {
       "model_id": "",
       "version_major": 2,
       "version_minor": 0
      },
      "text/plain": [
       "FloatProgress(value=0.0, bar_style='info', description='Progress:', layout=Layout(height='25px', width='50%'),…"
      ]
     },
     "metadata": {},
     "output_type": "display_data"
    },
    {
     "data": {
      "image/png": "[encoded data removed]",
      "text/plain": [
       "<IPython.core.display.Image object>"
      ]
     },
     "metadata": {},
     "output_type": "display_data"
    }
   ],
   "source": [
    "life_time_df = df.groupby(['user_churn', 'userId', 'ts', 'registration']).count() \\\n",
    "                    .withColumn('life_time', (df.ts - df.registration) / 1000) \\\n",
    "                    .groupBy('userId', 'user_churn').agg({'life_time' : 'max'}).toPandas()\n",
    "\n",
    "# Plottint this dataframe\n",
    "fig, ax = plt.subplots(figsize=(5, 8))\n",
    "\n",
    "sns.boxplot(data=life_time_df, x='user_churn', y='max(life_time)')\n",
    "plt.xlabel('User Churn')\n",
    "plt.ylabel('Time Since Registration')\n",
    "plt.title('Time since registration and churn')\n",
    "ax.set(xticklabels=['Not Churned', 'Churned'])\n",
    "\n",
    "%matplot plt"
   ]
  },
  {
   "cell_type": "markdown",
   "metadata": {},
   "source": [
    "How about the number of friends?"
   ]
  },
  {
   "cell_type": "code",
   "execution_count": 36,
   "metadata": {},
   "outputs": [
    {
     "data": {
      "application/vnd.jupyter.widget-view+json": {
       "model_id": "56cb72ea9992458d8dc5c10f502bf591",
       "version_major": 2,
       "version_minor": 0
      },
      "text/plain": [
       "VBox()"
      ]
     },
     "metadata": {},
     "output_type": "display_data"
    },
    {
     "data": {
      "application/vnd.jupyter.widget-view+json": {
       "model_id": "",
       "version_major": 2,
       "version_minor": 0
      },
      "text/plain": [
       "FloatProgress(value=0.0, bar_style='info', description='Progress:', layout=Layout(height='25px', width='50%'),…"
      ]
     },
     "metadata": {},
     "output_type": "display_data"
    },
    {
     "data": {
      "image/png": "[encoded data removed]",
      "text/plain": [
       "<IPython.core.display.Image object>"
      ]
     },
     "metadata": {},
     "output_type": "display_data"
    }
   ],
   "source": [
    "# dataframe whith friends\n",
    "friends_df = df.where('page == \"Add Friend\"').groupby(['user_churn', 'userId']).count()\\\n",
    "                        .groupby(['user_churn', 'userId']).agg({'count': 'avg'}).toPandas()\n",
    "\n",
    "# Plottint how Number of Friends correlations with Churn\n",
    "\n",
    "fig, ax = plt.subplots(figsize=(10, 5))\n",
    "\n",
    "plt.title('Number of Friends')\n",
    "sns.boxplot('user_churn', y = 'avg(count)', data = friends_df)\n",
    "plt.ylabel('Average Number of Friends')\n",
    "plt.xlabel('User Churn')\n",
    "ax.set(xticklabels=['Not Churned', 'Churned'])\n",
    "\n",
    "%matplot plt"
   ]
  },
  {
   "cell_type": "markdown",
   "metadata": {},
   "source": [
    "## Feature Engineering"
   ]
  },
  {
   "cell_type": "markdown",
   "metadata": {},
   "source": [
    "Let's extract the features that will help us create the model. We need the following features:"
   ]
  },
  {
   "cell_type": "markdown",
   "metadata": {},
   "source": [
    "1. Total songs listened\n",
    "2. Gender\n",
    "3. Number of thumbs down\n",
    "4. Number of thumbs up\n",
    "5. Total time since registration\n",
    "6. Average songs played per session\n",
    "7. Number of songs added to the playlist\n",
    "8. Total number of friends\n",
    "9. Help page visits \n",
    "10. Settings page visits\n",
    "11. Errors\n",
    "12. Downgrade\n",
    "13. Paid/Free users (last label)\n",
    "14. Churn (target)"
   ]
  },
  {
   "cell_type": "code",
   "execution_count": 37,
   "metadata": {},
   "outputs": [
    {
     "data": {
      "application/vnd.jupyter.widget-view+json": {
       "model_id": "bd9d76836d0c453cb1587b9e78a4a2f2",
       "version_major": 2,
       "version_minor": 0
      },
      "text/plain": [
       "VBox()"
      ]
     },
     "metadata": {},
     "output_type": "display_data"
    },
    {
     "data": {
      "application/vnd.jupyter.widget-view+json": {
       "model_id": "",
       "version_major": 2,
       "version_minor": 0
      },
      "text/plain": [
       "FloatProgress(value=0.0, bar_style='info', description='Progress:', layout=Layout(height='25px', width='50%'),…"
      ]
     },
     "metadata": {},
     "output_type": "display_data"
    }
   ],
   "source": [
    "features = []"
   ]
  },
  {
   "cell_type": "markdown",
   "metadata": {},
   "source": [
    "#### 1. Total songs listened"
   ]
  },
  {
   "cell_type": "code",
   "execution_count": 38,
   "metadata": {},
   "outputs": [
    {
     "data": {
      "application/vnd.jupyter.widget-view+json": {
       "model_id": "59809aa45dbf4f6e8f33428ff8029244",
       "version_major": 2,
       "version_minor": 0
      },
      "text/plain": [
       "VBox()"
      ]
     },
     "metadata": {},
     "output_type": "display_data"
    },
    {
     "data": {
      "application/vnd.jupyter.widget-view+json": {
       "model_id": "",
       "version_major": 2,
       "version_minor": 0
      },
      "text/plain": [
       "FloatProgress(value=0.0, bar_style='info', description='Progress:', layout=Layout(height='25px', width='50%'),…"
      ]
     },
     "metadata": {},
     "output_type": "display_data"
    },
    {
     "name": "stdout",
     "output_type": "stream",
     "text": [
      "+-------+-----+\n",
      "| userID|songs|\n",
      "+-------+-----+\n",
      "|1142513|   19|\n",
      "|1972195|   83|\n",
      "|1883991|   46|\n",
      "|1816626|    6|\n",
      "|1869054|   44|\n",
      "+-------+-----+\n",
      "only showing top 5 rows"
     ]
    }
   ],
   "source": [
    "songs_df = df.select('userID', 'page').where(df.page == 'Add to Playlist').groupBy('userID').count() \\\n",
    "                    .withColumnRenamed('count', 'songs')\n",
    "\n",
    "songs_df.show(5)\n",
    "\n",
    "features.append(songs_df)"
   ]
  },
  {
   "cell_type": "markdown",
   "metadata": {},
   "source": [
    "#### 2. Gender\n",
    "Set Female to 1, Male to 0"
   ]
  },
  {
   "cell_type": "code",
   "execution_count": 39,
   "metadata": {},
   "outputs": [
    {
     "data": {
      "application/vnd.jupyter.widget-view+json": {
       "model_id": "dacbb95d5eb344ea9a172df172bf6207",
       "version_major": 2,
       "version_minor": 0
      },
      "text/plain": [
       "VBox()"
      ]
     },
     "metadata": {},
     "output_type": "display_data"
    },
    {
     "data": {
      "application/vnd.jupyter.widget-view+json": {
       "model_id": "",
       "version_major": 2,
       "version_minor": 0
      },
      "text/plain": [
       "FloatProgress(value=0.0, bar_style='info', description='Progress:', layout=Layout(height='25px', width='50%'),…"
      ]
     },
     "metadata": {},
     "output_type": "display_data"
    },
    {
     "name": "stdout",
     "output_type": "stream",
     "text": [
      "+-------+------+\n",
      "| userId|gender|\n",
      "+-------+------+\n",
      "|1390009|     0|\n",
      "|1492713|     0|\n",
      "|1114507|     1|\n",
      "|1338783|     1|\n",
      "|1010669|     0|\n",
      "+-------+------+\n",
      "only showing top 5 rows"
     ]
    }
   ],
   "source": [
    "gender_df = df.groupby('userId').agg(first(when(col('gender') == \"F\", 1).otherwise(0)).alias('gender'))\n",
    "\n",
    "gender_df.show(5)\n",
    "\n",
    "features.append(gender_df)"
   ]
  },
  {
   "cell_type": "markdown",
   "metadata": {},
   "source": [
    "#### 3. Number of thumbs down"
   ]
  },
  {
   "cell_type": "code",
   "execution_count": 40,
   "metadata": {},
   "outputs": [
    {
     "data": {
      "application/vnd.jupyter.widget-view+json": {
       "model_id": "c35279b3e8c34ff596460aad838088d8",
       "version_major": 2,
       "version_minor": 0
      },
      "text/plain": [
       "VBox()"
      ]
     },
     "metadata": {},
     "output_type": "display_data"
    },
    {
     "data": {
      "application/vnd.jupyter.widget-view+json": {
       "model_id": "",
       "version_major": 2,
       "version_minor": 0
      },
      "text/plain": [
       "FloatProgress(value=0.0, bar_style='info', description='Progress:', layout=Layout(height='25px', width='50%'),…"
      ]
     },
     "metadata": {},
     "output_type": "display_data"
    },
    {
     "name": "stdout",
     "output_type": "stream",
     "text": [
      "+-------+--------------+\n",
      "| userId|thumbs_down_df|\n",
      "+-------+--------------+\n",
      "|1142513|             4|\n",
      "|1972195|            35|\n",
      "|1816626|             2|\n",
      "|1869054|            19|\n",
      "|1344069|            25|\n",
      "+-------+--------------+\n",
      "only showing top 5 rows"
     ]
    }
   ],
   "source": [
    "thumbs_down_df = df.select('userId', 'page').where(df.page == 'Thumbs Down').groupBy('userId').count() \\\n",
    "                    .withColumnRenamed('count', 'thumbs_down_df')\n",
    "\n",
    "thumbs_down_df.show(5)\n",
    "\n",
    "features.append(thumbs_down_df)"
   ]
  },
  {
   "cell_type": "markdown",
   "metadata": {},
   "source": [
    "#### 4. Number of thumbs up"
   ]
  },
  {
   "cell_type": "code",
   "execution_count": 41,
   "metadata": {},
   "outputs": [
    {
     "data": {
      "application/vnd.jupyter.widget-view+json": {
       "model_id": "bf08dfb7def94b49a56e0b53e650b296",
       "version_major": 2,
       "version_minor": 0
      },
      "text/plain": [
       "VBox()"
      ]
     },
     "metadata": {},
     "output_type": "display_data"
    },
    {
     "data": {
      "application/vnd.jupyter.widget-view+json": {
       "model_id": "",
       "version_major": 2,
       "version_minor": 0
      },
      "text/plain": [
       "FloatProgress(value=0.0, bar_style='info', description='Progress:', layout=Layout(height='25px', width='50%'),…"
      ]
     },
     "metadata": {},
     "output_type": "display_data"
    },
    {
     "name": "stdout",
     "output_type": "stream",
     "text": [
      "+-------+------------+\n",
      "| userId|thumbs_up_df|\n",
      "+-------+------------+\n",
      "|1142513|          22|\n",
      "|1271218|         250|\n",
      "|1883991|          70|\n",
      "|1816626|          11|\n",
      "|1869054|          93|\n",
      "+-------+------------+\n",
      "only showing top 5 rows"
     ]
    }
   ],
   "source": [
    "thumbs_up_df = df.select('userId', 'page').where(df.page == 'Thumbs Up').groupBy('userId').count() \\\n",
    "                    .withColumnRenamed('count', 'thumbs_up_df')\n",
    "thumbs_up_df.show(5)\n",
    "\n",
    "features.append(thumbs_up_df)"
   ]
  },
  {
   "cell_type": "markdown",
   "metadata": {},
   "source": [
    "#### 5. Total time since registration"
   ]
  },
  {
   "cell_type": "code",
   "execution_count": 42,
   "metadata": {},
   "outputs": [
    {
     "data": {
      "application/vnd.jupyter.widget-view+json": {
       "model_id": "5205069b5fc9420e8563883c5bfa037a",
       "version_major": 2,
       "version_minor": 0
      },
      "text/plain": [
       "VBox()"
      ]
     },
     "metadata": {},
     "output_type": "display_data"
    },
    {
     "data": {
      "application/vnd.jupyter.widget-view+json": {
       "model_id": "",
       "version_major": 2,
       "version_minor": 0
      },
      "text/plain": [
       "FloatProgress(value=0.0, bar_style='info', description='Progress:', layout=Layout(height='25px', width='50%'),…"
      ]
     },
     "metadata": {},
     "output_type": "display_data"
    },
    {
     "name": "stdout",
     "output_type": "stream",
     "text": [
      "+-------+-----------------------+\n",
      "| userId|time_since_registration|\n",
      "+-------+-----------------------+\n",
      "|1567623|              9177633.0|\n",
      "|1271218|              7515628.0|\n",
      "|1142513|            1.0118609E7|\n",
      "|1396135|            1.0209562E7|\n",
      "|1180406|            1.5441272E7|\n",
      "+-------+-----------------------+\n",
      "only showing top 5 rows"
     ]
    }
   ],
   "source": [
    "time_since_registration_df = df.groupby(['userId', 'ts', 'registration']).count() \\\n",
    "                    .withColumn('life_time', (df.ts - df.registration) / 1000) \\\n",
    "                    .groupBy('userId').agg({'life_time' : 'max'}) \\\n",
    "                    .withColumnRenamed('max(life_time)', 'time_since_registration')\n",
    "\n",
    "time_since_registration_df.show(5)\n",
    "\n",
    "features.append(time_since_registration_df)"
   ]
  },
  {
   "cell_type": "markdown",
   "metadata": {},
   "source": [
    "#### 6. Average songs played per session"
   ]
  },
  {
   "cell_type": "code",
   "execution_count": 43,
   "metadata": {},
   "outputs": [
    {
     "data": {
      "application/vnd.jupyter.widget-view+json": {
       "model_id": "3df2041b1af3434d9a8dfe21f17d7f40",
       "version_major": 2,
       "version_minor": 0
      },
      "text/plain": [
       "VBox()"
      ]
     },
     "metadata": {},
     "output_type": "display_data"
    },
    {
     "data": {
      "application/vnd.jupyter.widget-view+json": {
       "model_id": "",
       "version_major": 2,
       "version_minor": 0
      },
      "text/plain": [
       "FloatProgress(value=0.0, bar_style='info', description='Progress:', layout=Layout(height='25px', width='50%'),…"
      ]
     },
     "metadata": {},
     "output_type": "display_data"
    },
    {
     "name": "stdout",
     "output_type": "stream",
     "text": [
      "+-------+-------------------+\n",
      "| userId|avg_songs_p_session|\n",
      "+-------+-------------------+\n",
      "|1699838| 55.666666666666664|\n",
      "|1380035|  74.84615384615384|\n",
      "|1349958|  75.65384615384616|\n",
      "|1338783|           104.5625|\n",
      "|1440693|             20.875|\n",
      "+-------+-------------------+\n",
      "only showing top 5 rows"
     ]
    }
   ],
   "source": [
    "avg_songs_p_session_df = df.where(df.song.isNotNull()).groupby(['userId', 'sessionId']).count()\\\n",
    "                            .groupby(['userId']).agg({'count': 'avg'}) \\\n",
    "                            .withColumnRenamed('avg(count)', 'avg_songs_p_session')\n",
    "\n",
    "avg_songs_p_session_df.show(5)\n",
    "\n",
    "features.append(avg_songs_p_session_df)"
   ]
  },
  {
   "cell_type": "markdown",
   "metadata": {},
   "source": [
    "#### 7. Number of songs added to playlist"
   ]
  },
  {
   "cell_type": "code",
   "execution_count": 44,
   "metadata": {},
   "outputs": [
    {
     "data": {
      "application/vnd.jupyter.widget-view+json": {
       "model_id": "4c2994e8ec4e46f49819863a74258493",
       "version_major": 2,
       "version_minor": 0
      },
      "text/plain": [
       "VBox()"
      ]
     },
     "metadata": {},
     "output_type": "display_data"
    },
    {
     "data": {
      "application/vnd.jupyter.widget-view+json": {
       "model_id": "",
       "version_major": 2,
       "version_minor": 0
      },
      "text/plain": [
       "FloatProgress(value=0.0, bar_style='info', description='Progress:', layout=Layout(height='25px', width='50%'),…"
      ]
     },
     "metadata": {},
     "output_type": "display_data"
    },
    {
     "name": "stdout",
     "output_type": "stream",
     "text": [
      "+-------+-----------------+\n",
      "| userID|songs_in_playlist|\n",
      "+-------+-----------------+\n",
      "|1567623|               39|\n",
      "|1271218|              137|\n",
      "|1142513|               19|\n",
      "|1492713|               20|\n",
      "|1816626|                6|\n",
      "+-------+-----------------+\n",
      "only showing top 5 rows"
     ]
    }
   ],
   "source": [
    "songs_in_playlist_df = df.select('userID', 'page') \\\n",
    "                            .where(df.page == 'Add to Playlist').groupBy('userID').count() \\\n",
    "                            .withColumnRenamed('count', 'songs_in_playlist')\n",
    "\n",
    "songs_in_playlist_df.show(5)\n",
    "\n",
    "features.append(songs_in_playlist_df)"
   ]
  },
  {
   "cell_type": "markdown",
   "metadata": {},
   "source": [
    "#### 8. Total number of friends"
   ]
  },
  {
   "cell_type": "code",
   "execution_count": 45,
   "metadata": {},
   "outputs": [
    {
     "data": {
      "application/vnd.jupyter.widget-view+json": {
       "model_id": "25f02142a3c7428997f1b51579e67dde",
       "version_major": 2,
       "version_minor": 0
      },
      "text/plain": [
       "VBox()"
      ]
     },
     "metadata": {},
     "output_type": "display_data"
    },
    {
     "data": {
      "application/vnd.jupyter.widget-view+json": {
       "model_id": "",
       "version_major": 2,
       "version_minor": 0
      },
      "text/plain": [
       "FloatProgress(value=0.0, bar_style='info', description='Progress:', layout=Layout(height='25px', width='50%'),…"
      ]
     },
     "metadata": {},
     "output_type": "display_data"
    },
    {
     "name": "stdout",
     "output_type": "stream",
     "text": [
      "+-------+-----------------+\n",
      "| userId|number_of_friends|\n",
      "+-------+-----------------+\n",
      "|1142513|             16.0|\n",
      "|1010669|             77.0|\n",
      "|1031677|              1.0|\n",
      "|1883991|             18.0|\n",
      "|1110773|             10.0|\n",
      "+-------+-----------------+\n",
      "only showing top 5 rows"
     ]
    }
   ],
   "source": [
    "number_of_friends_df = df.where('page == \"Add Friend\"').groupby(['userId']).count()\\\n",
    "                        .groupby(['userId']).agg({'count': 'avg'}).withColumnRenamed('avg(count)', 'number_of_friends')\n",
    "                                                                 \n",
    "number_of_friends_df.show(5)\n",
    "\n",
    "features.append(number_of_friends_df)"
   ]
  },
  {
   "cell_type": "markdown",
   "metadata": {},
   "source": [
    "#### 9. Help page visits "
   ]
  },
  {
   "cell_type": "code",
   "execution_count": 46,
   "metadata": {},
   "outputs": [
    {
     "data": {
      "application/vnd.jupyter.widget-view+json": {
       "model_id": "aad7fe10e99e472b87c03cffcdadaa7d",
       "version_major": 2,
       "version_minor": 0
      },
      "text/plain": [
       "VBox()"
      ]
     },
     "metadata": {},
     "output_type": "display_data"
    },
    {
     "data": {
      "application/vnd.jupyter.widget-view+json": {
       "model_id": "",
       "version_major": 2,
       "version_minor": 0
      },
      "text/plain": [
       "FloatProgress(value=0.0, bar_style='info', description='Progress:', layout=Layout(height='25px', width='50%'),…"
      ]
     },
     "metadata": {},
     "output_type": "display_data"
    },
    {
     "name": "stdout",
     "output_type": "stream",
     "text": [
      "+-------+-----------+\n",
      "| userId|help_visits|\n",
      "+-------+-----------+\n",
      "|1567623|          5|\n",
      "|1271218|         27|\n",
      "|1142513|          4|\n",
      "|1492713|          5|\n",
      "|1010669|         14|\n",
      "+-------+-----------+\n",
      "only showing top 5 rows"
     ]
    }
   ],
   "source": [
    "help_df = df.groupby('userId').agg(Fsum(when(col('page') == 'Help', 1).otherwise(0)).alias('help_visits'))\n",
    "\n",
    "help_df.show(5)\n",
    "\n",
    "features.append(help_df)"
   ]
  },
  {
   "cell_type": "markdown",
   "metadata": {},
   "source": [
    "#### 10. Settings page visits"
   ]
  },
  {
   "cell_type": "code",
   "execution_count": 47,
   "metadata": {},
   "outputs": [
    {
     "data": {
      "application/vnd.jupyter.widget-view+json": {
       "model_id": "063ae48b758e409e9f827abbf89c2a49",
       "version_major": 2,
       "version_minor": 0
      },
      "text/plain": [
       "VBox()"
      ]
     },
     "metadata": {},
     "output_type": "display_data"
    },
    {
     "data": {
      "application/vnd.jupyter.widget-view+json": {
       "model_id": "",
       "version_major": 2,
       "version_minor": 0
      },
      "text/plain": [
       "FloatProgress(value=0.0, bar_style='info', description='Progress:', layout=Layout(height='25px', width='50%'),…"
      ]
     },
     "metadata": {},
     "output_type": "display_data"
    },
    {
     "name": "stdout",
     "output_type": "stream",
     "text": [
      "+-------+---------------+\n",
      "| userId|settings_visits|\n",
      "+-------+---------------+\n",
      "|1142513|              4|\n",
      "|1492713|              3|\n",
      "|1396135|              7|\n",
      "|1271218|             24|\n",
      "|1972195|             22|\n",
      "+-------+---------------+\n",
      "only showing top 5 rows"
     ]
    }
   ],
   "source": [
    "settings_df = df.groupby('userId').agg(Fsum(when(col('page') == 'Settings', 1).otherwise(0)).alias('settings_visits'))\n",
    "\n",
    "settings_df.show(5)\n",
    "\n",
    "features.append(settings_df)"
   ]
  },
  {
   "cell_type": "markdown",
   "metadata": {},
   "source": [
    "#### 11. Errors"
   ]
  },
  {
   "cell_type": "code",
   "execution_count": 48,
   "metadata": {},
   "outputs": [
    {
     "data": {
      "application/vnd.jupyter.widget-view+json": {
       "model_id": "f0b5dcb603a44304aae38186cdca116a",
       "version_major": 2,
       "version_minor": 0
      },
      "text/plain": [
       "VBox()"
      ]
     },
     "metadata": {},
     "output_type": "display_data"
    },
    {
     "data": {
      "application/vnd.jupyter.widget-view+json": {
       "model_id": "",
       "version_major": 2,
       "version_minor": 0
      },
      "text/plain": [
       "FloatProgress(value=0.0, bar_style='info', description='Progress:', layout=Layout(height='25px', width='50%'),…"
      ]
     },
     "metadata": {},
     "output_type": "display_data"
    },
    {
     "name": "stdout",
     "output_type": "stream",
     "text": [
      "+-------+------+\n",
      "| userId|errors|\n",
      "+-------+------+\n",
      "|1142513|     1|\n",
      "|1492713|     0|\n",
      "|1396135|     0|\n",
      "|1271218|     6|\n",
      "|1972195|     2|\n",
      "+-------+------+\n",
      "only showing top 5 rows"
     ]
    }
   ],
   "source": [
    "errors_df = df.groupby('userId').agg(Fsum(when(col('page') == 'Error', 1).otherwise(0)).alias('errors'))\n",
    "\n",
    "errors_df.show(5)\n",
    "\n",
    "features.append(errors_df)"
   ]
  },
  {
   "cell_type": "markdown",
   "metadata": {},
   "source": [
    "#### 12. Downgrade"
   ]
  },
  {
   "cell_type": "code",
   "execution_count": 49,
   "metadata": {},
   "outputs": [
    {
     "data": {
      "application/vnd.jupyter.widget-view+json": {
       "model_id": "a1e559cfcaea4238b776368e22b13e85",
       "version_major": 2,
       "version_minor": 0
      },
      "text/plain": [
       "VBox()"
      ]
     },
     "metadata": {},
     "output_type": "display_data"
    },
    {
     "data": {
      "application/vnd.jupyter.widget-view+json": {
       "model_id": "",
       "version_major": 2,
       "version_minor": 0
      },
      "text/plain": [
       "FloatProgress(value=0.0, bar_style='info', description='Progress:', layout=Layout(height='25px', width='50%'),…"
      ]
     },
     "metadata": {},
     "output_type": "display_data"
    },
    {
     "name": "stdout",
     "output_type": "stream",
     "text": [
      "+-------+---------+\n",
      "| userId|downgrade|\n",
      "+-------+---------+\n",
      "|1892796|        0|\n",
      "|1520845|        0|\n",
      "|1101016|        0|\n",
      "|1484091|        0|\n",
      "|1790654|        0|\n",
      "+-------+---------+\n",
      "only showing top 5 rows"
     ]
    }
   ],
   "source": [
    "downgrade_df = df.select('userId', 'downgrade').dropDuplicates()\n",
    "\n",
    "downgrade_df.show(5)\n",
    "\n",
    "features.append(downgrade_df)"
   ]
  },
  {
   "cell_type": "markdown",
   "metadata": {},
   "source": [
    "#### 13. Paid/Free users (last)\n",
    "\n",
    "Set paid users to 1, free to 0"
   ]
  },
  {
   "cell_type": "code",
   "execution_count": 50,
   "metadata": {},
   "outputs": [
    {
     "data": {
      "application/vnd.jupyter.widget-view+json": {
       "model_id": "70b981dc35384fd88e4146a50192934e",
       "version_major": 2,
       "version_minor": 0
      },
      "text/plain": [
       "VBox()"
      ]
     },
     "metadata": {},
     "output_type": "display_data"
    },
    {
     "data": {
      "application/vnd.jupyter.widget-view+json": {
       "model_id": "",
       "version_major": 2,
       "version_minor": 0
      },
      "text/plain": [
       "FloatProgress(value=0.0, bar_style='info', description='Progress:', layout=Layout(height='25px', width='50%'),…"
      ]
     },
     "metadata": {},
     "output_type": "display_data"
    },
    {
     "name": "stdout",
     "output_type": "stream",
     "text": [
      "+-------+-----+\n",
      "| userId|level|\n",
      "+-------+-----+\n",
      "|1567623|    1|\n",
      "|1271218|    1|\n",
      "|1142513|    0|\n",
      "|1492713|    0|\n",
      "|1010669|    1|\n",
      "+-------+-----+\n",
      "only showing top 5 rows"
     ]
    }
   ],
   "source": [
    "level_df = df.groupby('userId').agg(last(when(col('level') == 'paid', 1).otherwise(0)).alias('level'))\n",
    "\n",
    "level_df.show(5)\n",
    "\n",
    "features.append(level_df)"
   ]
  },
  {
   "cell_type": "markdown",
   "metadata": {},
   "source": [
    "#### 14. Churn (target)"
   ]
  },
  {
   "cell_type": "code",
   "execution_count": 51,
   "metadata": {},
   "outputs": [
    {
     "data": {
      "application/vnd.jupyter.widget-view+json": {
       "model_id": "669d53a4a69c406fa2b8248e2ced796c",
       "version_major": 2,
       "version_minor": 0
      },
      "text/plain": [
       "VBox()"
      ]
     },
     "metadata": {},
     "output_type": "display_data"
    },
    {
     "data": {
      "application/vnd.jupyter.widget-view+json": {
       "model_id": "",
       "version_major": 2,
       "version_minor": 0
      },
      "text/plain": [
       "FloatProgress(value=0.0, bar_style='info', description='Progress:', layout=Layout(height='25px', width='50%'),…"
      ]
     },
     "metadata": {},
     "output_type": "display_data"
    },
    {
     "name": "stdout",
     "output_type": "stream",
     "text": [
      "+-------+----------+\n",
      "| userId|user_churn|\n",
      "+-------+----------+\n",
      "|1001393|         0|\n",
      "|1002143|         0|\n",
      "|1002493|         1|\n",
      "|1002749|         0|\n",
      "|1004060|         0|\n",
      "+-------+----------+\n",
      "only showing top 5 rows"
     ]
    }
   ],
   "source": [
    "churn = df.select('userId', 'user_churn').dropDuplicates()\n",
    "\n",
    "churn.show(5)\n",
    "\n",
    "features.append(churn)"
   ]
  },
  {
   "cell_type": "code",
   "execution_count": 52,
   "metadata": {},
   "outputs": [
    {
     "data": {
      "application/vnd.jupyter.widget-view+json": {
       "model_id": "16752144d79b410f9ac4030c7cd208ba",
       "version_major": 2,
       "version_minor": 0
      },
      "text/plain": [
       "VBox()"
      ]
     },
     "metadata": {},
     "output_type": "display_data"
    },
    {
     "data": {
      "application/vnd.jupyter.widget-view+json": {
       "model_id": "",
       "version_major": 2,
       "version_minor": 0
      },
      "text/plain": [
       "FloatProgress(value=0.0, bar_style='info', description='Progress:', layout=Layout(height='25px', width='50%'),…"
      ]
     },
     "metadata": {},
     "output_type": "display_data"
    },
    {
     "name": "stdout",
     "output_type": "stream",
     "text": [
      "[DataFrame[userID: string, songs: bigint], DataFrame[userId: string, gender: int], DataFrame[userId: string, thumbs_down_df: bigint], DataFrame[userId: string, thumbs_up_df: bigint], DataFrame[userId: string, time_since_registration: double], DataFrame[userId: string, avg_songs_p_session: double], DataFrame[userID: string, songs_in_playlist: bigint], DataFrame[userId: string, number_of_friends: double], DataFrame[userId: string, help_visits: bigint], DataFrame[userId: string, settings_visits: bigint], DataFrame[userId: string, errors: bigint], DataFrame[userId: string, downgrade: int], DataFrame[userId: string, level: int], DataFrame[userId: string, user_churn: int]]"
     ]
    }
   ],
   "source": [
    "print(features)"
   ]
  },
  {
   "cell_type": "code",
   "execution_count": 53,
   "metadata": {},
   "outputs": [
    {
     "data": {
      "application/vnd.jupyter.widget-view+json": {
       "model_id": "b59c7a1ddf314d369f590ddaef4d2ca7",
       "version_major": 2,
       "version_minor": 0
      },
      "text/plain": [
       "VBox()"
      ]
     },
     "metadata": {},
     "output_type": "display_data"
    },
    {
     "data": {
      "application/vnd.jupyter.widget-view+json": {
       "model_id": "",
       "version_major": 2,
       "version_minor": 0
      },
      "text/plain": [
       "FloatProgress(value=0.0, bar_style='info', description='Progress:', layout=Layout(height='25px', width='50%'),…"
      ]
     },
     "metadata": {},
     "output_type": "display_data"
    },
    {
     "name": "stdout",
     "output_type": "stream",
     "text": [
      "+-------+----------+-----+---------+------+---------------+-----------+-----------------+-----------------+-------------------+-----------------------+------------+--------------+------+-----+\n",
      "| userId|user_churn|level|downgrade|errors|settings_visits|help_visits|number_of_friends|songs_in_playlist|avg_songs_p_session|time_since_registration|thumbs_up_df|thumbs_down_df|gender|songs|\n",
      "+-------+----------+-----+---------+------+---------------+-----------+-----------------+-----------------+-------------------+-----------------------+------------+--------------+------+-----+\n",
      "|1001393|         0|    1|        0|     1|              8|          6|             11.0|               18|  70.57142857142857|              5173895.0|          43|             6|     0|   18|\n",
      "|1002143|         0|    1|        0|     0|              4|          4|             14.0|               10|             44.875|              6874233.0|          24|             5|     0|   10|\n",
      "|1002493|         1|    0|        0|     0|              3|          5|              6.0|               12|              130.0|               918698.0|          16|             8|     0|   12|\n",
      "|1002493|         1|    0|        1|     0|              3|          5|              6.0|               12|              130.0|               918698.0|          16|             8|     0|   12|\n",
      "|1002749|         0|    1|        0|     0|              4|          3|             27.0|               35|              80.75|              6875556.0|          59|            18|     0|   35|\n",
      "+-------+----------+-----+---------+------+---------------+-----------+-----------------+-----------------+-------------------+-----------------------+------------+--------------+------+-----+\n",
      "only showing top 5 rows"
     ]
    }
   ],
   "source": [
    "final_df = songs_df\n",
    "\n",
    "def merging_dataframes(a_df, b_df):\n",
    "    '''  \n",
    "    INPUT: \n",
    "    df1, df2 - dataframes to be merged\n",
    "    \n",
    "    OUTPUT: \n",
    "    df - merged dataframe\n",
    "    \n",
    "    Description: \n",
    "    Join dataframes\n",
    "    '''\n",
    "    \n",
    "    merged_df = b_df.join(a_df, on=['userId'], how='left')\n",
    "    \n",
    "    return merged_df\n",
    "\n",
    "for names in features[1:]:\n",
    "    final_df = merging_dataframes(final_df, names)\n",
    "\n",
    "# fill nans\n",
    "final_df = final_df.na.fill(0)\n",
    "final_df.show(5)"
   ]
  },
  {
   "cell_type": "code",
   "execution_count": 54,
   "metadata": {},
   "outputs": [
    {
     "data": {
      "application/vnd.jupyter.widget-view+json": {
       "model_id": "cabf79751ddd4c8ea3246da1cbfc5d40",
       "version_major": 2,
       "version_minor": 0
      },
      "text/plain": [
       "VBox()"
      ]
     },
     "metadata": {},
     "output_type": "display_data"
    },
    {
     "data": {
      "application/vnd.jupyter.widget-view+json": {
       "model_id": "",
       "version_major": 2,
       "version_minor": 0
      },
      "text/plain": [
       "FloatProgress(value=0.0, bar_style='info', description='Progress:', layout=Layout(height='25px', width='50%'),…"
      ]
     },
     "metadata": {},
     "output_type": "display_data"
    },
    {
     "name": "stdout",
     "output_type": "stream",
     "text": [
      "root\n",
      " |-- userId: string (nullable = true)\n",
      " |-- user_churn: integer (nullable = true)\n",
      " |-- level: integer (nullable = true)\n",
      " |-- downgrade: integer (nullable = true)\n",
      " |-- errors: long (nullable = true)\n",
      " |-- settings_visits: long (nullable = true)\n",
      " |-- help_visits: long (nullable = true)\n",
      " |-- number_of_friends: double (nullable = false)\n",
      " |-- songs_in_playlist: long (nullable = true)\n",
      " |-- avg_songs_p_session: double (nullable = false)\n",
      " |-- time_since_registration: double (nullable = false)\n",
      " |-- thumbs_up_df: long (nullable = true)\n",
      " |-- thumbs_down_df: long (nullable = true)\n",
      " |-- gender: integer (nullable = true)\n",
      " |-- songs: long (nullable = true)"
     ]
    }
   ],
   "source": [
    "final_df.printSchema()"
   ]
  },
  {
   "cell_type": "markdown",
   "metadata": {},
   "source": [
    "## Modeling"
   ]
  },
  {
   "cell_type": "markdown",
   "metadata": {},
   "source": [
    "Let's split the dataset into training, test, and validation sets. Let's test several machine learning methods. We will evaluate the accuracy of various models, adjusting the parameters if necessary."
   ]
  },
  {
   "cell_type": "markdown",
   "metadata": {},
   "source": [
    "#### Vectorize and Standardizing \n",
    "\n",
    "Let's transform numeric features to Vector Assembler."
   ]
  },
  {
   "cell_type": "code",
   "execution_count": 55,
   "metadata": {},
   "outputs": [
    {
     "data": {
      "application/vnd.jupyter.widget-view+json": {
       "model_id": "4033e9f12b234283b277d21d10767e23",
       "version_major": 2,
       "version_minor": 0
      },
      "text/plain": [
       "VBox()"
      ]
     },
     "metadata": {},
     "output_type": "display_data"
    },
    {
     "data": {
      "application/vnd.jupyter.widget-view+json": {
       "model_id": "",
       "version_major": 2,
       "version_minor": 0
      },
      "text/plain": [
       "FloatProgress(value=0.0, bar_style='info', description='Progress:', layout=Layout(height='25px', width='50%'),…"
      ]
     },
     "metadata": {},
     "output_type": "display_data"
    },
    {
     "name": "stdout",
     "output_type": "stream",
     "text": [
      "['userId', 'user_churn', 'level', 'downgrade', 'errors', 'settings_visits', 'help_visits', 'number_of_friends', 'songs_in_playlist', 'avg_songs_p_session', 'time_since_registration', 'thumbs_up_df', 'thumbs_down_df', 'gender', 'songs']"
     ]
    }
   ],
   "source": [
    "final_df.columns"
   ]
  },
  {
   "cell_type": "code",
   "execution_count": 56,
   "metadata": {},
   "outputs": [
    {
     "data": {
      "application/vnd.jupyter.widget-view+json": {
       "model_id": "233f0e07ffc548b6a64e90f0baac3269",
       "version_major": 2,
       "version_minor": 0
      },
      "text/plain": [
       "VBox()"
      ]
     },
     "metadata": {},
     "output_type": "display_data"
    },
    {
     "data": {
      "application/vnd.jupyter.widget-view+json": {
       "model_id": "",
       "version_major": 2,
       "version_minor": 0
      },
      "text/plain": [
       "FloatProgress(value=0.0, bar_style='info', description='Progress:', layout=Layout(height='25px', width='50%'),…"
      ]
     },
     "metadata": {},
     "output_type": "display_data"
    }
   ],
   "source": [
    "# Let's transform numeric features to Vector Assembler\n",
    "num_vector = VectorAssembler(inputCols=['downgrade', 'errors', 'settings_visits', \n",
    "                                        'help_visits', 'number_of_friends', 'songs_in_playlist', \n",
    "                                        'avg_songs_p_session', 'time_since_registration', 'thumbs_up_df', \n",
    "                                        'thumbs_down_df', 'songs','level', 'gender'], \n",
    "                             outputCol='num_vector_assem')\n",
    "\n",
    "num_scaler = StandardScaler(inputCol='num_vector_assem', outputCol ='num_vector_sc', withStd=True, withMean=True)\n",
    "\n",
    "final_vector = VectorAssembler(inputCols=['level', 'gender']+['num_vector_sc'], \n",
    "                               outputCol='features_vector')"
   ]
  },
  {
   "cell_type": "code",
   "execution_count": 57,
   "metadata": {},
   "outputs": [
    {
     "data": {
      "application/vnd.jupyter.widget-view+json": {
       "model_id": "fc347c974841450fa40d68c277c0bd31",
       "version_major": 2,
       "version_minor": 0
      },
      "text/plain": [
       "VBox()"
      ]
     },
     "metadata": {},
     "output_type": "display_data"
    },
    {
     "data": {
      "application/vnd.jupyter.widget-view+json": {
       "model_id": "",
       "version_major": 2,
       "version_minor": 0
      },
      "text/plain": [
       "FloatProgress(value=0.0, bar_style='info', description='Progress:', layout=Layout(height='25px', width='50%'),…"
      ]
     },
     "metadata": {},
     "output_type": "display_data"
    }
   ],
   "source": [
    "data = num_vector.transform(final_df)\n",
    "\n",
    "feature_standardize = num_scaler.fit(data)\n",
    "data = feature_standardize.transform(data)\n",
    "\n",
    "data = final_vector.transform(data)"
   ]
  },
  {
   "cell_type": "code",
   "execution_count": 58,
   "metadata": {},
   "outputs": [
    {
     "data": {
      "application/vnd.jupyter.widget-view+json": {
       "model_id": "0f8d7d0aea5045bab7823e54b820149f",
       "version_major": 2,
       "version_minor": 0
      },
      "text/plain": [
       "VBox()"
      ]
     },
     "metadata": {},
     "output_type": "display_data"
    },
    {
     "data": {
      "application/vnd.jupyter.widget-view+json": {
       "model_id": "",
       "version_major": 2,
       "version_minor": 0
      },
      "text/plain": [
       "FloatProgress(value=0.0, bar_style='info', description='Progress:', layout=Layout(height='25px', width='50%'),…"
      ]
     },
     "metadata": {},
     "output_type": "display_data"
    },
    {
     "name": "stdout",
     "output_type": "stream",
     "text": [
      "+----------+--------------------+\n",
      "|user_churn|     features_vector|\n",
      "+----------+--------------------+\n",
      "|         0|[1.0,0.0,-0.47859...|\n",
      "|         0|[1.0,0.0,-0.47859...|\n",
      "|         1|[1.0,0.0,2.089379...|\n",
      "|         1|[1.0,0.0,-0.47859...|\n",
      "|         0|[1.0,0.0,-0.47859...|\n",
      "+----------+--------------------+\n",
      "only showing top 5 rows"
     ]
    }
   ],
   "source": [
    "data = data.select(data.user_churn, data.features_vector)\n",
    "data.show(5)"
   ]
  },
  {
   "cell_type": "code",
   "execution_count": 59,
   "metadata": {},
   "outputs": [
    {
     "data": {
      "application/vnd.jupyter.widget-view+json": {
       "model_id": "12da47fb13374c18aaaeea299c6c5ad1",
       "version_major": 2,
       "version_minor": 0
      },
      "text/plain": [
       "VBox()"
      ]
     },
     "metadata": {},
     "output_type": "display_data"
    },
    {
     "data": {
      "application/vnd.jupyter.widget-view+json": {
       "model_id": "",
       "version_major": 2,
       "version_minor": 0
      },
      "text/plain": [
       "FloatProgress(value=0.0, bar_style='info', description='Progress:', layout=Layout(height='25px', width='50%'),…"
      ]
     },
     "metadata": {},
     "output_type": "display_data"
    }
   ],
   "source": [
    "# Split Test and Train set\n",
    "train, test = data.randomSplit([0.6, 0.4], seed=42)"
   ]
  },
  {
   "cell_type": "markdown",
   "metadata": {},
   "source": [
    "### Baseline Model\n",
    "\n",
    "We will train three models: Random Forest, Gradient Boosted Trees, and Support Vector Machine. But before we need baseline model. A baseline is the result of a very basic model/solution. Then we will try to make more complex solutions in order to get a better result. If we achieve a better score than the baseline, it is good.\n",
    "\n",
    "We will try to assume that the answer is always zero (No user has canceled their subscription.). This will be our baseline model."
   ]
  },
  {
   "cell_type": "code",
   "execution_count": 60,
   "metadata": {},
   "outputs": [
    {
     "data": {
      "application/vnd.jupyter.widget-view+json": {
       "model_id": "40662f579d844e24b1a2005f04ee33fe",
       "version_major": 2,
       "version_minor": 0
      },
      "text/plain": [
       "VBox()"
      ]
     },
     "metadata": {},
     "output_type": "display_data"
    },
    {
     "data": {
      "application/vnd.jupyter.widget-view+json": {
       "model_id": "",
       "version_major": 2,
       "version_minor": 0
      },
      "text/plain": [
       "FloatProgress(value=0.0, bar_style='info', description='Progress:', layout=Layout(height='25px', width='50%'),…"
      ]
     },
     "metadata": {},
     "output_type": "display_data"
    },
    {
     "name": "stdout",
     "output_type": "stream",
     "text": [
      "+----------+--------------------+----------+\n",
      "|user_churn|     features_vector|prediction|\n",
      "+----------+--------------------+----------+\n",
      "|         0|[0.0,0.0,-0.47859...|       0.0|\n",
      "|         0|[0.0,0.0,-0.47859...|       0.0|\n",
      "|         0|[0.0,0.0,-0.47859...|       0.0|\n",
      "|         0|[0.0,0.0,-0.47859...|       0.0|\n",
      "|         0|[0.0,0.0,-0.47859...|       0.0|\n",
      "+----------+--------------------+----------+\n",
      "only showing top 5 rows"
     ]
    }
   ],
   "source": [
    "#baseline model\n",
    "baseline = test.withColumn('prediction', lit(0.0))\n",
    "baseline.show(5)"
   ]
  },
  {
   "cell_type": "code",
   "execution_count": 61,
   "metadata": {},
   "outputs": [
    {
     "data": {
      "application/vnd.jupyter.widget-view+json": {
       "model_id": "001729e56b2a4f8b81b0bedf0d8def4f",
       "version_major": 2,
       "version_minor": 0
      },
      "text/plain": [
       "VBox()"
      ]
     },
     "metadata": {},
     "output_type": "display_data"
    },
    {
     "data": {
      "application/vnd.jupyter.widget-view+json": {
       "model_id": "",
       "version_major": 2,
       "version_minor": 0
      },
      "text/plain": [
       "FloatProgress(value=0.0, bar_style='info', description='Progress:', layout=Layout(height='25px', width='50%'),…"
      ]
     },
     "metadata": {},
     "output_type": "display_data"
    }
   ],
   "source": [
    "# function for printing results\n",
    "def evaluate_print(model_result, model_name, start, end):\n",
    "    ''' \n",
    "    INPUT:\n",
    "    model_result - result\n",
    "    model_name - string\n",
    "    start, end - training time start and end\n",
    "    \n",
    "    OUTPUT: None\n",
    "    \n",
    "    Description:\n",
    "    The function prints results and total time of the training\n",
    "    \n",
    "    '''\n",
    "    \n",
    "    evaluator = MulticlassClassificationEvaluator(predictionCol='prediction')\n",
    "    evaluator.setLabelCol('user_churn')\n",
    "    accuracy = evaluator.evaluate(model_result, {evaluator.metricName : 'accuracy'})\n",
    "    f1 = evaluator.evaluate(model_result, {evaluator.metricName : 'f1'})\n",
    "    time = (end - start)/60\n",
    "    \n",
    "    print('{} performance metrics:'.format(model_name))\n",
    "    print('Accuracy: {}'.format(accuracy))\n",
    "    print('F-1 Score: {}'.format(f1))\n",
    "    print('Total training time: {} minutes'.format(time))"
   ]
  },
  {
   "cell_type": "code",
   "execution_count": 62,
   "metadata": {},
   "outputs": [
    {
     "data": {
      "application/vnd.jupyter.widget-view+json": {
       "model_id": "1f50d2b00926499b978af814decb7109",
       "version_major": 2,
       "version_minor": 0
      },
      "text/plain": [
       "VBox()"
      ]
     },
     "metadata": {},
     "output_type": "display_data"
    },
    {
     "data": {
      "application/vnd.jupyter.widget-view+json": {
       "model_id": "",
       "version_major": 2,
       "version_minor": 0
      },
      "text/plain": [
       "FloatProgress(value=0.0, bar_style='info', description='Progress:', layout=Layout(height='25px', width='50%'),…"
      ]
     },
     "metadata": {},
     "output_type": "display_data"
    },
    {
     "name": "stdout",
     "output_type": "stream",
     "text": [
      "Baseline performance metrics:\n",
      "Accuracy: 0.7731016381572993\n",
      "F-1 Score: 0.6741701999019601\n",
      "Total training time: 0.0 minutes"
     ]
    }
   ],
   "source": [
    "#print baseline model\n",
    "evaluate_print(baseline, 'Baseline', 0, 0)"
   ]
  },
  {
   "cell_type": "markdown",
   "metadata": {},
   "source": [
    "### Random Forest"
   ]
  },
  {
   "cell_type": "code",
   "execution_count": 63,
   "metadata": {},
   "outputs": [
    {
     "data": {
      "application/vnd.jupyter.widget-view+json": {
       "model_id": "41413111df1e4a2aa86dcd147b648a80",
       "version_major": 2,
       "version_minor": 0
      },
      "text/plain": [
       "VBox()"
      ]
     },
     "metadata": {},
     "output_type": "display_data"
    },
    {
     "data": {
      "application/vnd.jupyter.widget-view+json": {
       "model_id": "",
       "version_major": 2,
       "version_minor": 0
      },
      "text/plain": [
       "FloatProgress(value=0.0, bar_style='info', description='Progress:', layout=Layout(height='25px', width='50%'),…"
      ]
     },
     "metadata": {},
     "output_type": "display_data"
    },
    {
     "name": "stderr",
     "output_type": "stream",
     "text": [
      "Exception in thread cell_monitor-63:\n",
      "Traceback (most recent call last):\n",
      "  File \"/opt/conda/lib/python3.7/threading.py\", line 926, in _bootstrap_inner\n",
      "    self.run()\n",
      "  File \"/opt/conda/lib/python3.7/threading.py\", line 870, in run\n",
      "    self._target(*self._args, **self._kwargs)\n",
      "  File \"/opt/conda/lib/python3.7/site-packages/awseditorssparkmonitoringwidget-1.0-py3.7.egg/awseditorssparkmonitoringwidget/cellmonitor.py\", line 178, in cell_monitor\n",
      "    job_binned_stages[job_id][stage_id] = all_stages[stage_id]\n",
      "KeyError: 1475\n",
      "\n"
     ]
    }
   ],
   "source": [
    "numFolds = 3\n",
    "rf = RandomForestClassifier(labelCol='user_churn', featuresCol='features_vector', seed = 42)\n",
    "evaluator = MulticlassClassificationEvaluator(labelCol='user_churn')\n",
    "\n",
    "pipeline = Pipeline(stages=[rf])\n",
    "rf_paramGrid = (ParamGridBuilder()\n",
    "             .addGrid(rf.numTrees, [10,20])\n",
    "             .addGrid(rf.maxDepth, [10,20])\n",
    "             .build())\n",
    "\n",
    "crossval = CrossValidator(\n",
    "    estimator=pipeline,\n",
    "    estimatorParamMaps=rf_paramGrid,\n",
    "    evaluator=evaluator,\n",
    "    numFolds=numFolds)\n",
    "\n",
    "rf_start = time.time()\n",
    "rf_model = crossval.fit(train)\n",
    "rf_end = time.time()"
   ]
  },
  {
   "cell_type": "markdown",
   "metadata": {},
   "source": [
    "We are ignoring KeyError, it doesn't seem to affect the end result:\n",
    "\n",
    "https://stackoverflow.com/questions/58910023/keyerror-when-training-a-model-with-pyspark-ml-on-aws-emr-with-data-from-s3-buck"
   ]
  },
  {
   "cell_type": "code",
   "execution_count": 64,
   "metadata": {
    "scrolled": true
   },
   "outputs": [
    {
     "data": {
      "application/vnd.jupyter.widget-view+json": {
       "model_id": "9c540a5bf98e4584b2275c0e95e652f2",
       "version_major": 2,
       "version_minor": 0
      },
      "text/plain": [
       "VBox()"
      ]
     },
     "metadata": {},
     "output_type": "display_data"
    },
    {
     "data": {
      "application/vnd.jupyter.widget-view+json": {
       "model_id": "",
       "version_major": 2,
       "version_minor": 0
      },
      "text/plain": [
       "FloatProgress(value=0.0, bar_style='info', description='Progress:', layout=Layout(height='25px', width='50%'),…"
      ]
     },
     "metadata": {},
     "output_type": "display_data"
    },
    {
     "name": "stdout",
     "output_type": "stream",
     "text": [
      "Random Forest performance metrics:\n",
      "Accuracy: 0.872115123540592\n",
      "F-1 Score: 0.8571534809089294\n",
      "Total training time: 48.5243045091629 minutes\n",
      "Best number of trees 20, best depth 20"
     ]
    }
   ],
   "source": [
    "rf_results = rf_model.transform(test)\n",
    "\n",
    "evaluate_print(rf_results, 'Random Forest', rf_start, rf_end)\n",
    "\n",
    "best_param = list(rf_model.getEstimatorParamMaps()[np.argmax(rf_model.avgMetrics)].values())\n",
    "print('Best number of trees {}, best depth {}'.format(best_param[0], best_param[1]))"
   ]
  },
  {
   "cell_type": "markdown",
   "metadata": {},
   "source": [
    "### Gradient Boosted Trees"
   ]
  },
  {
   "cell_type": "code",
   "execution_count": 65,
   "metadata": {},
   "outputs": [
    {
     "data": {
      "application/vnd.jupyter.widget-view+json": {
       "model_id": "2948b7a85fb04359be09a6299256dad8",
       "version_major": 2,
       "version_minor": 0
      },
      "text/plain": [
       "VBox()"
      ]
     },
     "metadata": {},
     "output_type": "display_data"
    },
    {
     "data": {
      "application/vnd.jupyter.widget-view+json": {
       "model_id": "",
       "version_major": 2,
       "version_minor": 0
      },
      "text/plain": [
       "FloatProgress(value=0.0, bar_style='info', description='Progress:', layout=Layout(height='25px', width='50%'),…"
      ]
     },
     "metadata": {},
     "output_type": "display_data"
    },
    {
     "name": "stderr",
     "output_type": "stream",
     "text": [
      "Exception in thread cell_monitor-65:\n",
      "Traceback (most recent call last):\n",
      "  File \"/opt/conda/lib/python3.7/threading.py\", line 926, in _bootstrap_inner\n",
      "    self.run()\n",
      "  File \"/opt/conda/lib/python3.7/threading.py\", line 870, in run\n",
      "    self._target(*self._args, **self._kwargs)\n",
      "  File \"/opt/conda/lib/python3.7/site-packages/awseditorssparkmonitoringwidget-1.0-py3.7.egg/awseditorssparkmonitoringwidget/cellmonitor.py\", line 178, in cell_monitor\n",
      "    job_binned_stages[job_id][stage_id] = all_stages[stage_id]\n",
      "KeyError: 6382\n",
      "\n"
     ]
    }
   ],
   "source": [
    "numFolds = 3\n",
    "gbt = GBTClassifier(labelCol='user_churn', featuresCol='features_vector', seed = 42)\n",
    "evaluator = MulticlassClassificationEvaluator(labelCol='user_churn')\n",
    "\n",
    "pipeline = Pipeline(stages=[gbt])\n",
    "gbt_paramGrid = (ParamGridBuilder()\n",
    "                 .addGrid(gbt.maxIter, [10, 20])\n",
    "                 .addGrid(gbt.maxDepth, [10, 20])\n",
    "                 .build())\n",
    "\n",
    "crossval = CrossValidator(\n",
    "    estimator=pipeline,\n",
    "    estimatorParamMaps=gbt_paramGrid,\n",
    "    evaluator=evaluator,\n",
    "    numFolds=numFolds)\n",
    "\n",
    "gbt_start = time.time()\n",
    "gbt_model = crossval.fit(train)\n",
    "gbt_end = time.time()"
   ]
  },
  {
   "cell_type": "code",
   "execution_count": 66,
   "metadata": {},
   "outputs": [
    {
     "data": {
      "application/vnd.jupyter.widget-view+json": {
       "model_id": "849602f6e6ae4ed4abeb09cce2e62981",
       "version_major": 2,
       "version_minor": 0
      },
      "text/plain": [
       "VBox()"
      ]
     },
     "metadata": {},
     "output_type": "display_data"
    },
    {
     "data": {
      "application/vnd.jupyter.widget-view+json": {
       "model_id": "",
       "version_major": 2,
       "version_minor": 0
      },
      "text/plain": [
       "FloatProgress(value=0.0, bar_style='info', description='Progress:', layout=Layout(height='25px', width='50%'),…"
      ]
     },
     "metadata": {},
     "output_type": "display_data"
    },
    {
     "name": "stdout",
     "output_type": "stream",
     "text": [
      "Random Forest performance metrics:\n",
      "Accuracy: 0.8488551000090506\n",
      "F-1 Score: 0.8503837313597932\n",
      "Total training time: 161.23376212914783 minutes\n",
      "Best number of iterations 20, best depth 20"
     ]
    }
   ],
   "source": [
    "gbt_results = gbt_model.transform(test)\n",
    "\n",
    "evaluate_print(gbt_results, 'Gradient Boosted Trees', gbt_start, gbt_end)\n",
    "\n",
    "best_param = list(gbt_model.getEstimatorParamMaps()[np.argmax(rf_model.avgMetrics)].values())\n",
    "print('Best number of iterations {}, best depth {}'.format(best_param[0], best_param[1]))"
   ]
  },
  {
   "cell_type": "markdown",
   "metadata": {},
   "source": [
    "### Support Vector Machine"
   ]
  },
  {
   "cell_type": "code",
   "execution_count": 67,
   "metadata": {},
   "outputs": [
    {
     "data": {
      "application/vnd.jupyter.widget-view+json": {
       "model_id": "cc995ab3a8334ead9909582e1cf357b0",
       "version_major": 2,
       "version_minor": 0
      },
      "text/plain": [
       "VBox()"
      ]
     },
     "metadata": {},
     "output_type": "display_data"
    },
    {
     "data": {
      "application/vnd.jupyter.widget-view+json": {
       "model_id": "",
       "version_major": 2,
       "version_minor": 0
      },
      "text/plain": [
       "FloatProgress(value=0.0, bar_style='info', description='Progress:', layout=Layout(height='25px', width='50%'),…"
      ]
     },
     "metadata": {},
     "output_type": "display_data"
    },
    {
     "name": "stderr",
     "output_type": "stream",
     "text": [
      "Exception in thread cell_monitor-67:\n",
      "Traceback (most recent call last):\n",
      "  File \"/opt/conda/lib/python3.7/threading.py\", line 926, in _bootstrap_inner\n",
      "    self.run()\n",
      "  File \"/opt/conda/lib/python3.7/threading.py\", line 870, in run\n",
      "    self._target(*self._args, **self._kwargs)\n",
      "  File \"/opt/conda/lib/python3.7/site-packages/awseditorssparkmonitoringwidget-1.0-py3.7.egg/awseditorssparkmonitoringwidget/cellmonitor.py\", line 178, in cell_monitor\n",
      "    job_binned_stages[job_id][stage_id] = all_stages[stage_id]\n",
      "KeyError: 73479\n",
      "\n"
     ]
    }
   ],
   "source": [
    "numFolds = 3\n",
    "svc = LinearSVC(labelCol='user_churn', featuresCol='features_vector')\n",
    "evaluator = MulticlassClassificationEvaluator(labelCol='user_churn')\n",
    "\n",
    "pipeline = Pipeline(stages=[svc])\n",
    "svc_paramGrid = (ParamGridBuilder()\n",
    "                 .addGrid(svc.maxIter, [10, 20])\n",
    "                 .build())\n",
    "\n",
    "crossval = CrossValidator(\n",
    "    estimator=pipeline,\n",
    "    estimatorParamMaps=svc_paramGrid,\n",
    "    evaluator=evaluator,\n",
    "    numFolds=numFolds)\n",
    "\n",
    "svc_start = time.time()\n",
    "svc_model = crossval.fit(train)\n",
    "svc_end = time.time()"
   ]
  },
  {
   "cell_type": "code",
   "execution_count": 68,
   "metadata": {},
   "outputs": [
    {
     "data": {
      "application/vnd.jupyter.widget-view+json": {
       "model_id": "d7c972e8a1674784b968e9183aaf389c",
       "version_major": 2,
       "version_minor": 0
      },
      "text/plain": [
       "VBox()"
      ]
     },
     "metadata": {},
     "output_type": "display_data"
    },
    {
     "data": {
      "application/vnd.jupyter.widget-view+json": {
       "model_id": "",
       "version_major": 2,
       "version_minor": 0
      },
      "text/plain": [
       "FloatProgress(value=0.0, bar_style='info', description='Progress:', layout=Layout(height='25px', width='50%'),…"
      ]
     },
     "metadata": {},
     "output_type": "display_data"
    },
    {
     "name": "stdout",
     "output_type": "stream",
     "text": [
      "Support Vector Machine performance metrics:\n",
      "Accuracy: 0.7731016381572993\n",
      "F-1 Score: 0.6741701999019601\n",
      "Total training time: 39.79981347322464 minutes\n",
      "Best number of iterations 10"
     ]
    }
   ],
   "source": [
    "svc_results = svc_model.transform(test)\n",
    "\n",
    "evaluate_print(svc_results, \"Support Vector Machine\", svc_start, svc_end)\n",
    "best_param = list(svc_model.getEstimatorParamMaps()[np.argmax(svc_model.avgMetrics)].values())\n",
    "print('Best number of iterations {}'.format(best_param[0]))"
   ]
  },
  {
   "cell_type": "markdown",
   "metadata": {},
   "source": [
    "## Evaluate models"
   ]
  },
  {
   "cell_type": "markdown",
   "metadata": {},
   "source": [
    "##### Performance ranking:\n",
    "\n",
    "1. Random Forest has F1 score 0.857, Accuracy 0.872\n",
    "2. Gradient Boosted Trees has F1 score 0.850, Accuracy 0.848\n",
    "3. Support Vector Machine has F1 score of 0.674, Accuracy 0.773\n",
    "\n",
    "As we optimized based on F1, Random Forest is the best model."
   ]
  },
  {
   "cell_type": "markdown",
   "metadata": {},
   "source": [
    "## Summary and Future Improvement\n",
    "\n",
    "In this project, I was able to study the Sparkify service dataset and create functions for the modeling process. To begin with, we studied different levels of the dataset, which was the logs of each user session. The dataset allowed me to study churn and create suitable predictive features. I trained three models: Random Forest, Gradient Boosted Trees, and Support Vector Machine. Random Forest proved to be the best and can be used in the future.\n",
    "The main complications that occurred during the coding process were the configuration of the AWS cluster when working with big data. The default gives not enough memory and too little timeout. How I fixed this is written at the beginning of the article.\n",
    "\n",
    "In addition, feature selection was not a trivial task. In the end, I chose a set of 9 features presented above (including the target one).\n",
    "\n",
    "In the future, the model can be improved if we have more data on user behavior or about songs."
   ]
  }
 ],
 "metadata": {
  "kernelspec": {
   "display_name": "PySpark",
   "language": "",
   "name": "pysparkkernel"
  },
  "language_info": {
   "codemirror_mode": {
    "name": "python",
    "version": 2
   },
   "mimetype": "text/x-python",
   "name": "pyspark",
   "pygments_lexer": "python2"
  }
 },
 "nbformat": 4,
 "nbformat_minor": 4
}
